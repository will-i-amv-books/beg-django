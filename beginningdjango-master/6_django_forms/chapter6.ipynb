{
 "cells": [
  {
   "cell_type": "markdown",
   "metadata": {},
   "source": [
    "# Chapter 5 - Django Forms"
   ]
  },
  {
   "cell_type": "markdown",
   "metadata": {},
   "source": [
    "## Django Form Structure and Workflow"
   ]
  },
  {
   "cell_type": "code",
   "execution_count": null,
   "metadata": {},
   "outputs": [],
   "source": [
    "from django import forms\n",
    "from django.shortcuts import render\n",
    "from django.http import HttpResponseRedirect\n"
   ]
  },
  {
   "cell_type": "markdown",
   "metadata": {},
   "source": [
    "6.1. Django form class definition"
   ]
  },
  {
   "cell_type": "code",
   "execution_count": null,
   "metadata": {},
   "outputs": [],
   "source": [
    "# forms.py in 'contact' app \n",
    "\n",
    "class ContactForm(forms.Form):\n",
    "    name = forms.CharField(required=False)\n",
    "    email = forms.EmailField(label='Your email')\n",
    "    comment = forms.CharField(widget=forms.Textarea)\n"
   ]
  },
  {
   "cell_type": "markdown",
   "metadata": {},
   "source": [
    "6.2. Django view method that uses a Django form"
   ]
  },
  {
   "cell_type": "code",
   "execution_count": null,
   "metadata": {},
   "outputs": [],
   "source": [
    "# views.py in 'contact' app\n",
    "from .forms import ContactForm\n",
    "\n",
    "\n",
    "def contact(request):\n",
    "    form = ContactForm()\n",
    "    return render(request,'about/contact.html', {'form':form})\n"
   ]
  },
  {
   "cell_type": "markdown",
   "metadata": {},
   "source": [
    "6.3. Django form instance rendered in template as HTML"
   ]
  },
  {
   "cell_type": "code",
   "execution_count": null,
   "metadata": {},
   "outputs": [],
   "source": [
    "<tr>\n",
    "    <th><label for=\"id_name\">Name:</label></th>\n",
    "    <td><input id=\"id_name\" name=\"name\" type=\"text\"/></td>\n",
    "</tr>\n",
    "<tr>\n",
    "    <th><label for=\"id_email\">Your email:</label></th>\n",
    "    <td><input id=\"id_email\" required name=\"email\" type=\"email\"/></td>\n",
    "</tr>\n",
    "<tr>\n",
    "    <th><label for=\"id_comment\">Comment:</label></th>\n",
    "    <td>\n",
    "        <textarea cols=\"40\" id=\"id_comment\" required name=\"comment\" rows=\"10\"></textarea>\n",
    "    </td>\n",
    "</tr>\n"
   ]
  },
  {
   "cell_type": "markdown",
   "metadata": {},
   "source": [
    "## Functional Web Form Syntax for Django Forms"
   ]
  },
  {
   "cell_type": "markdown",
   "metadata": {},
   "source": [
    "6.4. Django form template declaration for functional web form"
   ]
  },
  {
   "cell_type": "code",
   "execution_count": null,
   "metadata": {},
   "outputs": [],
   "source": [
    "<form method=\"POST\">\n",
    "    {% csrf_token %}\n",
    "    <table>\n",
    "        {{form.as_table}}\n",
    "    </table>\n",
    "    <input type=\"submit\" value=\"Submit form\">\n",
    "</form>\n"
   ]
  },
  {
   "cell_type": "markdown",
   "metadata": {},
   "source": [
    "## Django View Method to Process Form (POST Handling)"
   ]
  },
  {
   "cell_type": "code",
   "execution_count": null,
   "metadata": {},
   "outputs": [],
   "source": [
    "from django.views.decorators.csrf import csrf_exempt, csrf_protect\n"
   ]
  },
  {
   "cell_type": "markdown",
   "metadata": {},
   "source": [
    "6.5. Django view method that sends and processes Django form\n"
   ]
  },
  {
   "cell_type": "code",
   "execution_count": null,
   "metadata": {},
   "outputs": [],
   "source": [
    "def contact(request):\n",
    "    if request.method == 'POST':\n",
    "        # POST, generate form with data from the request\n",
    "        form = ContactForm(request.POST)\n",
    "        # check if it's valid:\n",
    "        if form.is_valid():\n",
    "            # process data, insert into DB, generate email,etc\n",
    "            # redirect to a new URL:\n",
    "            return HttpResponseRedirect('/about/contact/thankyou')\n",
    "    else:\n",
    "        # GET, generate blank form\n",
    "        form = ContactForm()\n",
    "    return render(request,'about/contact.html', {'form':form})\n"
   ]
  },
  {
   "cell_type": "markdown",
   "metadata": {},
   "source": [
    "6.6. Django view method decorated with @csrf_exempt() to bypass CSRF enforcement\n"
   ]
  },
  {
   "cell_type": "code",
   "execution_count": null,
   "metadata": {},
   "outputs": [],
   "source": [
    "@csrf_exempt\n",
    "def contact(request):\n",
    "    # Any POST-processing inside view method\n",
    "    # ignores if there is or isn't a CSRF token\n",
    "    return"
   ]
  },
  {
   "cell_type": "markdown",
   "metadata": {},
   "source": [
    "6.7. Django view method decorated with @csrf_protect() to enforce CSRF when CSRF is disabled at \n",
    "the project level"
   ]
  },
  {
   "cell_type": "code",
   "execution_count": null,
   "metadata": {},
   "outputs": [],
   "source": [
    "@csrf_protect\n",
    "def contact(request):\n",
    "    # Any POST processing inside view method\n",
    "    # checks for the presence of a CSRF token\n",
    "    # even when CsrfViewMiddleware is removed\n",
    "    return\n"
   ]
  },
  {
   "cell_type": "markdown",
   "metadata": {},
   "source": [
    "## Django Form Processing: Initialization, Field Access, Validation, and Error Handling"
   ]
  },
  {
   "cell_type": "code",
   "execution_count": null,
   "metadata": {},
   "outputs": [],
   "source": [
    "import re\n",
    "from django import forms\n",
    "from django.shortcuts import render\n",
    "from django.http import HttpResponseRedirect\n"
   ]
  },
  {
   "cell_type": "markdown",
   "metadata": {},
   "source": [
    "6.8. Django form class with backing processing view method"
   ]
  },
  {
   "cell_type": "code",
   "execution_count": null,
   "metadata": {},
   "outputs": [],
   "source": [
    "class ContactForm(forms.Form):\n",
    "    name = forms.CharField(required=False)\n",
    "    email = forms.EmailField(label='Your email')\n",
    "    comment = forms.CharField(widget=forms.Textarea)\n",
    "\n",
    "\n",
    "def contact(request):\n",
    "    if request.method == 'POST':\n",
    "        form = ContactForm(request.POST)\n",
    "    else:\n",
    "        form = ContactForm()\n",
    "    return render(request, 'about/contact.html', {'form':form})\n"
   ]
  },
  {
   "cell_type": "markdown",
   "metadata": {},
   "source": [
    "6.9. Django form instance with initial argument declared in view method"
   ]
  },
  {
   "cell_type": "code",
   "execution_count": null,
   "metadata": {},
   "outputs": [],
   "source": [
    "def contact(request):\n",
    "    if request.method == 'POST':\n",
    "        #...\n",
    "        #...\n",
    "        pass\n",
    "    else:\n",
    "        # GET,  generate blank form\n",
    "        form = ContactForm(initial={'email':'johndoe@coffeehouse.com', 'name':'John Doe'})\n",
    "    return render(request, 'about/contact.html', {'form':form})\n"
   ]
  },
  {
   "cell_type": "markdown",
   "metadata": {},
   "source": [
    "6.10. Django form fields with initial argument"
   ]
  },
  {
   "cell_type": "code",
   "execution_count": null,
   "metadata": {},
   "outputs": [],
   "source": [
    "class ContactForm(forms.Form):\n",
    "    name = forms.CharField(required=False, initial='Please provide your name')\n",
    "    email = forms.EmailField(label='Your email',  initial='We need your email')\n",
    "    comment = forms.CharField(widget=forms.Textarea)\n"
   ]
  },
  {
   "cell_type": "markdown",
   "metadata": {},
   "source": [
    "6.11. Django form initialized with __init__ method"
   ]
  },
  {
   "cell_type": "code",
   "execution_count": null,
   "metadata": {},
   "outputs": [],
   "source": [
    "class ContactForm(forms.Form):\n",
    "    name = forms.CharField(required=False)\n",
    "    email = forms.EmailField(label='Your email')\n",
    "    comment = forms.CharField(widget=forms.Textarea)\n",
    "\n",
    "    def __init__(self, *args, **kwargs):\n",
    "        initial_arguments = kwargs.get('initial', None)\n",
    "        updated_initial = {}\n",
    "        if initial_arguments:\n",
    "            user = initial_arguments.get('user',None)\n",
    "            if user:\n",
    "                updated_initial['name'] = getattr(user, 'first_name', None)\n",
    "                updated_initial['email'] = getattr(user, 'email', None)\n",
    "        updated_initial['comment'] = 'Please provide a comment'\n",
    "        kwargs.update(initial=updated_initial)\n",
    "        super(ContactForm, self).__init__(*args, **kwargs)\n"
   ]
  },
  {
   "cell_type": "markdown",
   "metadata": {},
   "source": [
    "6.12. Django form with automatic ids (default auto_id=True option) and no automatic ids auto_id=False option\n"
   ]
  },
  {
   "cell_type": "code",
   "execution_count": null,
   "metadata": {},
   "outputs": [],
   "source": [
    "<!-- Option 1, default auto_id=True -->\n",
    "\n",
    "<tr>\n",
    "    <th><label for=\"id_name\">Name:</label></th>\n",
    "    <td><input id=\"id_name\" name=\"name\" type=\"text\" /></td>\n",
    "</tr>\n",
    "<tr>\n",
    "    <th><label for=\"id_email\">Your email:</label></th>\n",
    "    <td><input id=\"id_email\" name=\"email\" type=\"email\" /></td>\n",
    "</tr>\n",
    "<tr>\n",
    "    <th><label for=\"id_comment\">Comment:</label></th>\n",
    "    <td><textarea cols=\"40\" id=\"id_comment\" name=\"comment\" rows=\"10\"></textarea></td>\n",
    "</tr>\n",
    "\n",
    "<!-- Option 2 auto_id=False -->\n",
    "\n",
    "<tr>\n",
    "    <th>Name:</th><td><input name=\"name\" type=\"text\" /></td>\n",
    "</tr>\n",
    "<tr>\n",
    "    <th>Your email:</th><td><input name=\"email\" type=\"email\" /></td>\n",
    "</tr>\n",
    "<tr>\n",
    "    <th>Comment:</th><td><textarea cols=\"40\" name=\"comment\" rows=\"10\">\\r\\n</textarea></td>\n",
    "</tr>\n"
   ]
  },
  {
   "cell_type": "markdown",
   "metadata": {},
   "source": [
    "6.13. Django form is_valid() method for form processing"
   ]
  },
  {
   "cell_type": "code",
   "execution_count": null,
   "metadata": {},
   "outputs": [],
   "source": [
    "def contact(request):\n",
    "    if request.method == 'POST':\n",
    "        form = ContactForm(request.POST)\n",
    "        if form.is_valid():\n",
    "            first_name = form.cleaned_data['first_name']\n",
    "            email = form.cleaned_data['email']\n",
    "            return HttpResponseRedirect('/about/contact/thankyou')\n",
    "        else:\n",
    "            pass\n",
    "    else:\n",
    "        form = ContactForm()\n",
    "        return render(request, 'about/contact.html', {'form':form})\n"
   ]
  },
  {
   "cell_type": "markdown",
   "metadata": {},
   "source": [
    "6.14. Django form field validators option with custom validator method for form processing"
   ]
  },
  {
   "cell_type": "code",
   "execution_count": null,
   "metadata": {},
   "outputs": [],
   "source": [
    "def validate_comment_word_count(value):\n",
    "    count = len(value.split())\n",
    "    if count < 30:\n",
    "        raise forms.ValidationError(\n",
    "            ('Please provide at least a 30 word message, \\%(count)s words is not descriptive enough'), \n",
    "            params={'count': count},\n",
    "        )\n",
    "\n",
    "\n",
    "class ContactForm(forms.Form):\n",
    "    name = forms.CharField(required=False)\n",
    "    email = forms.EmailField(label='Your email')\n",
    "    comment = forms.CharField(widget=forms.Textarea, validators=[validate_comment_word_count])\n"
   ]
  },
  {
   "cell_type": "markdown",
   "metadata": {},
   "source": [
    "6.15. Django form field validation with clean_<field>() methods"
   ]
  },
  {
   "cell_type": "code",
   "execution_count": null,
   "metadata": {},
   "outputs": [],
   "source": [
    "class ContactForm(forms.Form):\n",
    "    name = forms.CharField(required=False)\n",
    "    email = forms.EmailField(label='Your email')\n",
    "    comment = forms.CharField(widget=forms.Textarea)\n",
    "\n",
    "    def clean_name(self):\n",
    "        value = self.cleaned_data['name']\n",
    "        if value.isupper():\n",
    "            raise forms.ValidationError(\n",
    "                \"Please don't use all upper case for your name, use lower case\", \n",
    "                code='uppercase'\n",
    "            )\n",
    "        return value\n",
    "\n",
    "    def clean_email(self):\n",
    "        value = self.cleaned_data['email']\n",
    "        if value.endswith('@hotmail.com'):\n",
    "            raise forms.ValidationError(\n",
    "                \"Please don't use a hotmail email, we simply don't like it\", \n",
    "                code='hotmail'\n",
    "            )\n",
    "        return value\n",
    "    "
   ]
  },
  {
   "cell_type": "markdown",
   "metadata": {},
   "source": [
    "6.16. Django form field validation with clean() method"
   ]
  },
  {
   "cell_type": "code",
   "execution_count": null,
   "metadata": {},
   "outputs": [],
   "source": [
    "class ContactForm(forms.Form):\n",
    "    name = forms.CharField(required=False)\n",
    "    email = forms.EmailField(label='Your email')\n",
    "    comment = forms.CharField(widget=forms.Textarea)\n",
    "\n",
    "    def clean(self):\n",
    "        super(ContactForm, self).clean()\n",
    "        name = self.cleaned_data.get('name', '')\n",
    "        email = self.cleaned_data.get('email', '')\n",
    "        if name.lower() not in email:\n",
    "            raise forms.ValidationError(\n",
    "                \"Please provide an email that contains your name, or viceversa\"\n",
    "            )\n"
   ]
  },
  {
   "cell_type": "markdown",
   "metadata": {},
   "source": [
    "6.17. Django form field error assignment with add_error() in clean() method"
   ]
  },
  {
   "cell_type": "code",
   "execution_count": null,
   "metadata": {},
   "outputs": [],
   "source": [
    "def clean(self):\n",
    "    super(ContactForm, self).clean()\n",
    "    name = self.cleaned_data.get('name', '')\n",
    "    email = self.cleaned_data.get('email', '')\n",
    "    if name.lower() not in email:\n",
    "        message = \"Please provide an email that contains your name, or viceversa\"\n",
    "        self.add_error('name', message)\n",
    "        self.add_error('email', forms.ValidationError(message))\n",
    "        self.add_error(None, message)\n"
   ]
  },
  {
   "cell_type": "markdown",
   "metadata": {},
   "source": [
    "6.18. Django form ValidationError instance creation\n"
   ]
  },
  {
   "cell_type": "code",
   "execution_count": null,
   "metadata": {},
   "outputs": [],
   "source": [
    "# Placed inside def clean_email(self):\n",
    "raise forms.ValidationError(\n",
    "    \"Please don't use a hotmail email, we simply don't like it\",\n",
    "    code='hotmail'\n",
    ")\n",
    "\n",
    "# Placed inside def clean(self):\n",
    "raise forms.ValidationError([\n",
    "        forms.ValidationError(\n",
    "            \"Please provide an email that matches your name, or viceversa\", \n",
    "            code='custom'\n",
    "        ),\n",
    "        forms.ValidationError(\n",
    "            \"Please provide your professional email, %(value)s doesn't look professional \", \n",
    "            code='required', \n",
    "            params={'value': self.cleaned_data.get('email')}\n",
    "        ),\n",
    "    ])\n"
   ]
  }
 ],
 "metadata": {
  "interpreter": {
   "hash": "7a9e02a1f826380158911783ea17643d2a23bf263a4f25f2922627e4a1f5859b"
  },
  "kernelspec": {
   "display_name": "Python 2.7.18 64-bit ('env': venv)",
   "language": "python",
   "name": "python3"
  },
  "language_info": {
   "codemirror_mode": {
    "name": "ipython",
    "version": 2
   },
   "file_extension": ".py",
   "mimetype": "text/x-python",
   "name": "python",
   "nbconvert_exporter": "python",
   "pygments_lexer": "ipython2",
   "version": "2.7.18"
  },
  "orig_nbformat": 4
 },
 "nbformat": 4,
 "nbformat_minor": 2
}
