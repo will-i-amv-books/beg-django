{
 "cells": [
  {
   "cell_type": "markdown",
   "metadata": {},
   "source": [
    "# Chapter 5 - Django Forms"
   ]
  },
  {
   "cell_type": "markdown",
   "metadata": {},
   "source": [
    "## Django Form Structure and Workflow"
   ]
  },
  {
   "cell_type": "code",
   "execution_count": null,
   "metadata": {},
   "outputs": [],
   "source": [
    "from django import forms\n",
    "from django.shortcuts import render\n",
    "from django.http import HttpResponseRedirect\n"
   ]
  },
  {
   "cell_type": "markdown",
   "metadata": {},
   "source": [
    "6.1. Django form class definition"
   ]
  },
  {
   "cell_type": "code",
   "execution_count": null,
   "metadata": {},
   "outputs": [],
   "source": [
    "# forms.py in 'contact' app \n",
    "\n",
    "class ContactForm(forms.Form):\n",
    "    name = forms.CharField(required=False)\n",
    "    email = forms.EmailField(label='Your email')\n",
    "    comment = forms.CharField(widget=forms.Textarea)\n"
   ]
  },
  {
   "cell_type": "markdown",
   "metadata": {},
   "source": [
    "6.2. Django view method that uses a Django form"
   ]
  },
  {
   "cell_type": "code",
   "execution_count": null,
   "metadata": {},
   "outputs": [],
   "source": [
    "# views.py in 'contact' app\n",
    "from .forms import ContactForm\n",
    "\n",
    "\n",
    "def contact(request):\n",
    "    form = ContactForm()\n",
    "    return render(request,'about/contact.html', {'form':form})\n"
   ]
  },
  {
   "cell_type": "markdown",
   "metadata": {},
   "source": [
    "6.3. Django form instance rendered in template as HTML"
   ]
  },
  {
   "cell_type": "code",
   "execution_count": null,
   "metadata": {},
   "outputs": [],
   "source": [
    "<tr>\n",
    "    <th><label for=\"id_name\">Name:</label></th>\n",
    "    <td><input id=\"id_name\" name=\"name\" type=\"text\"/></td>\n",
    "</tr>\n",
    "<tr>\n",
    "    <th><label for=\"id_email\">Your email:</label></th>\n",
    "    <td><input id=\"id_email\" required name=\"email\" type=\"email\"/></td>\n",
    "</tr>\n",
    "<tr>\n",
    "    <th><label for=\"id_comment\">Comment:</label></th>\n",
    "    <td>\n",
    "        <textarea cols=\"40\" id=\"id_comment\" required name=\"comment\" rows=\"10\"></textarea>\n",
    "    </td>\n",
    "</tr>\n"
   ]
  },
  {
   "cell_type": "markdown",
   "metadata": {},
   "source": [
    "## Functional Web Form Syntax for Django Forms"
   ]
  },
  {
   "cell_type": "markdown",
   "metadata": {},
   "source": [
    "6.4. Django form template declaration for functional web form"
   ]
  },
  {
   "cell_type": "code",
   "execution_count": null,
   "metadata": {},
   "outputs": [],
   "source": [
    "<form method=\"POST\">\n",
    "    {% csrf_token %}\n",
    "    <table>\n",
    "        {{form.as_table}}\n",
    "    </table>\n",
    "    <input type=\"submit\" value=\"Submit form\">\n",
    "</form>\n"
   ]
  },
  {
   "cell_type": "markdown",
   "metadata": {},
   "source": [
    "## Django View Method to Process Form (POST Handling)"
   ]
  },
  {
   "cell_type": "code",
   "execution_count": null,
   "metadata": {},
   "outputs": [],
   "source": [
    "from django.views.decorators.csrf import csrf_exempt, csrf_protect\n"
   ]
  },
  {
   "cell_type": "markdown",
   "metadata": {},
   "source": [
    "6.5. Django view method that sends and processes Django form\n"
   ]
  },
  {
   "cell_type": "code",
   "execution_count": null,
   "metadata": {},
   "outputs": [],
   "source": [
    "def contact(request):\n",
    "    if request.method == 'POST':\n",
    "        # POST, generate form with data from the request\n",
    "        form = ContactForm(request.POST)\n",
    "        # check if it's valid:\n",
    "        if form.is_valid():\n",
    "            # process data, insert into DB, generate email,etc\n",
    "            # redirect to a new URL:\n",
    "            return HttpResponseRedirect('/about/contact/thankyou')\n",
    "    else:\n",
    "        # GET, generate blank form\n",
    "        form = ContactForm()\n",
    "    return render(request,'about/contact.html', {'form':form})\n"
   ]
  },
  {
   "cell_type": "markdown",
   "metadata": {},
   "source": [
    "6.6. Django view method decorated with @csrf_exempt() to bypass CSRF enforcement\n"
   ]
  },
  {
   "cell_type": "code",
   "execution_count": null,
   "metadata": {},
   "outputs": [],
   "source": [
    "@csrf_exempt\n",
    "def contact(request):\n",
    "    # Any POST-processing inside view method\n",
    "    # ignores if there is or isn't a CSRF token\n",
    "    return"
   ]
  },
  {
   "cell_type": "markdown",
   "metadata": {},
   "source": [
    "6.7. Django view method decorated with @csrf_protect() to enforce CSRF when CSRF is disabled at \n",
    "the project level"
   ]
  },
  {
   "cell_type": "code",
   "execution_count": null,
   "metadata": {},
   "outputs": [],
   "source": [
    "@csrf_protect\n",
    "def contact(request):\n",
    "    # Any POST processing inside view method\n",
    "    # checks for the presence of a CSRF token\n",
    "    # even when CsrfViewMiddleware is removed\n",
    "    return\n"
   ]
  },
  {
   "cell_type": "markdown",
   "metadata": {},
   "source": [
    "## Django Form Processing: Initialization, Field Access, Validation, and Error Handling"
   ]
  },
  {
   "cell_type": "code",
   "execution_count": null,
   "metadata": {},
   "outputs": [],
   "source": [
    "import re\n",
    "from django import forms\n",
    "from django.shortcuts import render\n",
    "from django.http import HttpResponseRedirect\n"
   ]
  },
  {
   "cell_type": "markdown",
   "metadata": {},
   "source": [
    "6.8. Django form class with backing processing view method"
   ]
  },
  {
   "cell_type": "code",
   "execution_count": null,
   "metadata": {},
   "outputs": [],
   "source": [
    "class ContactForm(forms.Form):\n",
    "    name = forms.CharField(required=False)\n",
    "    email = forms.EmailField(label='Your email')\n",
    "    comment = forms.CharField(widget=forms.Textarea)\n",
    "\n",
    "\n",
    "def contact(request):\n",
    "    if request.method == 'POST':\n",
    "        form = ContactForm(request.POST)\n",
    "    else:\n",
    "        form = ContactForm()\n",
    "    return render(request, 'about/contact.html', {'form':form})\n"
   ]
  },
  {
   "cell_type": "markdown",
   "metadata": {},
   "source": [
    "6.9. Django form instance with initial argument declared in view method"
   ]
  },
  {
   "cell_type": "code",
   "execution_count": null,
   "metadata": {},
   "outputs": [],
   "source": [
    "def contact(request):\n",
    "    if request.method == 'POST':\n",
    "        #...\n",
    "        #...\n",
    "        pass\n",
    "    else:\n",
    "        # GET,  generate blank form\n",
    "        form = ContactForm(initial={'email':'johndoe@coffeehouse.com', 'name':'John Doe'})\n",
    "    return render(request, 'about/contact.html', {'form':form})\n"
   ]
  },
  {
   "cell_type": "markdown",
   "metadata": {},
   "source": [
    "6.10. Django form fields with initial argument"
   ]
  },
  {
   "cell_type": "code",
   "execution_count": null,
   "metadata": {},
   "outputs": [],
   "source": [
    "class ContactForm(forms.Form):\n",
    "    name = forms.CharField(required=False, initial='Please provide your name')\n",
    "    email = forms.EmailField(label='Your email',  initial='We need your email')\n",
    "    comment = forms.CharField(widget=forms.Textarea)\n"
   ]
  },
  {
   "cell_type": "markdown",
   "metadata": {},
   "source": [
    "6.11. Django form initialized with __init__ method"
   ]
  },
  {
   "cell_type": "code",
   "execution_count": null,
   "metadata": {},
   "outputs": [],
   "source": [
    "class ContactForm(forms.Form):\n",
    "    name = forms.CharField(required=False)\n",
    "    email = forms.EmailField(label='Your email')\n",
    "    comment = forms.CharField(widget=forms.Textarea)\n",
    "\n",
    "    def __init__(self, *args, **kwargs):\n",
    "        initial_arguments = kwargs.get('initial', None)\n",
    "        updated_initial = {}\n",
    "        if initial_arguments:\n",
    "            user = initial_arguments.get('user',None)\n",
    "            if user:\n",
    "                updated_initial['name'] = getattr(user, 'first_name', None)\n",
    "                updated_initial['email'] = getattr(user, 'email', None)\n",
    "        updated_initial['comment'] = 'Please provide a comment'\n",
    "        kwargs.update(initial=updated_initial)\n",
    "        super(ContactForm, self).__init__(*args, **kwargs)\n"
   ]
  },
  {
   "cell_type": "markdown",
   "metadata": {},
   "source": [
    "6.12. Django form with automatic ids (default auto_id=True option) and no automatic ids auto_id=False option\n"
   ]
  },
  {
   "cell_type": "code",
   "execution_count": null,
   "metadata": {},
   "outputs": [],
   "source": [
    "<!-- Option 1, default auto_id=True -->\n",
    "\n",
    "<tr>\n",
    "    <th><label for=\"id_name\">Name:</label></th>\n",
    "    <td><input id=\"id_name\" name=\"name\" type=\"text\" /></td>\n",
    "</tr>\n",
    "<tr>\n",
    "    <th><label for=\"id_email\">Your email:</label></th>\n",
    "    <td><input id=\"id_email\" name=\"email\" type=\"email\" /></td>\n",
    "</tr>\n",
    "<tr>\n",
    "    <th><label for=\"id_comment\">Comment:</label></th>\n",
    "    <td><textarea cols=\"40\" id=\"id_comment\" name=\"comment\" rows=\"10\"></textarea></td>\n",
    "</tr>\n",
    "\n",
    "<!-- Option 2 auto_id=False -->\n",
    "\n",
    "<tr>\n",
    "    <th>Name:</th><td><input name=\"name\" type=\"text\" /></td>\n",
    "</tr>\n",
    "<tr>\n",
    "    <th>Your email:</th><td><input name=\"email\" type=\"email\" /></td>\n",
    "</tr>\n",
    "<tr>\n",
    "    <th>Comment:</th><td><textarea cols=\"40\" name=\"comment\" rows=\"10\">\\r\\n</textarea></td>\n",
    "</tr>\n"
   ]
  },
  {
   "cell_type": "markdown",
   "metadata": {},
   "source": [
    "6.13. Django form is_valid() method for form processing"
   ]
  },
  {
   "cell_type": "code",
   "execution_count": null,
   "metadata": {},
   "outputs": [],
   "source": [
    "def contact(request):\n",
    "    if request.method == 'POST':\n",
    "        form = ContactForm(request.POST)\n",
    "        if form.is_valid():\n",
    "            first_name = form.cleaned_data['first_name']\n",
    "            email = form.cleaned_data['email']\n",
    "            return HttpResponseRedirect('/about/contact/thankyou')\n",
    "        else:\n",
    "            pass\n",
    "    else:\n",
    "        form = ContactForm()\n",
    "        return render(request, 'about/contact.html', {'form':form})\n"
   ]
  },
  {
   "cell_type": "markdown",
   "metadata": {},
   "source": [
    "6.14. Django form field validators option with custom validator method for form processing"
   ]
  },
  {
   "cell_type": "code",
   "execution_count": null,
   "metadata": {},
   "outputs": [],
   "source": [
    "def validate_comment_word_count(value):\n",
    "    count = len(value.split())\n",
    "    if count < 30:\n",
    "        raise forms.ValidationError(\n",
    "            ('Please provide at least a 30 word message, \\%(count)s words is not descriptive enough'), \n",
    "            params={'count': count},\n",
    "        )\n",
    "\n",
    "\n",
    "class ContactForm(forms.Form):\n",
    "    name = forms.CharField(required=False)\n",
    "    email = forms.EmailField(label='Your email')\n",
    "    comment = forms.CharField(widget=forms.Textarea, validators=[validate_comment_word_count])\n"
   ]
  },
  {
   "cell_type": "markdown",
   "metadata": {},
   "source": [
    "6.15. Django form field validation with clean_<field>() methods"
   ]
  },
  {
   "cell_type": "code",
   "execution_count": null,
   "metadata": {},
   "outputs": [],
   "source": [
    "class ContactForm(forms.Form):\n",
    "    name = forms.CharField(required=False)\n",
    "    email = forms.EmailField(label='Your email')\n",
    "    comment = forms.CharField(widget=forms.Textarea)\n",
    "\n",
    "    def clean_name(self):\n",
    "        value = self.cleaned_data['name']\n",
    "        if value.isupper():\n",
    "            raise forms.ValidationError(\n",
    "                \"Please don't use all upper case for your name, use lower case\", \n",
    "                code='uppercase'\n",
    "            )\n",
    "        return value\n",
    "\n",
    "    def clean_email(self):\n",
    "        value = self.cleaned_data['email']\n",
    "        if value.endswith('@hotmail.com'):\n",
    "            raise forms.ValidationError(\n",
    "                \"Please don't use a hotmail email, we simply don't like it\", \n",
    "                code='hotmail'\n",
    "            )\n",
    "        return value\n",
    "    "
   ]
  },
  {
   "cell_type": "markdown",
   "metadata": {},
   "source": [
    "6.16. Django form field validation with clean() method"
   ]
  },
  {
   "cell_type": "code",
   "execution_count": null,
   "metadata": {},
   "outputs": [],
   "source": [
    "class ContactForm(forms.Form):\n",
    "    name = forms.CharField(required=False)\n",
    "    email = forms.EmailField(label='Your email')\n",
    "    comment = forms.CharField(widget=forms.Textarea)\n",
    "\n",
    "    def clean(self):\n",
    "        super(ContactForm, self).clean()\n",
    "        name = self.cleaned_data.get('name', '')\n",
    "        email = self.cleaned_data.get('email', '')\n",
    "        if name.lower() not in email:\n",
    "            raise forms.ValidationError(\n",
    "                \"Please provide an email that contains your name, or viceversa\"\n",
    "            )\n"
   ]
  },
  {
   "cell_type": "markdown",
   "metadata": {},
   "source": [
    "6.17. Django form field error assignment with add_error() in clean() method"
   ]
  },
  {
   "cell_type": "code",
   "execution_count": null,
   "metadata": {},
   "outputs": [],
   "source": [
    "def clean(self):\n",
    "    super(ContactForm, self).clean()\n",
    "    name = self.cleaned_data.get('name', '')\n",
    "    email = self.cleaned_data.get('email', '')\n",
    "    if name.lower() not in email:\n",
    "        message = \"Please provide an email that contains your name, or viceversa\"\n",
    "        self.add_error('name', message)\n",
    "        self.add_error('email', forms.ValidationError(message))\n",
    "        self.add_error(None, message)\n"
   ]
  },
  {
   "cell_type": "markdown",
   "metadata": {},
   "source": [
    "6.18. Django form ValidationError instance creation\n"
   ]
  },
  {
   "cell_type": "code",
   "execution_count": null,
   "metadata": {},
   "outputs": [],
   "source": [
    "# Placed inside def clean_email(self):\n",
    "raise forms.ValidationError(\n",
    "    \"Please don't use a hotmail email, we simply don't like it\",\n",
    "    code='hotmail'\n",
    ")\n",
    "\n",
    "# Placed inside def clean(self):\n",
    "raise forms.ValidationError([\n",
    "    forms.ValidationError(\n",
    "        \"Please provide an email that matches your name, or viceversa\", \n",
    "        code='custom'\n",
    "    ),\n",
    "    forms.ValidationError(\n",
    "        \"Please provide your professional email, %(value)s doesn't look professional \", \n",
    "        code='required', \n",
    "        params={'value': self.cleaned_data.get('email')}\n",
    "    ),\n",
    "])\n"
   ]
  },
  {
   "cell_type": "markdown",
   "metadata": {},
   "source": [
    "## Set Up the Layout for Django Forms in Templates"
   ]
  },
  {
   "cell_type": "code",
   "execution_count": null,
   "metadata": {},
   "outputs": [],
   "source": [
    "from django import forms"
   ]
  },
  {
   "cell_type": "markdown",
   "metadata": {},
   "source": [
    "6.19. Django form class definition"
   ]
  },
  {
   "cell_type": "code",
   "execution_count": null,
   "metadata": {},
   "outputs": [],
   "source": [
    "class ContactForm(forms.Form):\n",
    "    name = forms.CharField(required=False)\n",
    "    email = forms.EmailField(label='Your email')\n",
    "    comment = forms.CharField(widget=forms.Textarea)"
   ]
  },
  {
   "cell_type": "markdown",
   "metadata": {},
   "source": [
    "6.20. Django form output with form.as_table"
   ]
  },
  {
   "cell_type": "code",
   "execution_count": null,
   "metadata": {},
   "outputs": [],
   "source": [
    "<tr>\n",
    "   <th><label for=\"id_name\">Name:</label></th>\n",
    "   <td><input id=\"id_name\" name=\"name\" type=\"text\" /></td>\n",
    "</tr>\n",
    "<tr>\n",
    "   <th><label for=\"id_email\">Your email:</label></th>\n",
    "   <td><input id=\"id_email\" name=\"email\" type=\"email\" required/></td>\n",
    "</tr>\n",
    "<tr>\n",
    "   <th><label for=\"id_comment\">Comment:</label></th>\n",
    "   <td><textarea cols=\"40\" id=\"id_comment\" name=\"comment\" rows=\"10\" required>\\r\\n</\n",
    "       textarea>\n",
    "   </td>\n",
    "</tr>\n",
    "\n"
   ]
  },
  {
   "cell_type": "markdown",
   "metadata": {},
   "source": [
    "6.21. Django form output with form.as_p\n"
   ]
  },
  {
   "cell_type": "code",
   "execution_count": null,
   "metadata": {},
   "outputs": [],
   "source": [
    "<p>\n",
    "    <label for=\"id_name\">Name:</label> <input id=\"id_name\" name=\"name\" type=\"text\" />\n",
    "</p>\n",
    "<p>\n",
    "    <label for=\"id_email\">Your email:</label> <input id=\"id_email\" name=\"email\" type=\"email\" \n",
    "        required/>\n",
    "</p>\n",
    "<p>\n",
    "    <label for=\"id_comment\">Comment:</label> <textarea cols=\"40\" id=\"id_comment\" \n",
    "        name=\"comment\" rows=\"10\" required>\\r\\n</textarea>\n",
    "</p>"
   ]
  },
  {
   "cell_type": "markdown",
   "metadata": {},
   "source": [
    "6.22. Django form output with form.as_ul\n"
   ]
  },
  {
   "cell_type": "code",
   "execution_count": null,
   "metadata": {},
   "outputs": [],
   "source": [
    "<li>\n",
    "    <label for=\"id_name\">Name:</label> <input id=\"id_name\" name=\"name\" type=\"text\" />\n",
    "</li>\n",
    "<li>\n",
    "    <label for=\"id_email\">Your email:</label> <input id=\"id_email\" name=\"email\" type=\"email\" \n",
    "        required/>\n",
    "</li>\n",
    "<li><label for=\"id_comment\">Comment:</label> <textarea cols=\"40\" id=\"id_comment\" \n",
    "    name=\"comment\" rows=\"10\" required></textarea>\n",
    "</li>\n",
    "\n"
   ]
  },
  {
   "cell_type": "markdown",
   "metadata": {},
   "source": [
    "6.23. Django form {% for %} loop over all fields"
   ]
  },
  {
   "cell_type": "code",
   "execution_count": null,
   "metadata": {},
   "outputs": [],
   "source": [
    "{% for field in form %}\n",
    "    <div class=\"row\">\n",
    "        <div class=\"col-md-2\">\n",
    "            {{ field.label_tag }}\n",
    "            {% if field.help_text %}\n",
    "                <sup>{{ field.help_text }}</sup>\n",
    "            {% endif %}\n",
    "            {{ field.errors }}\n",
    "        </div>\n",
    "        <div class=\"col-md-10 pull-left\">\n",
    "            {{ field }}\n",
    "        </div>\n",
    "    </div>\n",
    "{% endfor %}\n"
   ]
  },
  {
   "cell_type": "markdown",
   "metadata": {},
   "source": [
    "6.24. Django form field_order option to enforce field order\n"
   ]
  },
  {
   "cell_type": "code",
   "execution_count": null,
   "metadata": {},
   "outputs": [],
   "source": [
    "class ContactForm(forms.Form):\n",
    "    name = forms.CharField(required=False)\n",
    "    email = forms.EmailField(label='Your email')\n",
    "    comment = forms.CharField(widget=forms.Textarea)\n",
    "    field_order = ['email','comment','name']"
   ]
  },
  {
   "cell_type": "markdown",
   "metadata": {},
   "source": [
    "6.25. Django form error_css_class and required_css_class fields to apply CSS formatting\n"
   ]
  },
  {
   "cell_type": "code",
   "execution_count": null,
   "metadata": {},
   "outputs": [],
   "source": [
    "class ContactForm(forms.Form):\n",
    "    name = forms.CharField(required=False)\n",
    "    email = forms.EmailField(label='Your email')\n",
    "    comment = forms.CharField(widget=forms.Textarea)\n",
    "    error_css_class = 'error'\n",
    "    required_css_class = 'bold'"
   ]
  },
  {
   "cell_type": "markdown",
   "metadata": {},
   "source": [
    "6.27. Django loop over form.<field_name>.errors"
   ]
  },
  {
   "cell_type": "code",
   "execution_count": null,
   "metadata": {},
   "outputs": [],
   "source": [
    "{% for field in form %}\n",
    "    <div class=\"row\">\n",
    "        <div class=\"col-md-2\">\n",
    "            {{ field.label_tag }}\n",
    "            {% if field.help_text %}\n",
    "                <sup>{{ field.help_text }}</sup>\n",
    "            {% endif %}\n",
    "            {% for error in field.errors %}\n",
    "                <div class=\"row\">\n",
    "                    <div class=\"alert alert-danger\">{{error}}</div>\n",
    "                </div>\n",
    "            {% endfor %}\n",
    "        </div>\n",
    "        <div class=\"col-md-10 pull-left\">\n",
    "            {{ field }}\n",
    "        </div>\n",
    "    </div>\n",
    "{% endfor %}\n"
   ]
  },
  {
   "cell_type": "markdown",
   "metadata": {},
   "source": [
    "6.28. Django form.errors and form.non_field_errors with custom HTML output\n"
   ]
  },
  {
   "cell_type": "code",
   "execution_count": null,
   "metadata": {},
   "outputs": [],
   "source": [
    "<!-- Field errors -->\n",
    "\n",
    "{% if form.errors %}\n",
    "    <div class=\"row\">\n",
    "    {% for field_with_error, error_messages in form.errors.items %}\n",
    "        <div class=\"alert alert-danger\">{{field_with_error}} {{error_messages}}</div>\n",
    "    {% endfor %}\n",
    "    </div>\n",
    "{% endif %}\n",
    "\n",
    "<!-- Non-field errors -->\n",
    "\n",
    "{% if form.non_field_errors %}\n",
    "    <div class=\"row\">\n",
    "    {% for error in form.non_field_errors %}\n",
    "        <div class=\"alert alert-danger\">{{error}}</div>\n",
    "    {% endfor %}\n",
    "    </div>\n",
    "{% endif %}\n"
   ]
  },
  {
   "cell_type": "markdown",
   "metadata": {},
   "source": [
    "## Django Custom Form Fields and Widgets"
   ]
  },
  {
   "cell_type": "markdown",
   "metadata": {},
   "source": [
    "6.29. Django custom form field inherits behavior from forms.ChoiceField\n"
   ]
  },
  {
   "cell_type": "code",
   "execution_count": null,
   "metadata": {},
   "outputs": [],
   "source": [
    "class GenderField(forms.ChoiceField):\n",
    "    def __init__(self, *args, **kwargs):\n",
    "        super(GenderField, self).__init__(*args, **kwargs)\n",
    "        self.error_messages = {\"required\": \"Please select a gender, it's required\"}\n",
    "        self.choices = ((None, 'Select gender'), ('M', 'Male'), ('F', 'Female'))\n"
   ]
  },
  {
   "cell_type": "markdown",
   "metadata": {},
   "source": [
    "6.30. Django custom form widget inherits behavior from forms.widgets.Input"
   ]
  },
  {
   "cell_type": "code",
   "execution_count": null,
   "metadata": {},
   "outputs": [],
   "source": [
    "class PlaceholderInput(forms.widgets.Input):\n",
    "    template_name = 'about/placeholder.html'\n",
    "    input_type = 'text'\n",
    "\n",
    "    def get_context(self, name, value, attrs):\n",
    "        context = super(PlaceholderInput, self).get_context(name, value, attrs)\n",
    "        context['widget']['attrs']['maxlength'] = 50\n",
    "        context['widget']['attrs']['placeholder'] = name.title()\n",
    "        return context\n"
   ]
  },
  {
   "cell_type": "markdown",
   "metadata": {},
   "source": [
    "6.31. Django custom form widget inherits behavior from forms.widgets.Input"
   ]
  },
  {
   "cell_type": "code",
   "execution_count": null,
   "metadata": {},
   "outputs": [],
   "source": [
    "# about/placeholder.html\n",
    "\n",
    "<input type=\"{{ widget.type }}\" name=\"{{ widget.name }}\"\n",
    "    {% if widget.value != None %} \n",
    "        value=\"{{ widget.value }}\"\n",
    "    {% endif %}\n",
    "{% include \"django/forms/widgets/attrs.html\" %} />\n",
    "\n",
    "# django/forms/widgets/attrs.html\n",
    "\n",
    "{% for name, value in widget.attrs.items %}\n",
    "    {% if value is not False %} \n",
    "        {{ name }}\n",
    "        {% if value is not True %}\n",
    "            =\"{{ value }}\"\n",
    "        {% endif %}\n",
    "    {% endif %}\n",
    "{% endfor %}\n",
    "    "
   ]
  },
  {
   "cell_type": "markdown",
   "metadata": {},
   "source": [
    "## Django Advanced Form Processing: Partial Forms, AJAX, and Files"
   ]
  },
  {
   "cell_type": "code",
   "execution_count": null,
   "metadata": {},
   "outputs": [],
   "source": [
    "from coffeehouse.about.forms import ContactForm\n",
    "from django.http import HttpResponse, JsonResponse\n",
    "from django.conf import settings\n",
    "\n"
   ]
  },
  {
   "cell_type": "markdown",
   "metadata": {},
   "source": [
    "6.32. Django form with fields marked as hidden\n"
   ]
  },
  {
   "cell_type": "code",
   "execution_count": null,
   "metadata": {},
   "outputs": [],
   "source": [
    "<form method=\"POST\">\n",
    "    {% csrf_token %}\n",
    "        <div class=\"row\">\n",
    "            <div class=\"col-md-2\">\n",
    "                {{ form.comment.label_tag }}\n",
    "                    {% if form.comment.help_text %}\n",
    "                        <sup>{{ form.comment.help_text }}</sup>\n",
    "                    {% endif %}\n",
    "                {% for error in form.comment.errors %}\n",
    "                    <div class=\"row\">\n",
    "                        <div class=\"alert alert-danger\">{{error}}</div>\n",
    "                    </div>\n",
    "                {% endfor %}\n",
    "            </div>\n",
    "            <div class=\"col-md-10 pull-left\">\n",
    "                {{ form.comment }}\n",
    "            </div>\n",
    "        </div>\n",
    "        {{form.name.as_hiddden}} #### HIDDEN\n",
    "        {{form.email.as_hidden}} #### HIDDEN\n",
    "    <input type=\"submit\" value=\"Submit form\" class=\"btn btn-primary\">\n",
    "</form>\n"
   ]
  },
  {
   "cell_type": "markdown",
   "metadata": {},
   "source": [
    "6.33. Django form subclass with removed parent fields\n"
   ]
  },
  {
   "cell_type": "code",
   "execution_count": null,
   "metadata": {},
   "outputs": [],
   "source": [
    "class ContactCommentOnlyForm(ContactForm):\n",
    "    def __init__(self, *args, **kwargs):\n",
    "        super(ContactCommentOnlyForm, self).__init__(*args, **kwargs)\n",
    "        del self.fields['name']\n",
    "        del self.fields['email']\n"
   ]
  },
  {
   "cell_type": "markdown",
   "metadata": {},
   "source": [
    "6.34. JavaScript jQuery logic to submit Django form via AJAX"
   ]
  },
  {
   "cell_type": "code",
   "execution_count": null,
   "metadata": {},
   "outputs": [],
   "source": [
    "# NOTE: The following is only the Django (HTML) template with AJAX logic\n",
    "\n",
    "<h4>Feedback</h4>\n",
    "<div class=\"row\">\n",
    "    <div id=\"feedbackmessage\"</div>\n",
    "</div>\n",
    "<form method=\"POST\" id=\"feedbackform\" action=\"{% url 'stores:feedback' %}\">\n",
    "    {% csrf_token %}\n",
    "    <div class=\"row\">\n",
    "        <div class=\"col-md-12 pull-left\">\n",
    "            {{ form.comment }}\n",
    "        </div>\n",
    "    </div>\n",
    "    {{form.name.as_hiddden}}\n",
    "    {{form.email.as_hidden}}\n",
    "    <input type=\"submit\" value=\"Submit feedback\" class=\"btn btn-primary\">\n",
    "</form>\n",
    "<script>\n",
    "    $(document).ready(function() {\n",
    "        $(\"#feedbackform\").submit(function(event) {\n",
    "            event.preventDefault();\n",
    "            $.ajax({data: $(this).serialize(),\n",
    "                    type: $(this).attr('method'),\n",
    "                    url: $(this).attr('action'),\n",
    "                    success: function(response) {\n",
    "                        console.log(response);\n",
    "                        if(response['success']) {\n",
    "                            $(\"#feedbackmessage\").html(\n",
    "                                \"<div class='alert alert-success'> Succesfully sent feedback, thank you!</div>\"\n",
    "                            );\n",
    "                            $(\"#feedbackform\").addClass(\"hidden\");\n",
    "                        }\n",
    "                        if(response['error']) {\n",
    "                            $(\"#feedbackmessage\").html(\n",
    "                                \"<div class='alert alert-danger'>\" + response['error']['comment'] + \"</div>\");\n",
    "                        }\n",
    "                    },\n",
    "                    error: function (request, status, error) {\n",
    "                        console.log(request.responseText);\n",
    "                    }\n",
    "            });\n",
    "        });\n",
    "    })\n",
    "</script>"
   ]
  },
  {
   "cell_type": "markdown",
   "metadata": {},
   "source": [
    "6.35. Django view method to process Django form via AJAX\n"
   ]
  },
  {
   "cell_type": "code",
   "execution_count": null,
   "metadata": {},
   "outputs": [],
   "source": [
    "# urls.py (Main)\n",
    "\n",
    "urlpatterns = [\n",
    "    url(r'^stores/', include('coffeehouse.stores.urls', namespace=\"stores\"))\n",
    "]\n",
    "\n",
    "# urls.py (App stores)\n",
    "\n",
    "urlpatterns = [\n",
    "    url(r'^$', views.index, name=\"index\"), \n",
    "    url(r'^feedback/$', views.feedback, name=\"feedback\"), \n",
    "]\n",
    "\n",
    "# views.py (App stores)\n",
    "\n",
    "def feedback(request):\n",
    "    if request.POST:\n",
    "        form = ContactForm(request.POST)\n",
    "        if form.is_valid():\n",
    "            return JsonResponse({'success':True})\n",
    "        else:\n",
    "            return JsonResponse({'error':form.errors})\n",
    "    return HttpResponse(\"Hello from feedback!\")"
   ]
  },
  {
   "cell_type": "markdown",
   "metadata": {},
   "source": [
    "6.36. Django form with file fields, corresponding view method, and template layout\n"
   ]
  },
  {
   "cell_type": "code",
   "execution_count": null,
   "metadata": {},
   "outputs": [],
   "source": [
    "# forms.py\n",
    "\n",
    "class SharingForm(forms.Form):\n",
    "    # NOTE: forms.PhotoField requires Python PIL & other operating system libraries, \n",
    "    # so generic FileField is used instead\n",
    "    video = forms.FileField()\n",
    "    photo = forms.FileField(widget=forms.ClearableFileInput(attrs={'multiple': True}))\n",
    "\n",
    "# views.py\n",
    "\n",
    "def index(request):\n",
    "    if request.method == 'POST':\n",
    "        form = SharingForm(request.POST, request.FILES)\n",
    "        if form.is_valid():\n",
    "            return HttpResponseRedirect('/about/contact/thankyou')\n",
    "    else:\n",
    "        form = SharingForm()\n",
    "        return render(request, 'social/index.html', {'form':form})\n"
   ]
  },
  {
   "cell_type": "code",
   "execution_count": null,
   "metadata": {},
   "outputs": [],
   "source": [
    "# social/index.html\n",
    "\n",
    "<form method=\"post\" enctype=\"multipart/form-data\">\n",
    "    {% csrf_token %}\n",
    "    <ul>\n",
    "        {{form.as_ul}}\n",
    "    </ul>\n",
    "    <input type=\"submit\" value=\"Submit photo\" class=\"btn btn-primary\">\n",
    "</form>\n"
   ]
  },
  {
   "cell_type": "markdown",
   "metadata": {},
   "source": [
    "6.37. Django form file processing with save procedure to MEDIA_ROOT"
   ]
  },
  {
   "cell_type": "code",
   "execution_count": null,
   "metadata": {},
   "outputs": [],
   "source": [
    "# views.py\n",
    "\n",
    "def save_uploaded_file_to_media_root(f):\n",
    "    with open('%s%s' % (settings.MEDIA_ROOT, f.name), 'wb+') as destination:\n",
    "        for chunk in f.chunks():\n",
    "            destination.write(chunk)\n",
    "\n",
    "def index(request):\n",
    "    if request.method == 'POST':\n",
    "        form = SharingForm(request.POST, request.FILES)\n",
    "        if form.is_valid():\n",
    "            for field in request.FILES.keys():\n",
    "                for formfile in request.FILES.getlist(field):\n",
    "                    save_uploaded_file_to_media_root(formfile)\n",
    "        return HttpResponseRedirect('/about/contact/thankyou')\n",
    "    else:\n",
    "        form = SharingForm()\n",
    "        return render(request, 'social/index.html', {'form':form})\n"
   ]
  },
  {
   "cell_type": "markdown",
   "metadata": {},
   "source": [
    "## Django Formsets"
   ]
  },
  {
   "cell_type": "code",
   "execution_count": null,
   "metadata": {},
   "outputs": [],
   "source": [
    "from django.forms import formset_factory\n",
    "from django.forms import BaseFormSet\n"
   ]
  },
  {
   "cell_type": "markdown",
   "metadata": {},
   "source": [
    "6.38. Django formset factory initialization and template layout\n"
   ]
  },
  {
   "cell_type": "code",
   "execution_count": null,
   "metadata": {},
   "outputs": [],
   "source": [
    "# forms.py\n",
    "\n",
    "DRINKS = ((None, 'Please select a drink type'), (1, 'Mocha'), (2, 'Espresso'), (3, 'Latte'))\n",
    "SIZES = ((None, 'Please select a drink size'), ('s', 'Small'), ('m', 'Medium'), ('l', 'Large'))\n",
    "\n",
    "class DrinkForm(forms.Form):\n",
    "    name = forms.ChoiceField(choices=DRINKS, initial=0)\n",
    "    size = forms.ChoiceField(choices=SIZES, initial=0)\n",
    "    amount = forms.ChoiceField(\n",
    "        choices=[(None, 'Amount of drinks')] + [(i, i) for i in range(1, 10)]\n",
    "    )\n",
    "\n",
    "# views.py\n",
    "\n",
    "def index(request):\n",
    "    DrinkFormSet = formset_factory(DrinkForm, extra=2, max_num=20)\n",
    "    if request.method == 'POST':\n",
    "        # TODO\n",
    "        pass\n",
    "    else:\n",
    "        formset = DrinkFormSet(initial=[{'name': 1, 'size': 'm', 'amount':1}])\n",
    "        return render(request, 'online/index.html', {'formset':formset})\n"
   ]
  },
  {
   "cell_type": "code",
   "execution_count": null,
   "metadata": {},
   "outputs": [],
   "source": [
    "# online/index.html\n",
    "\n",
    "<form method=\"post\">\n",
    "    {% csrf_token %}\n",
    "    {{ formset.management_form }}\n",
    "    <table>\n",
    "        {% for form in formset %}\n",
    "            <tr><td><ul class=\"list-inline\">{{ form.as_ul }}</ul></td></tr>\n",
    "        {% endfor %}\n",
    "    </table>\n",
    "    <input type=\"submit\" value=\"Submit order\" class=\"btn btn-primary\">\n",
    "</form>\n"
   ]
  },
  {
   "cell_type": "markdown",
   "metadata": {},
   "source": [
    "6.39. Django formset management form contents and fields\n"
   ]
  },
  {
   "cell_type": "code",
   "execution_count": null,
   "metadata": {},
   "outputs": [],
   "source": [
    "<input type=\"hidden\" name=\"form-TOTAL_FORMS\" value=\"3\" id=\"id_form-TOTAL_FORMS\" />\n",
    "<input type=\"hidden\" name=\"form-INITIAL_FORMS\" value=\"1\" id=\"id_form-INITIAL_FORMS\" />\n",
    "<input type=\"hidden\" name=\"form-MIN_NUM_FORMS\" value=\"0\" id=\"id_form-MIN_NUM_FORMS\" />\n",
    "<input type=\"hidden\" name=\"form-MAX_NUM_FORMS\" value=\"20\" id=\"id_form-MAX_NUM_FORMS\" />"
   ]
  },
  {
   "cell_type": "markdown",
   "metadata": {},
   "source": [
    "6.40. Django formset designed to add extra forms by user"
   ]
  },
  {
   "cell_type": "code",
   "execution_count": null,
   "metadata": {},
   "outputs": [],
   "source": [
    "#views.py\n",
    "\n",
    "def index(request):\n",
    "    extra_forms = 2\n",
    "    DrinkFormSet = formset_factory(DrinkForm, extra=extra_forms, max_num=20)\n",
    "    if request.method == 'POST':\n",
    "        if 'additems' in request.POST and request.POST['additems'] == 'true':\n",
    "            formset_dictionary_copy = request.POST.copy()\n",
    "            formset_dictionary_copy['form-TOTAL_FORMS'] = (\n",
    "                int(formset_dictionary_copy['form-TOTAL_FORMS']) + \n",
    "                extra_forms\n",
    "            )\n",
    "            formset = DrinkFormSet(formset_dictionary_copy)\n",
    "        else:\n",
    "            formset = DrinkFormSet(request.POST)\n",
    "            if formset.is_valid():\n",
    "                return HttpResponseRedirect('/about/contact/thankyou')\n",
    "    else:\n",
    "        formset = DrinkFormSet(initial=[{'name': 1, 'size': 'm', 'amount':1}])\n",
    "    return render(request, 'online/index.html', {'formset':formset})\n"
   ]
  },
  {
   "cell_type": "code",
   "execution_count": null,
   "metadata": {},
   "outputs": [],
   "source": [
    "# online/index.html\n",
    "\n",
    "<form method=\"post\">\n",
    "    {% csrf_token %}\n",
    "    {{ formset.management_form }}\n",
    "    <table>\n",
    "        {% for form in formset %}\n",
    "            <tr><td>{{ form }}</td></tr>\n",
    "        {% endfor %}\n",
    "    </table>\n",
    "    <input type=\"hidden\" value=\"false\" name=\"additems\" id=\"additems\">\n",
    "    <button class=\"btn btn-primary\" id=\"additemsbutton\">Add items to order</button>\n",
    "    <input type=\"submit\" value=\"Submit order\" class=\"btn btn-primary\">\n",
    "</form>\n",
    "<script>\n",
    "    $(document).ready(function() {\n",
    "        $(\"#additemsbutton\").on(\n",
    "            'click', \n",
    "            function(event) {\n",
    "                $(\"#additems\").val(\"true\");\n",
    "        });\n",
    "    });\n",
    "</script>"
   ]
  },
  {
   "cell_type": "markdown",
   "metadata": {},
   "source": [
    "6.41. Django custom formset with custom validation"
   ]
  },
  {
   "cell_type": "code",
   "execution_count": null,
   "metadata": {},
   "outputs": [],
   "source": [
    "class BaseDrinkFormSet(BaseFormSet):\n",
    "    def clean(self):\n",
    "        if any(self.errors): \n",
    "            return # If there are any error, no point in validating further\n",
    "        name_size_tuples = []\n",
    "        for form in self.forms:\n",
    "            name_size = (form.cleaned_data['name'], form.cleaned_data['size'])\n",
    "            if name_size in name_size_tuples:\n",
    "                raise forms.ValidationError(\n",
    "                    \"Ups! You have multiple %s %s items in your order, keep one and increase the amount\" % \n",
    "                    (dict(SIZES)[name_size[1]], dict(DRINKS)[int(name_size[0])])\n",
    "                )\n",
    "            name_size_tuples.append(name_size)\n"
   ]
  },
  {
   "cell_type": "markdown",
   "metadata": {},
   "source": [
    "6.42. Django custom formset to display non_form_errors"
   ]
  },
  {
   "cell_type": "code",
   "execution_count": null,
   "metadata": {},
   "outputs": [],
   "source": [
    "<form method=\"post\">\n",
    "    {% csrf_token %}\n",
    "    {{ formset.management_form }}\n",
    "    {% if formset.non_form_errors %}\n",
    "        <div class=\"alert alertdanger\">{{formset.non_form_errors}}</div>\n",
    "    {% endif %}\n",
    "    {{ formset.management_form }}\n",
    "    <table>\n",
    "        {% for form in formset %}\n",
    "            <tr><td><ul class=\"list-inline\">{{ form.as_ul }}</ul></td></tr>\n",
    "        {% endfor %}\n",
    "    </table>\n",
    "</form>\n"
   ]
  }
 ],
 "metadata": {
  "interpreter": {
   "hash": "7a9e02a1f826380158911783ea17643d2a23bf263a4f25f2922627e4a1f5859b"
  },
  "kernelspec": {
   "display_name": "Python 2.7.18 64-bit ('env': venv)",
   "language": "python",
   "name": "python3"
  },
  "language_info": {
   "codemirror_mode": {
    "name": "ipython",
    "version": 2
   },
   "file_extension": ".py",
   "mimetype": "text/x-python",
   "name": "python",
   "nbconvert_exporter": "python",
   "pygments_lexer": "ipython2",
   "version": "2.7.18"
  },
  "orig_nbformat": 4
 },
 "nbformat": 4,
 "nbformat_minor": 2
}
