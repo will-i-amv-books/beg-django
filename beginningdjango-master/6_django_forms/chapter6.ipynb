{
 "cells": [
  {
   "cell_type": "markdown",
   "metadata": {},
   "source": [
    "# Chapter 5 - Django Forms"
   ]
  },
  {
   "cell_type": "markdown",
   "metadata": {},
   "source": [
    "## Django Form Structure and Workflow"
   ]
  },
  {
   "cell_type": "code",
   "execution_count": null,
   "metadata": {},
   "outputs": [],
   "source": [
    "from django import forms\n",
    "from django.shortcuts import render\n",
    "from django.http import HttpResponseRedirect\n"
   ]
  },
  {
   "cell_type": "markdown",
   "metadata": {},
   "source": [
    "6.1. Django form class definition"
   ]
  },
  {
   "cell_type": "code",
   "execution_count": null,
   "metadata": {},
   "outputs": [],
   "source": [
    "# forms.py in 'contact' app \n",
    "\n",
    "class ContactForm(forms.Form):\n",
    "    name = forms.CharField(required=False)\n",
    "    email = forms.EmailField(label='Your email')\n",
    "    comment = forms.CharField(widget=forms.Textarea)\n"
   ]
  },
  {
   "cell_type": "markdown",
   "metadata": {},
   "source": [
    "6.2. Django view method that uses a Django form"
   ]
  },
  {
   "cell_type": "code",
   "execution_count": null,
   "metadata": {},
   "outputs": [],
   "source": [
    "# views.py in 'contact' app\n",
    "from .forms import ContactForm\n",
    "\n",
    "\n",
    "def contact(request):\n",
    "    form = ContactForm()\n",
    "    return render(request,'about/contact.html', {'form':form})\n"
   ]
  },
  {
   "cell_type": "markdown",
   "metadata": {},
   "source": [
    "6.3. Django form instance rendered in template as HTML"
   ]
  },
  {
   "cell_type": "code",
   "execution_count": null,
   "metadata": {},
   "outputs": [],
   "source": [
    "<tr>\n",
    "    <th><label for=\"id_name\">Name:</label></th>\n",
    "    <td><input id=\"id_name\" name=\"name\" type=\"text\"/></td>\n",
    "</tr>\n",
    "<tr>\n",
    "    <th><label for=\"id_email\">Your email:</label></th>\n",
    "    <td><input id=\"id_email\" required name=\"email\" type=\"email\"/></td>\n",
    "</tr>\n",
    "<tr>\n",
    "    <th><label for=\"id_comment\">Comment:</label></th>\n",
    "    <td>\n",
    "        <textarea cols=\"40\" id=\"id_comment\" required name=\"comment\" rows=\"10\"></textarea>\n",
    "    </td>\n",
    "</tr>\n"
   ]
  },
  {
   "cell_type": "markdown",
   "metadata": {},
   "source": [
    "## Functional Web Form Syntax for Django Forms"
   ]
  },
  {
   "cell_type": "markdown",
   "metadata": {},
   "source": [
    "6.4. Django form template declaration for functional web form"
   ]
  },
  {
   "cell_type": "code",
   "execution_count": null,
   "metadata": {},
   "outputs": [],
   "source": [
    "<form method=\"POST\">\n",
    "    {% csrf_token %}\n",
    "    <table>\n",
    "        {{form.as_table}}\n",
    "    </table>\n",
    "    <input type=\"submit\" value=\"Submit form\">\n",
    "</form>\n"
   ]
  },
  {
   "cell_type": "markdown",
   "metadata": {},
   "source": [
    "## Django View Method to Process Form (POST Handling)"
   ]
  },
  {
   "cell_type": "code",
   "execution_count": null,
   "metadata": {},
   "outputs": [],
   "source": [
    "from django.views.decorators.csrf import csrf_exempt, csrf_protect\n"
   ]
  },
  {
   "cell_type": "markdown",
   "metadata": {},
   "source": [
    "6.5. Django view method that sends and processes Django form\n"
   ]
  },
  {
   "cell_type": "code",
   "execution_count": null,
   "metadata": {},
   "outputs": [],
   "source": [
    "def contact(request):\n",
    "    if request.method == 'POST':\n",
    "        # POST, generate form with data from the request\n",
    "        form = ContactForm(request.POST)\n",
    "        # check if it's valid:\n",
    "        if form.is_valid():\n",
    "            # process data, insert into DB, generate email,etc\n",
    "            # redirect to a new URL:\n",
    "            return HttpResponseRedirect('/about/contact/thankyou')\n",
    "    else:\n",
    "        # GET, generate blank form\n",
    "        form = ContactForm()\n",
    "    return render(request,'about/contact.html', {'form':form})\n"
   ]
  },
  {
   "cell_type": "markdown",
   "metadata": {},
   "source": [
    "6.6. Django view method decorated with @csrf_exempt() to bypass CSRF enforcement\n"
   ]
  },
  {
   "cell_type": "code",
   "execution_count": null,
   "metadata": {},
   "outputs": [],
   "source": [
    "@csrf_exempt\n",
    "def contact(request):\n",
    "    # Any POST-processing inside view method\n",
    "    # ignores if there is or isn't a CSRF token\n",
    "    return"
   ]
  },
  {
   "cell_type": "markdown",
   "metadata": {},
   "source": [
    "6.7. Django view method decorated with @csrf_protect() to enforce CSRF when CSRF is disabled at \n",
    "the project level"
   ]
  },
  {
   "cell_type": "code",
   "execution_count": null,
   "metadata": {},
   "outputs": [],
   "source": [
    "@csrf_protect\n",
    "def contact(request):\n",
    "    # Any POST processing inside view method\n",
    "    # checks for the presence of a CSRF token\n",
    "    # even when CsrfViewMiddleware is removed\n",
    "    return\n"
   ]
  }
 ],
 "metadata": {
  "interpreter": {
   "hash": "7a9e02a1f826380158911783ea17643d2a23bf263a4f25f2922627e4a1f5859b"
  },
  "kernelspec": {
   "display_name": "Python 2.7.18 64-bit ('env': venv)",
   "language": "python",
   "name": "python3"
  },
  "language_info": {
   "codemirror_mode": {
    "name": "ipython",
    "version": 2
   },
   "file_extension": ".py",
   "mimetype": "text/x-python",
   "name": "python",
   "nbconvert_exporter": "python",
   "pygments_lexer": "ipython2",
   "version": "2.7.18"
  },
  "orig_nbformat": 4
 },
 "nbformat": 4,
 "nbformat_minor": 2
}
