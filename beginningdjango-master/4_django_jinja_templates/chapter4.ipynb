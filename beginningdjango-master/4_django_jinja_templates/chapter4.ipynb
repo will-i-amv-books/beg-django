{
 "cells": [
  {
   "cell_type": "markdown",
   "metadata": {},
   "source": [
    "# Chapter 4  - Jinja Templates in Django"
   ]
  },
  {
   "cell_type": "code",
   "execution_count": null,
   "metadata": {},
   "outputs": [],
   "source": []
  }
 ],
 "metadata": {
  "interpreter": {
   "hash": "a5b11041615dfd69eb651b3d821f106f7278d1c1dba8393767d774ca92366f8a"
  },
  "kernelspec": {
   "display_name": "Python 2.7.18 64-bit ('env': venv)",
   "language": "python",
   "name": "python3"
  },
  "language_info": {
   "name": "python",
   "version": "2.7.18"
  },
  "orig_nbformat": 4
 },
 "nbformat": 4,
 "nbformat_minor": 2
}
