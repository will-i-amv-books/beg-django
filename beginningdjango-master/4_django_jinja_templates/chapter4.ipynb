{
 "cells": [
  {
   "cell_type": "markdown",
   "metadata": {},
   "source": [
    "# Chapter 4  - Jinja Templates in Django"
   ]
  },
  {
   "cell_type": "markdown",
   "metadata": {},
   "source": [
    "## Jinja Template Configuration in Django"
   ]
  },
  {
   "cell_type": "code",
   "execution_count": 1,
   "metadata": {},
   "outputs": [],
   "source": [
    "import os\n",
    "import jinja2\n"
   ]
  },
  {
   "cell_type": "markdown",
   "metadata": {},
   "source": [
    " 4.1. Jinja configuration in Django settings.py"
   ]
  },
  {
   "cell_type": "code",
   "execution_count": null,
   "metadata": {},
   "outputs": [],
   "source": [
    "BASE_DIR = os.path.dirname(os.path.dirname(os.path.abspath(__file__)))\n",
    "PROJECT_DIR = os.path.dirname(os.path.abspath(__file__))\n",
    "TEMPLATES = [\n",
    "    {\n",
    "        'BACKEND':'django.template.backends.jinja2.Jinja2',\n",
    "        'DIRS': ['%s/jinjatemplates/'% (PROJECT_DIR),],\n",
    "        'APP_DIRS': True,\n",
    "        #...\n",
    "    },\n",
    "    {\n",
    "        'BACKEND': 'django.template.backends.django.DjangoTemplates',\n",
    "        'DIRS': [],\n",
    "        'APP_DIRS': True,\n",
    "        #...\n",
    "    },\n",
    "]\n"
   ]
  },
  {
   "cell_type": "markdown",
   "metadata": {},
   "source": [
    "4.2. Django apps with jinja2 dirs with potential conflict and namespace qualification\n",
    "\n"
   ]
  },
  {
   "cell_type": "markdown",
   "metadata": {},
   "source": [
    "Templates directly under jinja2 folder can cause loading conflicts\n"
   ]
  },
  {
   "cell_type": "markdown",
   "metadata": {},
   "source": [
    "```\n",
    "+---+-<PROJECT_DIR_project_name_conflict>\n",
    "    |\n",
    "    +-__init__.py\n",
    "    +-settings.py\n",
    "    +-urls.py\n",
    "    +-wsgi.py\n",
    "    |\n",
    "    +-about(app)-+\n",
    "    |            +-__init__.py\n",
    "    |            +-models.py\n",
    "    |            +-tests.py\n",
    "    |            +-views.py\n",
    "    |            +-jinja2-+\n",
    "    |                     |\n",
    "    |                     +-index.html\n",
    "    +-stores(app)-+\n",
    "                  +-__init__.py\n",
    "                  +-models.py\n",
    "                  +-tests.py\n",
    "                  +-views.py\n",
    "                  +-jinja2-+\n",
    "                           |\n",
    "                           +-index.html\n",
    "```\n"
   ]
  },
  {
   "cell_type": "markdown",
   "metadata": {},
   "source": [
    "Templates classified with additional namespace avoid loading conflicts\n"
   ]
  },
  {
   "cell_type": "markdown",
   "metadata": {},
   "source": [
    "```\n",
    "+---+-<PROJECT_DIR_project_name_namespace>\n",
    "|\n",
    "+-__init__.py\n",
    "+-settings.py\n",
    "+-urls.py\n",
    "+-wsgi.py\n",
    "|\n",
    "+-about(app)-+\n",
    "|            +-__init__.py\n",
    "|            +-models.py\n",
    "|            +-tests.py\n",
    "|            +-views.py\n",
    "|            +-jinja2-+\n",
    "|                     |\n",
    "|                     +-about-+\n",
    "|                             |\n",
    "|                             +-index.html\n",
    "+-stores(app)-+\n",
    "              +-__init__.py\n",
    "              +-models.py\n",
    "              +-tests.py\n",
    "              +-views.py\n",
    "              +-jinja2-+\n",
    "                       |\n",
    "                       +-stores-+\n",
    "                                |\n",
    "                                +-index.htm\n",
    "```\n"
   ]
  },
  {
   "cell_type": "markdown",
   "metadata": {},
   "source": [
    "4.3. Jinja disable auto-escaping in Django\n"
   ]
  },
  {
   "cell_type": "code",
   "execution_count": null,
   "metadata": {},
   "outputs": [],
   "source": [
    "TEMPLATES = [\n",
    "    {\n",
    "        #...\n",
    "        'OPTIONS': {\n",
    "            'autoescape': False\n",
    "        },\n",
    "    }\n",
    "]"
   ]
  },
  {
   "cell_type": "markdown",
   "metadata": {},
   "source": [
    "4.4. Generate error for invalid variables in Jinja with jinja2.StrictUndefined"
   ]
  },
  {
   "cell_type": "code",
   "execution_count": null,
   "metadata": {},
   "outputs": [],
   "source": [
    "TEMPLATES = [\n",
    "    {\n",
    "        #...\n",
    "        'OPTIONS': {\n",
    "            'undefined':jinja2.StrictUndefined\n",
    "        },\n",
    "    }\n",
    "]"
   ]
  },
  {
   "cell_type": "markdown",
   "metadata": {},
   "source": [
    "## Create Reusable Jinja Templates"
   ]
  },
  {
   "cell_type": "markdown",
   "metadata": {},
   "source": [
    "4.5. Jinja template with {% block %} tags\n"
   ]
  },
  {
   "cell_type": "code",
   "execution_count": null,
   "metadata": {},
   "outputs": [],
   "source": [
    "<!DOCTYPE html>\n",
    "    <html lang=\"en\">\n",
    "        <head>\n",
    "            <meta charset=\"utf-8\">\n",
    "            <title>{% block title%}Default title{% endblock title %}</title>\n",
    "            <meta name=\"description\" content=\"{% block metadescription%}{% endblock metadescription %}\">\n",
    "            <meta name=\"keywords\" content=\"{% block metakeywords%}{% endblock metakeywords %}\">\n",
    "            <!--......-->\n"
   ]
  },
  {
   "cell_type": "markdown",
   "metadata": {},
   "source": [
    "4.6. Jinja template with {% extends %} and {% block %} tag"
   ]
  },
  {
   "cell_type": "code",
   "execution_count": null,
   "metadata": {},
   "outputs": [],
   "source": [
    "{% if user %}\n",
    "    {% extends \"base.html\" %}\n",
    "{% else %}\n",
    "    {% extends \"signup_base.html\" %}\n",
    "{% endif %}\n",
    "\n",
    "{% block title %}Coffeehouse home page{% endblock %}\n"
   ]
  },
  {
   "cell_type": "markdown",
   "metadata": {},
   "source": [
    "4.7. Jinja templates use of super() with three reusable templates\n"
   ]
  },
  {
   "cell_type": "code",
   "execution_count": null,
   "metadata": {},
   "outputs": [],
   "source": [
    "# base.html template\n",
    "\n",
    "<p>{% block breadcrumb %}Home{% endblock %}</p>\n",
    "\n",
    "# index.html template\n",
    "\n",
    "{% extends \"base.html\" %}\n",
    "{% block breadcrumb %}Main{% endblock %}\n",
    "\n",
    "# detail.html template\n",
    "\n",
    "{% extends \"index.html\" %}\n",
    "{% block breadcrumb %} {{super()}} : Detail {% endblock %}\n"
   ]
  },
  {
   "cell_type": "markdown",
   "metadata": {},
   "source": [
    "4.8. Jinja {% macro %} definition and use of {% import %}\n"
   ]
  },
  {
   "cell_type": "code",
   "execution_count": null,
   "metadata": {},
   "outputs": [],
   "source": [
    "# base.html template\n",
    "\n",
    "{% macro coffeestore(name, id='', address='', city='San Diego', state='CA', email=None) -%}\n",
    "    <a id=\"{{id}}\"></a>\n",
    "    <h4>{{name}}</h4>\n",
    "    <p>{{address}} {{city}},{{state}}</p>\n",
    "    {% if email %}\n",
    "        <p><a href='mailto:{{email}}'>{{email}}</a></p>\n",
    "    {% endif %}\n",
    "{%- endmacro %}\n",
    "\n",
    "# index.html template calls inherited macro directly\n",
    "\n",
    "{% extends \"base.html\" %}\n",
    "{{coffeestore('Downtown', 1, 'Horton Plaza', 'San Diego', 'CA', 'downtown@coffeehouse.com')}}\n",
    "\n",
    "# detail.html template with no extends, uses {% import %} to access macro in base.html\n",
    "\n",
    "{% import 'base.html' as base %}\n",
    "{{base.coffeestore('Downtown', 1, 'Horton Plaza', 'San Diego', 'CA', 'downtown@coffeehouse.com')}}\n",
    "\n",
    "# otherdetail.html template with no extends, uses {% from import %} to access macro in base.html\n",
    "\n",
    "{% from 'base.html' import coffeestore as mycoffeestoremacro %}\n",
    "{{mycoffeestoremacro('Downtown', 1, 'Horton Plaza', 'San Diego', 'CA', 'downtown@coffeehouse.com')}}\n"
   ]
  },
  {
   "cell_type": "markdown",
   "metadata": {},
   "source": [
    "4.9. Jinja {% call %} and {% macro %} use\n"
   ]
  },
  {
   "cell_type": "code",
   "execution_count": null,
   "metadata": {},
   "outputs": [],
   "source": [
    "# macro definition\n",
    "\n",
    "{% macro contentlist(adcolumn_width=3,contentcolumn_width=6) -%}\n",
    "    <div class=\"col-md-{{adcolumn_width}}\">Sidebar ads</div>\n",
    "    <div class=\"col-md-{{contentcolumn_width}}\">{{ caller() }}</div>\n",
    "    <div class=\"col-md-{{adcolumn_width}}\">Sidebar ads</div>\n",
    "{%- endmacro %}\n",
    "\n",
    "# macro call/invocation\n",
    "\n",
    "{% call contentlist() %}\n",
    "    <ul>\n",
    "        <li>This is my list</li>\n",
    "    </ul>\n",
    "{% endcall %}\n",
    "\n",
    "# rendering\n",
    "\n",
    "<div class=\"col-md-3\">Sidebar ads</div>\n",
    "<div class=\"col-md-6\">\n",
    "    <ul>\n",
    "        <li>This is my list</li>\n",
    "    </ul>\n",
    "</div>\n",
    "<div class=\"col-md-3\">Sidebar ads</div>\n",
    "    "
   ]
  },
  {
   "cell_type": "markdown",
   "metadata": {},
   "source": [
    "4.10. Jinja {% call %} and {% macro %} recursive calls\n"
   ]
  },
  {
   "cell_type": "code",
   "execution_count": null,
   "metadata": {},
   "outputs": [],
   "source": [
    "# macro definition\n",
    "\n",
    "{% macro contentlist(itemlist, adcolumn_width=3, contentcolumn_width=6) -%}\n",
    "    <div class=\"col-md-{{adcolumn_width}}\">Sidebar ads</div>\n",
    "    <div class=\"col-md-{{contentcolumn_width}}\">\n",
    "        {% for item in itemlist %}\n",
    "            {{ caller(item) }}\n",
    "        {% endfor %}\n",
    "    </div>\n",
    "    <div class=\"col-md-{{adcolumn_width}}\">Sidebar ads</div>\n",
    "{%- endmacro %}\n",
    "\n",
    "# variable definition\n",
    "\n",
    "{% set coffeestores = [\n",
    "    {\n",
    "        'id': 0,\n",
    "        'name':'Corporate',\n",
    "        'address':'624 Broadway',\n",
    "        'city':'San Diego',\n",
    "        'state':'CA',\n",
    "        'email':'corporate@coffeehouse.com'\n",
    "    },\n",
    "    {\n",
    "        'id':1,\n",
    "        'name':'Downtown',\n",
    "        'address':'Horton Plaza',\n",
    "        'city':'San Diego',\n",
    "        'state':'CA',\n",
    "        'email':'downtown@coffeehouse.com'\n",
    "    },\n",
    "    {\n",
    "        'id':2,\n",
    "        'name':'Uptown',\n",
    "        'address':'1240 University Ave',\n",
    "        'city':'San Diego',\n",
    "        'state':'CA',\n",
    "        'email':'uptown@coffeehouse.com'\n",
    "    },\n",
    "    {\n",
    "        'id':3,\n",
    "        'name':'Midtown',\n",
    "        'address':'784 W Washington St',\n",
    "        'city':'San Diego',\n",
    "        'state':'CA',\n",
    "        'email':'midtown@coffeehouse.com'\n",
    "    }\n",
    "]%}\n",
    "    \n",
    "# macro call/invocation\n",
    "\n",
    "{% call(item) contentlist(coffeestores) %}\n",
    "    <a id=\"{{item.id}}\"></a>\n",
    "    <h4>{{item.name}}</h4>\n",
    "    <p>{{item.address}} {{item.city}}, {{item.state}}</p>\n",
    "    {% if item.email %}<p><a href='mailto:{{item.email}}'>{{item.email}}</a></p>{% endif %}\n",
    "{% endcall %}\n",
    "\n",
    "# rendering\n",
    "\n",
    "<div class=\"col-md-3\">Sidebar ads</div>\n",
    "<div class=\"col-md-6\">\n",
    "    <a id=\"0\"></a>\n",
    "    <h4>Corporate</h4>\n",
    "    <p>624 Broadway San Diego, CA</p>\n",
    "    <p><a href=\"mailto:corporate@coffeehouse.com\">corporate@coffeehouse.com</a></p>\n",
    "\n",
    "    <a id=\"1\"></a>\n",
    "    <h4>Downtown</h4>\n",
    "    <p>Horton Plaza San Diego, CA</p>\n",
    "    <p><a href=\"mailto:downtown@coffeehouse.com\">downtown@coffeehouse.com</a></p>\n",
    "\n",
    "    <a id=\"2\"></a>\n",
    "    <h4>Uptown</h4>\n",
    "    <p>1240 University Ave San Diego, CA</p>\n",
    "    <p><a href=\"mailto:uptown@coffeehouse.com\">uptown@coffeehouse.com</a></p>\n",
    "\n",
    "    <a id=\"3\"></a>\n",
    "    <h4>Midtown</h4>\n",
    "    <p>784 W Washington St San Diego, CA</p>\n",
    "    <p><a href=\"mailto:midtown@coffeehouse.com\">midtown@coffeehouse.com</a></p>\n",
    "</div>\n",
    "<div class=\"col-md-3\">Sidebar ads</div>\n"
   ]
  },
  {
   "cell_type": "markdown",
   "metadata": {},
   "source": [
    "## Jinja Globals"
   ]
  },
  {
   "cell_type": "code",
   "execution_count": null,
   "metadata": {},
   "outputs": [],
   "source": [
    "from jinja2.environment import Environment\n",
    "from django.contrib.staticfiles.storage import staticfiles_storage\n",
    "from django.core.urlresolvers import reverse\n"
   ]
  },
  {
   "cell_type": "markdown",
   "metadata": {},
   "source": [
    "4.11. Custom Jinja environment with global variable\n"
   ]
  },
  {
   "cell_type": "code",
   "execution_count": null,
   "metadata": {},
   "outputs": [],
   "source": [
    "class JinjaEnvironment(Environment):\n",
    "    def __init__(self, **kwargs):\n",
    "        super(JinjaEnvironment, self).__init__(**kwargs)\n",
    "        self.globals['static'] = staticfiles_storage.url\n",
    "        self.globals['reverse'] = reverse"
   ]
  },
  {
   "cell_type": "markdown",
   "metadata": {},
   "source": [
    "4.12. Configure custom Jinja environment in Django setttings.py\n"
   ]
  },
  {
   "cell_type": "code",
   "execution_count": null,
   "metadata": {},
   "outputs": [],
   "source": [
    "TEMPLATES = [\n",
    "    {\n",
    "        'BACKEND':'django.template.backends.jinja2.Jinja2',\n",
    "        'DIRS': ['%s/templates/'% (PROJECT_DIR),],\n",
    "        'APP_DIRS': True,\n",
    "        'OPTIONS': {\n",
    "            'environment': 'coffeehouse.jinja.env.JinjaEnvironment'\n",
    "        }\n",
    "    },\n",
    "]"
   ]
  },
  {
   "cell_type": "markdown",
   "metadata": {},
   "source": [
    "4.13. Directory structure and location of custom Jinja environment\n"
   ]
  },
  {
   "cell_type": "markdown",
   "metadata": {},
   "source": [
    "```\n",
    "+---+-<PROJECT_DIR_coffeehouse>\n",
    "    |\n",
    "    +-__init__.py\n",
    "    +-settings.py\n",
    "    +-urls.py\n",
    "    +-wsgi.py\n",
    "    |\n",
    "    +-jinja-+\n",
    "            +-__init__.py\n",
    "            +-env.py\n",
    "```"
   ]
  }
 ],
 "metadata": {
  "interpreter": {
   "hash": "a5b11041615dfd69eb651b3d821f106f7278d1c1dba8393767d774ca92366f8a"
  },
  "kernelspec": {
   "display_name": "Python 2.7.18 64-bit ('env': venv)",
   "language": "python",
   "name": "python3"
  },
  "language_info": {
   "codemirror_mode": {
    "name": "ipython",
    "version": 2
   },
   "file_extension": ".py",
   "mimetype": "text/x-python",
   "name": "python",
   "nbconvert_exporter": "python",
   "pygments_lexer": "ipython2",
   "version": "2.7.18"
  },
  "orig_nbformat": 4
 },
 "nbformat": 4,
 "nbformat_minor": 2
}
