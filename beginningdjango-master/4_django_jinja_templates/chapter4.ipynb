{
 "cells": [
  {
   "cell_type": "markdown",
   "metadata": {},
   "source": [
    "# Chapter 4  - Jinja Templates in Django"
   ]
  },
  {
   "cell_type": "markdown",
   "metadata": {},
   "source": [
    "## Jinja Template Configuration in Django"
   ]
  },
  {
   "cell_type": "code",
   "execution_count": 1,
   "metadata": {},
   "outputs": [],
   "source": [
    "import os\n",
    "import jinja2\n"
   ]
  },
  {
   "cell_type": "markdown",
   "metadata": {},
   "source": [
    " 4.1. Jinja configuration in Django settings.py"
   ]
  },
  {
   "cell_type": "code",
   "execution_count": null,
   "metadata": {},
   "outputs": [],
   "source": [
    "BASE_DIR = os.path.dirname(os.path.dirname(os.path.abspath(__file__)))\n",
    "PROJECT_DIR = os.path.dirname(os.path.abspath(__file__))\n",
    "TEMPLATES = [\n",
    "    {\n",
    "        'BACKEND':'django.template.backends.jinja2.Jinja2',\n",
    "        'DIRS': ['%s/jinjatemplates/'% (PROJECT_DIR),],\n",
    "        'APP_DIRS': True,\n",
    "        #...\n",
    "    },\n",
    "    {\n",
    "        'BACKEND': 'django.template.backends.django.DjangoTemplates',\n",
    "        'DIRS': [],\n",
    "        'APP_DIRS': True,\n",
    "        #...\n",
    "    },\n",
    "]\n"
   ]
  },
  {
   "cell_type": "markdown",
   "metadata": {},
   "source": [
    "4.2. Django apps with jinja2 dirs with potential conflict and namespace qualification\n",
    "\n"
   ]
  },
  {
   "cell_type": "markdown",
   "metadata": {},
   "source": [
    "Templates directly under jinja2 folder can cause loading conflicts\n"
   ]
  },
  {
   "cell_type": "markdown",
   "metadata": {},
   "source": [
    "```\n",
    "+---+-<PROJECT_DIR_project_name_conflict>\n",
    "    |\n",
    "    +-__init__.py\n",
    "    +-settings.py\n",
    "    +-urls.py\n",
    "    +-wsgi.py\n",
    "    |\n",
    "    +-about(app)-+\n",
    "    |            +-__init__.py\n",
    "    |            +-models.py\n",
    "    |            +-tests.py\n",
    "    |            +-views.py\n",
    "    |            +-jinja2-+\n",
    "    |                     |\n",
    "    |                     +-index.html\n",
    "    +-stores(app)-+\n",
    "                  +-__init__.py\n",
    "                  +-models.py\n",
    "                  +-tests.py\n",
    "                  +-views.py\n",
    "                  +-jinja2-+\n",
    "                           |\n",
    "                           +-index.html\n",
    "```\n"
   ]
  },
  {
   "cell_type": "markdown",
   "metadata": {},
   "source": [
    "Templates classified with additional namespace avoid loading conflicts\n"
   ]
  },
  {
   "cell_type": "markdown",
   "metadata": {},
   "source": [
    "```\n",
    "+---+-<PROJECT_DIR_project_name_namespace>\n",
    "|\n",
    "+-__init__.py\n",
    "+-settings.py\n",
    "+-urls.py\n",
    "+-wsgi.py\n",
    "|\n",
    "+-about(app)-+\n",
    "|            +-__init__.py\n",
    "|            +-models.py\n",
    "|            +-tests.py\n",
    "|            +-views.py\n",
    "|            +-jinja2-+\n",
    "|                     |\n",
    "|                     +-about-+\n",
    "|                             |\n",
    "|                             +-index.html\n",
    "+-stores(app)-+\n",
    "              +-__init__.py\n",
    "              +-models.py\n",
    "              +-tests.py\n",
    "              +-views.py\n",
    "              +-jinja2-+\n",
    "                       |\n",
    "                       +-stores-+\n",
    "                                |\n",
    "                                +-index.htm\n",
    "```\n"
   ]
  },
  {
   "cell_type": "markdown",
   "metadata": {},
   "source": [
    "4.3. Jinja disable auto-escaping in Django\n"
   ]
  },
  {
   "cell_type": "code",
   "execution_count": null,
   "metadata": {},
   "outputs": [],
   "source": [
    "TEMPLATES = [\n",
    "    {\n",
    "        #...\n",
    "        'OPTIONS': {\n",
    "            'autoescape': False\n",
    "        },\n",
    "    }\n",
    "]"
   ]
  },
  {
   "cell_type": "markdown",
   "metadata": {},
   "source": [
    "4.4. Generate error for invalid variables in Jinja with jinja2.StrictUndefined"
   ]
  },
  {
   "cell_type": "code",
   "execution_count": null,
   "metadata": {},
   "outputs": [],
   "source": [
    "TEMPLATES = [\n",
    "    {\n",
    "        #...\n",
    "        'OPTIONS': {\n",
    "            'undefined':jinja2.StrictUndefined\n",
    "        },\n",
    "    }\n",
    "]"
   ]
  },
  {
   "cell_type": "markdown",
   "metadata": {},
   "source": [
    "## Create Reusable Jinja Templates"
   ]
  },
  {
   "cell_type": "markdown",
   "metadata": {},
   "source": [
    "4.5. Jinja template with {% block %} tags\n"
   ]
  },
  {
   "cell_type": "code",
   "execution_count": null,
   "metadata": {},
   "outputs": [],
   "source": [
    "<!DOCTYPE html>\n",
    "    <html lang=\"en\">\n",
    "        <head>\n",
    "            <meta charset=\"utf-8\">\n",
    "            <title>{% block title%}Default title{% endblock title %}</title>\n",
    "            <meta name=\"description\" content=\"{% block metadescription%}{% endblock metadescription %}\">\n",
    "            <meta name=\"keywords\" content=\"{% block metakeywords%}{% endblock metakeywords %}\">\n",
    "            <!--......-->\n"
   ]
  },
  {
   "cell_type": "markdown",
   "metadata": {},
   "source": [
    "4.6. Jinja template with {% extends %} and {% block %} tag"
   ]
  },
  {
   "cell_type": "code",
   "execution_count": null,
   "metadata": {},
   "outputs": [],
   "source": [
    "{% if user %}\n",
    "    {% extends \"base.html\" %}\n",
    "{% else %}\n",
    "    {% extends \"signup_base.html\" %}\n",
    "{% endif %}\n",
    "\n",
    "{% block title %}Coffeehouse home page{% endblock %}\n"
   ]
  },
  {
   "cell_type": "markdown",
   "metadata": {},
   "source": [
    "4.7. Jinja templates use of super() with three reusable templates\n"
   ]
  },
  {
   "cell_type": "code",
   "execution_count": null,
   "metadata": {},
   "outputs": [],
   "source": [
    "# base.html template\n",
    "\n",
    "<p>{% block breadcrumb %}Home{% endblock %}</p>\n",
    "\n",
    "# index.html template\n",
    "\n",
    "{% extends \"base.html\" %}\n",
    "{% block breadcrumb %}Main{% endblock %}\n",
    "\n",
    "# detail.html template\n",
    "\n",
    "{% extends \"index.html\" %}\n",
    "{% block breadcrumb %} {{super()}} : Detail {% endblock %}\n"
   ]
  },
  {
   "cell_type": "markdown",
   "metadata": {},
   "source": [
    "4.8. Jinja {% macro %} definition and use of {% import %}\n"
   ]
  },
  {
   "cell_type": "code",
   "execution_count": null,
   "metadata": {},
   "outputs": [],
   "source": [
    "# base.html template\n",
    "\n",
    "{% macro coffeestore(name, id='', address='', city='San Diego', state='CA', email=None) -%}\n",
    "    <a id=\"{{id}}\"></a>\n",
    "    <h4>{{name}}</h4>\n",
    "    <p>{{address}} {{city}},{{state}}</p>\n",
    "    {% if email %}\n",
    "        <p><a href='mailto:{{email}}'>{{email}}</a></p>\n",
    "    {% endif %}\n",
    "{%- endmacro %}\n",
    "\n",
    "# index.html template calls inherited macro directly\n",
    "\n",
    "{% extends \"base.html\" %}\n",
    "{{coffeestore('Downtown', 1, 'Horton Plaza', 'San Diego', 'CA', 'downtown@coffeehouse.com')}}\n",
    "\n",
    "# detail.html template with no extends, uses {% import %} to access macro in base.html\n",
    "\n",
    "{% import 'base.html' as base %}\n",
    "{{base.coffeestore('Downtown', 1, 'Horton Plaza', 'San Diego', 'CA', 'downtown@coffeehouse.com')}}\n",
    "\n",
    "# otherdetail.html template with no extends, uses {% from import %} to access macro in base.html\n",
    "\n",
    "{% from 'base.html' import coffeestore as mycoffeestoremacro %}\n",
    "{{mycoffeestoremacro('Downtown', 1, 'Horton Plaza', 'San Diego', 'CA', 'downtown@coffeehouse.com')}}\n"
   ]
  },
  {
   "cell_type": "markdown",
   "metadata": {},
   "source": [
    "4.9. Jinja {% call %} and {% macro %} use\n"
   ]
  },
  {
   "cell_type": "code",
   "execution_count": null,
   "metadata": {},
   "outputs": [],
   "source": [
    "# macro definition\n",
    "\n",
    "{% macro contentlist(adcolumn_width=3,contentcolumn_width=6) -%}\n",
    "    <div class=\"col-md-{{adcolumn_width}}\">Sidebar ads</div>\n",
    "    <div class=\"col-md-{{contentcolumn_width}}\">{{ caller() }}</div>\n",
    "    <div class=\"col-md-{{adcolumn_width}}\">Sidebar ads</div>\n",
    "{%- endmacro %}\n",
    "\n",
    "# macro call/invocation\n",
    "\n",
    "{% call contentlist() %}\n",
    "    <ul>\n",
    "        <li>This is my list</li>\n",
    "    </ul>\n",
    "{% endcall %}\n",
    "\n",
    "# rendering\n",
    "\n",
    "<div class=\"col-md-3\">Sidebar ads</div>\n",
    "<div class=\"col-md-6\">\n",
    "    <ul>\n",
    "        <li>This is my list</li>\n",
    "    </ul>\n",
    "</div>\n",
    "<div class=\"col-md-3\">Sidebar ads</div>\n",
    "    "
   ]
  },
  {
   "cell_type": "markdown",
   "metadata": {},
   "source": [
    "4.10. Jinja {% call %} and {% macro %} recursive calls\n"
   ]
  },
  {
   "cell_type": "code",
   "execution_count": null,
   "metadata": {},
   "outputs": [],
   "source": [
    "# macro definition\n",
    "\n",
    "{% macro contentlist(itemlist, adcolumn_width=3, contentcolumn_width=6) -%}\n",
    "    <div class=\"col-md-{{adcolumn_width}}\">Sidebar ads</div>\n",
    "    <div class=\"col-md-{{contentcolumn_width}}\">\n",
    "        {% for item in itemlist %}\n",
    "            {{ caller(item) }}\n",
    "        {% endfor %}\n",
    "    </div>\n",
    "    <div class=\"col-md-{{adcolumn_width}}\">Sidebar ads</div>\n",
    "{%- endmacro %}\n",
    "\n",
    "# variable definition\n",
    "\n",
    "{% set coffeestores = [\n",
    "    {\n",
    "        'id': 0,\n",
    "        'name':'Corporate',\n",
    "        'address':'624 Broadway',\n",
    "        'city':'San Diego',\n",
    "        'state':'CA',\n",
    "        'email':'corporate@coffeehouse.com'\n",
    "    },\n",
    "    {\n",
    "        'id':1,\n",
    "        'name':'Downtown',\n",
    "        'address':'Horton Plaza',\n",
    "        'city':'San Diego',\n",
    "        'state':'CA',\n",
    "        'email':'downtown@coffeehouse.com'\n",
    "    },\n",
    "    {\n",
    "        'id':2,\n",
    "        'name':'Uptown',\n",
    "        'address':'1240 University Ave',\n",
    "        'city':'San Diego',\n",
    "        'state':'CA',\n",
    "        'email':'uptown@coffeehouse.com'\n",
    "    },\n",
    "    {\n",
    "        'id':3,\n",
    "        'name':'Midtown',\n",
    "        'address':'784 W Washington St',\n",
    "        'city':'San Diego',\n",
    "        'state':'CA',\n",
    "        'email':'midtown@coffeehouse.com'\n",
    "    }\n",
    "]%}\n",
    "    \n",
    "# macro call/invocation\n",
    "\n",
    "{% call(item) contentlist(coffeestores) %}\n",
    "    <a id=\"{{item.id}}\"></a>\n",
    "    <h4>{{item.name}}</h4>\n",
    "    <p>{{item.address}} {{item.city}}, {{item.state}}</p>\n",
    "    {% if item.email %}<p><a href='mailto:{{item.email}}'>{{item.email}}</a></p>{% endif %}\n",
    "{% endcall %}\n",
    "\n",
    "# rendering\n",
    "\n",
    "<div class=\"col-md-3\">Sidebar ads</div>\n",
    "<div class=\"col-md-6\">\n",
    "    <a id=\"0\"></a>\n",
    "    <h4>Corporate</h4>\n",
    "    <p>624 Broadway San Diego, CA</p>\n",
    "    <p><a href=\"mailto:corporate@coffeehouse.com\">corporate@coffeehouse.com</a></p>\n",
    "\n",
    "    <a id=\"1\"></a>\n",
    "    <h4>Downtown</h4>\n",
    "    <p>Horton Plaza San Diego, CA</p>\n",
    "    <p><a href=\"mailto:downtown@coffeehouse.com\">downtown@coffeehouse.com</a></p>\n",
    "\n",
    "    <a id=\"2\"></a>\n",
    "    <h4>Uptown</h4>\n",
    "    <p>1240 University Ave San Diego, CA</p>\n",
    "    <p><a href=\"mailto:uptown@coffeehouse.com\">uptown@coffeehouse.com</a></p>\n",
    "\n",
    "    <a id=\"3\"></a>\n",
    "    <h4>Midtown</h4>\n",
    "    <p>784 W Washington St San Diego, CA</p>\n",
    "    <p><a href=\"mailto:midtown@coffeehouse.com\">midtown@coffeehouse.com</a></p>\n",
    "</div>\n",
    "<div class=\"col-md-3\">Sidebar ads</div>\n"
   ]
  },
  {
   "cell_type": "markdown",
   "metadata": {},
   "source": [
    "## Jinja Globals"
   ]
  },
  {
   "cell_type": "code",
   "execution_count": null,
   "metadata": {},
   "outputs": [],
   "source": [
    "from jinja2.environment import Environment\n",
    "from django.contrib.staticfiles.storage import staticfiles_storage\n",
    "from django.core.urlresolvers import reverse\n"
   ]
  },
  {
   "cell_type": "markdown",
   "metadata": {},
   "source": [
    "4.11. Custom Jinja environment with global variable\n"
   ]
  },
  {
   "cell_type": "code",
   "execution_count": null,
   "metadata": {},
   "outputs": [],
   "source": [
    "class JinjaEnvironment(Environment):\n",
    "    def __init__(self, **kwargs):\n",
    "        super(JinjaEnvironment, self).__init__(**kwargs)\n",
    "        self.globals['static'] = staticfiles_storage.url\n",
    "        self.globals['reverse'] = reverse"
   ]
  },
  {
   "cell_type": "markdown",
   "metadata": {},
   "source": [
    "4.12. Configure custom Jinja environment in Django setttings.py\n"
   ]
  },
  {
   "cell_type": "code",
   "execution_count": null,
   "metadata": {},
   "outputs": [],
   "source": [
    "TEMPLATES = [\n",
    "    {\n",
    "        'BACKEND':'django.template.backends.jinja2.Jinja2',\n",
    "        'DIRS': ['%s/templates/'% (PROJECT_DIR),],\n",
    "        'APP_DIRS': True,\n",
    "        'OPTIONS': {\n",
    "            'environment': 'coffeehouse.jinja.env.JinjaEnvironment'\n",
    "        }\n",
    "    },\n",
    "]"
   ]
  },
  {
   "cell_type": "markdown",
   "metadata": {},
   "source": [
    "4.13. Directory structure and location of custom Jinja environment\n"
   ]
  },
  {
   "cell_type": "markdown",
   "metadata": {},
   "source": [
    "```\n",
    "+---+-<PROJECT_DIR_coffeehouse>\n",
    "    |\n",
    "    +-__init__.py\n",
    "    +-settings.py\n",
    "    +-urls.py\n",
    "    +-wsgi.py\n",
    "    |\n",
    "    +-jinja-+\n",
    "            +-__init__.py\n",
    "            +-env.py\n",
    "```"
   ]
  },
  {
   "cell_type": "markdown",
   "metadata": {},
   "source": [
    "## Jinja Built-In Statements/Tags and Functions"
   ]
  },
  {
   "cell_type": "markdown",
   "metadata": {},
   "source": [
    "4.14. Jinja {% if %} statement with {% elif %} and {% else %}\n"
   ]
  },
  {
   "cell_type": "code",
   "execution_count": null,
   "metadata": {},
   "outputs": [],
   "source": [
    "{% if drinks %}\n",
    "     We have drinks!\n",
    "{% endif %}\n",
    "\n",
    "{% if drinks %}\n",
    "    We have drinks\n",
    "{% else %}\n",
    "    No drinks,sorry\n",
    "{% endif %}\n",
    "\n",
    "{% if drinks %}\n",
    "    We have drinks\n",
    "{% elif drinks_on_sale %}\n",
    "    We have drinks on sale!\n",
    "{% else %}\n",
    "    No drinks, sorry\n",
    "{% endif %}"
   ]
  },
  {
   "cell_type": "markdown",
   "metadata": {},
   "source": [
    "4.15. Jinja {% for %} statement and {% for %} with {% else %}"
   ]
  },
  {
   "cell_type": "code",
   "execution_count": null,
   "metadata": {},
   "outputs": [],
   "source": [
    "<ul>\n",
    "{% for drink in drinks %}\n",
    "    <li>{{ drink.name }}</li>\n",
    "{% else %}\n",
    "    <li>No drinks, sorry</li>\n",
    "{% endfor %}\n",
    "</ul>\n",
    "\n",
    "\n",
    "<ul> \n",
    "{% for storeid,store in stores %}\n",
    "    <li>\n",
    "        <a href=\"/stores/{{storeid}}/\">{{store.name}}</a>\n",
    "    </li>\n",
    "{% endfor %}\n",
    "</ul>\n",
    "\n"
   ]
  },
  {
   "cell_type": "markdown",
   "metadata": {},
   "source": [
    "4.16. Jinja {% for %} statement with recursive keyword\n"
   ]
  },
  {
   "cell_type": "code",
   "execution_count": null,
   "metadata": {},
   "outputs": [],
   "source": [
    "# Dictionary definition\n",
    "coffees = {\n",
    "    'espresso': {\n",
    "        'nothing else': 'Espresso',\n",
    "        'water': 'Americano',\n",
    "        'steamed milk': {\n",
    "            'more steamed milk than milk foam': 'Latte',\n",
    "            'chocolate syrup': {'Whipped cream': 'Mocha'}\n",
    "        },\n",
    "        'more milk foam than steamed milk': 'Capuccino'\n",
    "    }\n",
    "}\n",
    "\n",
    "#  Template definition with for and recursive\n",
    "{% for ingredient, result in coffees.iteritems() recursive %}\n",
    "    <li>\n",
    "    {{ ingredient}}\n",
    "    {% if result is mapping %}\n",
    "        <ul>{{ loop(result.iteritems()) }}</ul>\n",
    "    {% else %}\n",
    "        YOU GET: {{ result }}\n",
    "    {% endif %}\n",
    "    </li>\n",
    "{% endfor %}\n",
    "\n",
    "# Output\n",
    "espresso\n",
    "    water YOU GET: Americano\n",
    "    steamed milk\n",
    "        more steamed milk than milk foam YOU GET: Latte\n",
    "        chocolate syrup\n",
    "            Whipped cream YOU GET: Mocha\n",
    "    more milk foam than steamed milk YOU GET: Capuccino\n",
    "    nothing else YOU GET: Espresso\n"
   ]
  },
  {
   "cell_type": "markdown",
   "metadata": {},
   "source": [
    "4.17. Jinja cycler function"
   ]
  },
  {
   "cell_type": "code",
   "execution_count": null,
   "metadata": {},
   "outputs": [],
   "source": [
    "{% set row_class = cycler('white', 'lightgrey', 'grey') %}\n",
    "\n",
    "<ul>\n",
    "{% for item in items %}\n",
    "    <li class=\"{{ row_class.next() }}\">{{ item }}</li>\n",
    "{% endfor %}\n",
    "\n",
    "{% for otheritem in moreitems %}\n",
    "    <li class=\"{{ row_class.next() }}\">{{ otheritem }}</li>\n",
    "{% endfor %}\n",
    "\n",
    "# Output\n",
    "<ul>\n",
    "    <li class=\"white\">Item 1</li>\n",
    "    <li class=\"lightgrey\">Item 2 </li>\n",
    "    <li class=\"grey\">Item 3 </li>\n",
    "    <li class=\"white\">Item 4</li>\n",
    "    <li class=\"lightgrey\">Item 5</li>\n",
    "    <li class=\"grey\">Other item 1</li>\n",
    "    <li class=\"white\">Other item 2</li>\n",
    "</ul>\n"
   ]
  },
  {
   "cell_type": "markdown",
   "metadata": {},
   "source": [
    "4.18. Jinja joiner function\n"
   ]
  },
  {
   "cell_type": "code",
   "execution_count": null,
   "metadata": {},
   "outputs": [],
   "source": [
    "{% set slash_joiner = joiner(\"/ \") %}\n",
    "User: \n",
    "{% if username %} \n",
    "    {{ slash_joiner() }} {{username}}\n",
    "{% endif %}\n",
    "\n",
    "{% if alias %} \n",
    "    {{ slash_joiner() }} {{alias}}\n",
    "{% endif %}\n",
    "\n",
    "{% if nickname %} \n",
    "    {{ slash_joiner() }} {{nickname}}\n",
    "{% endif %}\n",
    "\n",
    "# Output\n",
    "# If all variables are defined\n",
    "User: username/alias/nickname\n",
    "\n",
    "# If only nickname is defined\n",
    "User: nickname\n",
    "\n",
    "# If only username and alias is defined\n",
    "User: username/alias\n",
    "\n",
    "# Etc, the joiner function avoids any unnecessary preceding slash \n",
    "# because it doesn't print anything the first time its called\n"
   ]
  },
  {
   "cell_type": "markdown",
   "metadata": {},
   "source": [
    "## Jinja Built-In Filters and Tests"
   ]
  },
  {
   "cell_type": "markdown",
   "metadata": {},
   "source": [
    "4.19. Jinja defined test\n"
   ]
  },
  {
   "cell_type": "code",
   "execution_count": null,
   "metadata": {},
   "outputs": [],
   "source": [
    "{% if variable is defined %}\n",
    "    value of variable: {{ variable }}\n",
    "{% else %}\n",
    "    variable is not defined\n",
    "{% endif %}"
   ]
  },
  {
   "cell_type": "markdown",
   "metadata": {},
   "source": [
    "4.20. Jinja groupby filter"
   ]
  },
  {
   "cell_type": "code",
   "execution_count": null,
   "metadata": {},
   "outputs": [],
   "source": [
    "# Dictionary definition\n",
    "stores = [\n",
    "    {'name': 'Downtown', 'street': '385 Main Street', 'city': 'San Diego'},\n",
    "    {'name': 'Uptown', 'street': '231 Highland Avenue', 'city': 'San Diego'},\n",
    "    {'name': 'Midtown', 'street': '85 Balboa Street', 'city': 'San Diego'},\n",
    "    {'name': 'Downtown', 'street': '639 Spring Street', 'city': 'Los Angeles'},\n",
    "    {'name': 'Midtown', 'street': '1407 Broadway Street', 'city': 'Los Angeles'},\n",
    "    {'name': 'Downton', 'street': '50 1st Street', 'city': 'San Francisco'},\n",
    "]\n",
    "\n",
    "<ul>\n",
    "{% for group in stores|groupby('city') %}\n",
    "    <li>{{ group.grouper }}\n",
    "    <ul>\n",
    "        {% for item in group.list %}\n",
    "            <li>{{ item.name }}: {{ item.street }}</li>\n",
    "        {% endfor %}\n",
    "    </ul>\n",
    "    </li>\n",
    "{% endfor %}\n",
    "</ul>\n",
    "\n",
    "# Output\n",
    "Los Angeles\n",
    "    Downtown: 639 Spring Street\n",
    "    Midtown: 1407 Broadway Street\n",
    "San Diego\n",
    "    Downtown : 385 Main Street\n",
    "    Uptown : 231 Highland Avenue\n",
    "    Midtown : 85 Balboa Street\n",
    "San Francisco\n",
    "    Downtown: 50 1st Street"
   ]
  },
  {
   "cell_type": "markdown",
   "metadata": {},
   "source": [
    "4.21. Jinja wordwrap filter"
   ]
  },
  {
   "cell_type": "code",
   "execution_count": null,
   "metadata": {},
   "outputs": [],
   "source": [
    "# Variable definition\n",
    "\n",
    "Coffeehouse started as a small store\n",
    "\n",
    "# Template definition with wordwrap filter for every 12 characters\n",
    "\n",
    "{{variable|wordwrap(12)}}\n",
    "\n",
    "# Output\n",
    "\n",
    "Coffeehouse\n",
    "started as a\n",
    "small store"
   ]
  },
  {
   "cell_type": "markdown",
   "metadata": {},
   "source": [
    "4.22. Django xmlattr filter"
   ]
  },
  {
   "cell_type": "code",
   "execution_count": null,
   "metadata": {},
   "outputs": [],
   "source": [
    "# Variable definition\n",
    "{% set stores = [\n",
    "    {'id':123, 'name': 'Downtown', 'street': '385 Main Street', 'city': 'San Diego'},\n",
    "    {'id':243, 'name': 'Uptown', 'street': '231 Highland Avenue', 'city': 'San Diego'},\n",
    "    {'id':357, 'name': 'Midtown', 'street': '85 Balboa Street', 'city': 'San Diego'},\n",
    "    {'id':478, 'name': 'Downtown', 'street': '639 Spring Street', 'city': 'Los Angeles'},\n",
    "    {'id':529, 'name': 'Midtown', 'street': '1407 Broadway Street', 'city': 'Los Angeles'},\n",
    "    {'id':653, 'name': 'Downton', 'street': '50 1st Street', 'city': 'San Francisco'},\n",
    "] %}\n",
    "\n",
    "# Template definition\n",
    "<ul>\n",
    "{% for store in stores %}\n",
    "    <li {{ \n",
    "        {\n",
    "            'id':'%d'| format(store.id), 'class':'%s' | \n",
    "            format(store.city|lower|replace(' ','-')) \n",
    "        } | xmlattr \n",
    "    }}> \n",
    "        {{store.city}} {{store.name}}\n",
    "    </li>\n",
    "{% endfor %}\n",
    "</ul>\n",
    "\n",
    "# Output\n",
    "<ul>\n",
    "    <li id=\"123\" class=\"san-diego\"> San Diego Downtown</li>\n",
    "    <li id=\"243\" class=\"san-diego\"> San Diego Uptown</li>\n",
    "    <li id=\"357\" class=\"san-diego\"> San Diego Midtown</li>\n",
    "    <li id=\"478\" class=\"los-angeles\"> Los Angeles Downtown</li>\n",
    "    <li id=\"529\" class=\"los-angeles\"> Los Angeles Midtown</li>\n",
    "    <li id=\"653\" class=\"san-francisco\"> San Francisco Downton</li>\n",
    "</ul>"
   ]
  },
  {
   "cell_type": "markdown",
   "metadata": {},
   "source": [
    "## Custom Filters and Tests in Jinja"
   ]
  },
  {
   "cell_type": "code",
   "execution_count": 1,
   "metadata": {},
   "outputs": [],
   "source": [
    "import math\n",
    "import jinja2"
   ]
  },
  {
   "cell_type": "markdown",
   "metadata": {},
   "source": [
    "4.23. Backing Python methods for Jinja custom filters and tests."
   ]
  },
  {
   "cell_type": "code",
   "execution_count": null,
   "metadata": {},
   "outputs": [],
   "source": [
    "def customcoffee(value, arg=\"muted\"):\n",
    "    return jinja2.Markup('%s' % (arg, value))\n",
    "\n",
    "def squarerootintext(value):\n",
    "    return \"The square root of %s is %s\" % (value, math.sqrt(value))\n",
    "\n",
    "def startswithvowel(value):\n",
    "    if value.lower().startswith((\"a\", \"e\", \"i\", \"o\", \"u\")):\n",
    "        return True\n",
    "    else:\n",
    "        return False"
   ]
  },
  {
   "cell_type": "markdown",
   "metadata": {},
   "source": [
    "4.24. Directory structure and location of custom Jinja filters and tests\n"
   ]
  },
  {
   "cell_type": "markdown",
   "metadata": {},
   "source": [
    "```\n",
    "+---+-<PROJECT_DIR_coffeehouse>\n",
    "    |\n",
    "    +-__init__.py\n",
    "    +-settings.py\n",
    "    +-urls.py\n",
    "    +-wsgi.py\n",
    "    |\n",
    "    +-jinja-+\n",
    "            +-__init__.py\n",
    "            +-env.py\n",
    "            +-filters.py\n",
    "```"
   ]
  },
  {
   "cell_type": "markdown",
   "metadata": {},
   "source": [
    "4.25. Custom Jinja environment with custom filters and tests\n"
   ]
  },
  {
   "cell_type": "code",
   "execution_count": null,
   "metadata": {},
   "outputs": [],
   "source": [
    "from jinja2.environment import Environment\n",
    "from coffeehouse.jinja.filters import customcoffee, squarerootintext, startswithvowel\n",
    "\n",
    "\n",
    "class JinjaEnvironment(Environment):\n",
    "    def __init__(self, **kwargs):\n",
    "        super(JinjaEnvironment, self).__init__(**kwargs)\n",
    "        self.filters['customcoffee'] = customcoffee\n",
    "        self.filters['squarerootintext'] = squarerootintext\n",
    "        self.filters['startswithvowel'] = startswithvowel\n",
    "        self.tests['startswithvowel'] = startswithvowel\n",
    "\n"
   ]
  },
  {
   "cell_type": "markdown",
   "metadata": {},
   "source": [
    "4.26. Configure custom Jinja environment in Django setttings.py\n"
   ]
  },
  {
   "cell_type": "code",
   "execution_count": null,
   "metadata": {},
   "outputs": [],
   "source": [
    "TEMPLATES = [\n",
    "    {\n",
    "        #...\n",
    "        'OPTIONS': {\n",
    "            'environment': 'coffeehouse.jinja.env.JinjaEnvironment'\n",
    "        }\n",
    "    },\n",
    "]"
   ]
  },
  {
   "cell_type": "markdown",
   "metadata": {},
   "source": [
    "4.27. Jinja extension configuration in Django\n"
   ]
  },
  {
   "cell_type": "code",
   "execution_count": null,
   "metadata": {},
   "outputs": [],
   "source": [
    "TEMPLATES = [\n",
    "    {\n",
    "        'BACKEND':'django.template.backends.jinja2.Jinja2',\n",
    "        #...\n",
    "        'OPTIONS': {\n",
    "            'extensions': [\n",
    "                'jinja2.ext.loopcontrols',\n",
    "                'jdj_tags.extensions.DjangoCompat',\n",
    "                'coffeehouse.jinja.extensions.DjangoNow',\n",
    "            ],\n",
    "        }\n",
    "    }\n",
    "]"
   ]
  },
  {
   "cell_type": "markdown",
   "metadata": {},
   "source": [
    "## Jinja Extensions"
   ]
  },
  {
   "cell_type": "code",
   "execution_count": null,
   "metadata": {},
   "outputs": [],
   "source": [
    "from jinja2 import lexer, nodes\n",
    "from jinja2.ext import Extension\n",
    "from django.utils import timezone\n",
    "from django.template.defaultfilters import date\n",
    "from django.conf import settings\n",
    "from datetime import datetime\n"
   ]
  },
  {
   "cell_type": "markdown",
   "metadata": {},
   "source": [
    "4.28. Jinja custom extension for Jinja {% now %} statement\n"
   ]
  },
  {
   "cell_type": "code",
   "execution_count": null,
   "metadata": {},
   "outputs": [],
   "source": [
    "class DjangoNow(Extension):\n",
    "    tags = set(['now'])\n",
    "\n",
    "    def _now(self, date_format):\n",
    "        tzinfo = timezone.get_current_timezone() if settings.USE_TZ else None\n",
    "        formatted = date(datetime.now(tz=tzinfo), date_format)\n",
    "        return formatted\n",
    "\n",
    "    def parse(self, parser):\n",
    "        lineno = next(parser.stream).lineno\n",
    "        token = parser.stream.expect(lexer.TOKEN_STRING)\n",
    "        date_format = nodes.Const(token.value)\n",
    "        call = self.call_method('_now', [date_format], lineno=lineno)\n",
    "        token = parser.stream.current\n",
    "        if token.test('name:as'):\n",
    "            next(parser.stream)\n",
    "            as_var = parser.stream.expect(lexer.TOKEN_NAME)\n",
    "            as_var = nodes.Name(as_var.value, 'store', lineno=as_var.lineno)\n",
    "            return nodes.Assign(as_var, call, lineno=lineno)\n",
    "        else:\n",
    "            return nodes.Output([call], lineno=lineno)\n"
   ]
  },
  {
   "cell_type": "markdown",
   "metadata": {},
   "source": [
    "4.29. Directory structure and location of custom Jinja extension\n"
   ]
  },
  {
   "cell_type": "markdown",
   "metadata": {},
   "source": [
    "```\n",
    "+---+-<PROJECT_DIR_coffeehouse>\n",
    "    |\n",
    "    +-__init__.py\n",
    "    +-settings.py\n",
    "    +-urls.py\n",
    "    +-wsgi.py\n",
    "    |\n",
    "    +-jinja-+\n",
    "            +-__init__.py\n",
    "            +-extensions.py\n",
    "```"
   ]
  },
  {
   "cell_type": "markdown",
   "metadata": {},
   "source": [
    "4.30. Custom Jinja environment with policies"
   ]
  },
  {
   "cell_type": "code",
   "execution_count": null,
   "metadata": {},
   "outputs": [],
   "source": [
    "from jinja2.environment import Environment\n",
    "from coffeehouse.jinja.filters import customcoffee, squarerootintext, startswithvowel\n",
    "\n",
    "\n",
    "class JinjaEnvironment(Environment):\n",
    "    def __init__(self,**kwargs):\n",
    "        super(JinjaEnvironment, self).__init__(**kwargs)\n",
    "        self.policies['truncate.leeway'] = 0"
   ]
  }
 ],
 "metadata": {
  "interpreter": {
   "hash": "a5b11041615dfd69eb651b3d821f106f7278d1c1dba8393767d774ca92366f8a"
  },
  "kernelspec": {
   "display_name": "Python 2.7.18 64-bit ('env': venv)",
   "language": "python",
   "name": "python3"
  },
  "language_info": {
   "codemirror_mode": {
    "name": "ipython",
    "version": 2
   },
   "file_extension": ".py",
   "mimetype": "text/x-python",
   "name": "python",
   "nbconvert_exporter": "python",
   "pygments_lexer": "ipython2",
   "version": "2.7.18"
  },
  "orig_nbformat": 4
 },
 "nbformat": 4,
 "nbformat_minor": 2
}
