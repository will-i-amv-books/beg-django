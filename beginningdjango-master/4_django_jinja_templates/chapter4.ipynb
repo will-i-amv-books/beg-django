{
 "cells": [
  {
   "cell_type": "markdown",
   "metadata": {},
   "source": [
    "# Chapter 4  - Jinja Templates in Django"
   ]
  },
  {
   "cell_type": "markdown",
   "metadata": {},
   "source": [
    "## Jinja Template Configuration in Django"
   ]
  },
  {
   "cell_type": "code",
   "execution_count": 1,
   "metadata": {},
   "outputs": [],
   "source": [
    "import os\n",
    "import jinja2\n"
   ]
  },
  {
   "cell_type": "markdown",
   "metadata": {},
   "source": [
    " 4.1. Jinja configuration in Django settings.py"
   ]
  },
  {
   "cell_type": "code",
   "execution_count": null,
   "metadata": {},
   "outputs": [],
   "source": [
    "BASE_DIR = os.path.dirname(os.path.dirname(os.path.abspath(__file__)))\n",
    "PROJECT_DIR = os.path.dirname(os.path.abspath(__file__))\n",
    "TEMPLATES = [\n",
    "    {\n",
    "        'BACKEND':'django.template.backends.jinja2.Jinja2',\n",
    "        'DIRS': ['%s/jinjatemplates/'% (PROJECT_DIR),],\n",
    "        'APP_DIRS': True,\n",
    "        #...\n",
    "    },\n",
    "    {\n",
    "        'BACKEND': 'django.template.backends.django.DjangoTemplates',\n",
    "        'DIRS': [],\n",
    "        'APP_DIRS': True,\n",
    "        #...\n",
    "    },\n",
    "]\n"
   ]
  },
  {
   "cell_type": "markdown",
   "metadata": {},
   "source": [
    "4.2. Django apps with jinja2 dirs with potential conflict and namespace qualification\n",
    "\n"
   ]
  },
  {
   "cell_type": "markdown",
   "metadata": {},
   "source": [
    "Templates directly under jinja2 folder can cause loading conflicts\n"
   ]
  },
  {
   "cell_type": "markdown",
   "metadata": {},
   "source": [
    "```\n",
    "+---+-<PROJECT_DIR_project_name_conflict>\n",
    "    |\n",
    "    +-__init__.py\n",
    "    +-settings.py\n",
    "    +-urls.py\n",
    "    +-wsgi.py\n",
    "    |\n",
    "    +-about(app)-+\n",
    "    |            +-__init__.py\n",
    "    |            +-models.py\n",
    "    |            +-tests.py\n",
    "    |            +-views.py\n",
    "    |            +-jinja2-+\n",
    "    |                     |\n",
    "    |                     +-index.html\n",
    "    +-stores(app)-+\n",
    "                  +-__init__.py\n",
    "                  +-models.py\n",
    "                  +-tests.py\n",
    "                  +-views.py\n",
    "                  +-jinja2-+\n",
    "                           |\n",
    "                           +-index.html\n",
    "```\n"
   ]
  },
  {
   "cell_type": "markdown",
   "metadata": {},
   "source": [
    "Templates classified with additional namespace avoid loading conflicts\n"
   ]
  },
  {
   "cell_type": "markdown",
   "metadata": {},
   "source": [
    "```\n",
    "+---+-<PROJECT_DIR_project_name_namespace>\n",
    "|\n",
    "+-__init__.py\n",
    "+-settings.py\n",
    "+-urls.py\n",
    "+-wsgi.py\n",
    "|\n",
    "+-about(app)-+\n",
    "|            +-__init__.py\n",
    "|            +-models.py\n",
    "|            +-tests.py\n",
    "|            +-views.py\n",
    "|            +-jinja2-+\n",
    "|                     |\n",
    "|                     +-about-+\n",
    "|                             |\n",
    "|                             +-index.html\n",
    "+-stores(app)-+\n",
    "              +-__init__.py\n",
    "              +-models.py\n",
    "              +-tests.py\n",
    "              +-views.py\n",
    "              +-jinja2-+\n",
    "                       |\n",
    "                       +-stores-+\n",
    "                                |\n",
    "                                +-index.htm\n",
    "```\n"
   ]
  },
  {
   "cell_type": "markdown",
   "metadata": {},
   "source": [
    "4.3. Jinja disable auto-escaping in Django\n"
   ]
  },
  {
   "cell_type": "code",
   "execution_count": null,
   "metadata": {},
   "outputs": [],
   "source": [
    "TEMPLATES = [\n",
    "    {\n",
    "        #...\n",
    "        'OPTIONS': {\n",
    "            'autoescape': False\n",
    "        },\n",
    "    }\n",
    "]"
   ]
  },
  {
   "cell_type": "markdown",
   "metadata": {},
   "source": [
    "4.4. Generate error for invalid variables in Jinja with jinja2.StrictUndefined"
   ]
  },
  {
   "cell_type": "code",
   "execution_count": null,
   "metadata": {},
   "outputs": [],
   "source": [
    "TEMPLATES = [\n",
    "    {\n",
    "        #...\n",
    "        'OPTIONS': {\n",
    "            'undefined':jinja2.StrictUndefined\n",
    "        },\n",
    "    }\n",
    "]"
   ]
  }
 ],
 "metadata": {
  "interpreter": {
   "hash": "a5b11041615dfd69eb651b3d821f106f7278d1c1dba8393767d774ca92366f8a"
  },
  "kernelspec": {
   "display_name": "Python 2.7.18 64-bit ('env': venv)",
   "language": "python",
   "name": "python3"
  },
  "language_info": {
   "codemirror_mode": {
    "name": "ipython",
    "version": 2
   },
   "file_extension": ".py",
   "mimetype": "text/x-python",
   "name": "python",
   "nbconvert_exporter": "python",
   "pygments_lexer": "ipython2",
   "version": "2.7.18"
  },
  "orig_nbformat": 4
 },
 "nbformat": 4,
 "nbformat_minor": 2
}
