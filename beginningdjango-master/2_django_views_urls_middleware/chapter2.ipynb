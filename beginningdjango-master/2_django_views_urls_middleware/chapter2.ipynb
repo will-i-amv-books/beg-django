{
 "cells": [
  {
   "cell_type": "markdown",
   "metadata": {},
   "source": [
    "# Chapter 2 - Django URLs and Views"
   ]
  },
  {
   "cell_type": "markdown",
   "metadata": {},
   "source": [
    "## URL Regular expressions"
   ]
  },
  {
   "cell_type": "code",
   "execution_count": null,
   "metadata": {},
   "outputs": [],
   "source": [
    "from django.conf.urls import include, url\n",
    "from django.views.generic import TemplateView"
   ]
  },
  {
   "cell_type": "markdown",
   "metadata": {},
   "source": [
    "2.1. Correct precedence for Django url regular expressions\n"
   ]
  },
  {
   "cell_type": "code",
   "execution_count": null,
   "metadata": {},
   "outputs": [],
   "source": [
    "urlpatterns = [\n",
    "    url(r'^about/index/', TemplateView.as_view(template_name='index.html')),\n",
    "    url(r'^about/', TemplateView.as_view(template_name='about.html')),\n",
    "]\n"
   ]
  },
  {
   "cell_type": "markdown",
   "metadata": {},
   "source": [
    "2-2. Wrong precedence for Django url regular expressions"
   ]
  },
  {
   "cell_type": "code",
   "execution_count": null,
   "metadata": {},
   "outputs": [],
   "source": [
    "urlpatterns = [\n",
    "    url(r'^about/', TemplateView.as_view(template_name='about.html')),\n",
    "    url(r'^about/index/', TemplateView.as_view(template_name='index.html')),\n",
    "]\n"
   ]
  },
  {
   "cell_type": "markdown",
   "metadata": {},
   "source": [
    "2.3. Exact regular expressions, where url order doesn’t matter\n"
   ]
  },
  {
   "cell_type": "code",
   "execution_count": null,
   "metadata": {},
   "outputs": [],
   "source": [
    "urlpatterns = [\n",
    "    url(r'^about/$', TemplateView.as_view(template_name='about.html')),\n",
    "    url(r'^about/index/$', TemplateView.as_view(template_name='index.html')),\n",
    "]\n"
   ]
  },
  {
   "cell_type": "markdown",
   "metadata": {},
   "source": [
    "## Url Parameters, Extra Options, and Query Strings\n"
   ]
  },
  {
   "cell_type": "code",
   "execution_count": 1,
   "metadata": {},
   "outputs": [],
   "source": [
    "from django.shortcuts import render\n",
    "from coffeehouse.stores import views as stores_views\n",
    "from coffeehouse.about import views as about_views\n",
    "from coffeehouse.banners import views as banners_views\n",
    "\n"
   ]
  },
  {
   "cell_type": "markdown",
   "metadata": {},
   "source": [
    "2.4. Django url parameter definition for access in templates\n"
   ]
  },
  {
   "cell_type": "code",
   "execution_count": null,
   "metadata": {},
   "outputs": [],
   "source": [
    "urlpatterns = [\n",
    "    url(\n",
    "        r'^drinks/(?P<drink_name>\\D+)/', \n",
    "        TemplateView.as_view(template_name='drinks/index.html'),\n",
    "    ),\n",
    "]\n"
   ]
  },
  {
   "cell_type": "markdown",
   "metadata": {},
   "source": [
    "2.5. Django url parameter definition for access in view methods in main urls.py file\n"
   ]
  },
  {
   "cell_type": "code",
   "execution_count": null,
   "metadata": {},
   "outputs": [],
   "source": [
    "# Project main urls.py\n",
    "\n",
    "urlpatterns = [\n",
    "    url(r'^stores/(?P<store_id>\\d+)/',stores_views.detail),\n",
    "]\n"
   ]
  },
  {
   "cell_type": "markdown",
   "metadata": {},
   "source": [
    "2.6. Django view method in views.py to access url parameter\n"
   ]
  },
  {
   "cell_type": "code",
   "execution_count": null,
   "metadata": {},
   "outputs": [],
   "source": [
    "def detail(request, store_id):\n",
    "    # Access store_id with 'store_id' variable\n",
    "    return render(request, 'stores/detail.html')\n"
   ]
  },
  {
   "cell_type": "markdown",
   "metadata": {},
   "source": [
    "2-7. Django urls with optional parameters leveraging the same view method"
   ]
  },
  {
   "cell_type": "code",
   "execution_count": null,
   "metadata": {},
   "outputs": [],
   "source": [
    "urlpatterns = [\n",
    "    url(r'^stores/', stores_views.detail),\n",
    "    url(r'^stores/(?P<store_id>\\d+)/', stores_views.detail),\n",
    "]\n"
   ]
  },
  {
   "cell_type": "markdown",
   "metadata": {},
   "source": [
    "2.8. Django view method in views.py with default value"
   ]
  },
  {
   "cell_type": "code",
   "execution_count": null,
   "metadata": {},
   "outputs": [],
   "source": [
    "def detail(request, store_id='1'):\n",
    "    # Access store_id with 'store_id' variable\n",
    "    return render(request, 'stores/detail.html')\n"
   ]
  },
  {
   "cell_type": "markdown",
   "metadata": {},
   "source": [
    "2.9. Django view method extracting url parameters with request.GET"
   ]
  },
  {
   "cell_type": "code",
   "execution_count": null,
   "metadata": {},
   "outputs": [],
   "source": [
    "def detail(request, store_id='1', location=None):\n",
    "    # Access store_id param with 'store_id' variable and location param with 'location' variable\n",
    "    # Extract 'hours' or 'map' value appended to url as\n",
    "    # ?hours=sunday&map=flash\n",
    "    hours = request.GET.get('hours', '')\n",
    "    map = request.GET.get('map', '')\n",
    "    # 'hours' has value 'sunday' or '' if hours not in url\n",
    "    # 'map' has value 'flash' or '' if map not in url\n",
    "    return render(request, 'stores/detail.html')\n"
   ]
  },
  {
   "cell_type": "markdown",
   "metadata": {},
   "source": [
    "## Url Consolidation and Modularization\n"
   ]
  },
  {
   "cell_type": "markdown",
   "metadata": {},
   "source": [
    "2.10. Django urls.py with no url consolidation\n"
   ]
  },
  {
   "cell_type": "code",
   "execution_count": null,
   "metadata": {},
   "outputs": [],
   "source": [
    "urlpatterns = [\n",
    "    url(r'^$', TemplateView.as_view(template_name='homepage.html')), \n",
    "    url(r'^about/', about_views.index), \n",
    "    url(r'^about/contact/', about_views.contact), \n",
    "    url(r'^stores/', stores_views.index), \n",
    "    url(r'^stores/(?P<store_id>\\d+)/', stores_views.detail, {'location':'headquarters'}), \n",
    "]\n",
    "    "
   ]
  },
  {
   "cell_type": "markdown",
   "metadata": {},
   "source": [
    "2.11. Django urls.py with include to consolidate urls"
   ]
  },
  {
   "cell_type": "code",
   "execution_count": null,
   "metadata": {},
   "outputs": [],
   "source": [
    "urlpatterns = [\n",
    "    url(r'^$', TemplateView.as_view(template_name='homepage.html')), \n",
    "    url(r'^about/', include('coffeehouse.about.urls')), \n",
    "    url(r'^stores/', include('coffeehouse.stores.urls'), {'location':'headquarters'}), \n",
    "]\n"
   ]
  },
  {
   "cell_type": "markdown",
   "metadata": {},
   "source": [
    "2.12. Django /coffeehouse/about/urls.py loaded via include"
   ]
  },
  {
   "cell_type": "code",
   "execution_count": null,
   "metadata": {},
   "outputs": [],
   "source": [
    "urlpatterns = [\n",
    "    url(r'^$', about_views.index), \n",
    "    url(r'^contact/$', about_views.contact), \n",
    "]\n"
   ]
  },
  {
   "cell_type": "markdown",
   "metadata": {},
   "source": [
    "2.13. Django urls.py with inline include statements"
   ]
  },
  {
   "cell_type": "code",
   "execution_count": null,
   "metadata": {},
   "outputs": [],
   "source": [
    "store_patterns = [\n",
    "    url(r'^$', stores_views.index), \n",
    "    url(r'^(?P<store_id>\\d+)/$', stores_views.detail), \n",
    "]\n",
    "about_patterns = [\n",
    "    url(r'^$', about_views.index), \n",
    "    url(r'^contact/$', about_views.contact), \n",
    "]\n",
    "urlpatterns = [\n",
    "    url(r'^$', TemplateView.as_view(template_name='homepage.html')), \n",
    "    url(r'^about/', include(about_patterns)), \n",
    "    url(r'^stores/', include(store_patterns), {'location':'headquarters'}), \n",
    "]\n"
   ]
  },
  {
   "cell_type": "markdown",
   "metadata": {},
   "source": [
    "## Url Naming and Namespaces"
   ]
  },
  {
   "cell_type": "code",
   "execution_count": null,
   "metadata": {},
   "outputs": [],
   "source": [
    "from django.http import HttpResponsePermanentRedirect\n",
    "from django.core.urlresolvers import reverse"
   ]
  },
  {
   "cell_type": "markdown",
   "metadata": {},
   "source": [
    "2.14. Django url using name\n"
   ]
  },
  {
   "cell_type": "code",
   "execution_count": null,
   "metadata": {},
   "outputs": [],
   "source": [
    "# Definition in urls.py\n",
    "\n",
    "urlpatterns = [\n",
    "    url(r'^$', TemplateView.as_view(template_name='homepage.html'), name=\"homepage\")\n",
    "]\n",
    "\n",
    "\n",
    "# Definition in view method\n",
    "\n",
    "def method(request):\n",
    "    #...\n",
    "    return HttpResponsePermanentRedirect(reverse('homepage'))\n"
   ]
  },
  {
   "cell_type": "code",
   "execution_count": null,
   "metadata": {},
   "outputs": [],
   "source": [
    "<!--Definition in template-->\n",
    "\n",
    "<a href=\"{% url 'homepage' %}\">Back to home page</a>\n"
   ]
  },
  {
   "cell_type": "markdown",
   "metadata": {},
   "source": [
    "2.15. Django url with arguments using name\n"
   ]
  },
  {
   "cell_type": "code",
   "execution_count": null,
   "metadata": {},
   "outputs": [],
   "source": [
    "# Definition in urls.py\n",
    "\n",
    "urlpatterns = [\n",
    "    url(\n",
    "        r'^drinks/(?P<drink_name>\\D+)/', \n",
    "        TemplateView.as_view(template_name='drinks/index.html'), \n",
    "        name=\"drink\"\n",
    "    ),\n",
    "]\n",
    "\n",
    "# Definition in view method\n",
    "\n",
    "def method(request):\n",
    "    #...\n",
    "    return HttpResponsePermanentRedirect(reverse('drink', args=(drink.name,)))\n"
   ]
  },
  {
   "cell_type": "code",
   "execution_count": null,
   "metadata": {},
   "outputs": [],
   "source": [
    "<!--Definition in template-->\n",
    "\n",
    "<a href=\"{% url 'drink' drink.name %}\">Drink on sale</a>\n",
    "<a href=\"{% url 'drink' 'latte' %}\">Drink on sale</a>\n"
   ]
  },
  {
   "cell_type": "markdown",
   "metadata": {},
   "source": [
    "2.16. Django urls.py with namespace attribute\n"
   ]
  },
  {
   "cell_type": "code",
   "execution_count": null,
   "metadata": {},
   "outputs": [],
   "source": [
    "# Main urls.py\n",
    "\n",
    "urlpatterns = [\n",
    "    url(r'^$', TemplateView.as_view(template_name='homepage.html'), name=\"homepage\"), \n",
    "    url(r'^about/', include('coffeehouse.about.urls', namespace=\"about\")), \n",
    "    url(r'^stores/', include('coffeehouse.stores.urls', namespace=\"stores\")), \n",
    "]\n",
    "\n",
    "# About urls.py\n",
    "\n",
    "urlpatterns = [\n",
    "    url(r'^$', about_views.index, name=\"index\"), \n",
    "    url(r'^contact/$', about_views.contact, name=\"contact\"), \n",
    "]\n",
    "\n",
    "#  Stores urls.py\n",
    "\n",
    "urlpatterns = [\n",
    "    url(r'^$', stores_views.index, name=\"index\"), \n",
    "    url(r'^(?P<store_id>\\d+)/$', stores_views.detail, name=\"detail\"), \n",
    "]\n",
    "\n",
    "# Definition in view method\n",
    "\n",
    "def method(request):\n",
    "    #...\n",
    "    return HttpResponsePermanentRedirect(reverse('about:index'))\n"
   ]
  },
  {
   "cell_type": "code",
   "execution_count": null,
   "metadata": {},
   "outputs": [],
   "source": [
    "<!--Definition in template-->\n",
    "\n",
    "<a href=\"{% url 'stores:index' %}\">Back to stores index</a>\n"
   ]
  },
  {
   "cell_type": "markdown",
   "metadata": {},
   "source": [
    "2.17. Django urls.py with nested namespace attribute\n"
   ]
  },
  {
   "cell_type": "code",
   "execution_count": null,
   "metadata": {},
   "outputs": [],
   "source": [
    "# Main urls.py\n",
    "\n",
    "urlpatterns = [\n",
    "    url(r'^$', TemplateView.as_view(template_name='homepage.html'), name=\"homepage\"), \n",
    "    url(r'^stores/', include('coffeehouse.stores.urls', namespace=\"stores\")), \n",
    "]\n",
    "\n",
    "# Stores urls.py\n",
    "\n",
    "urlpatterns = [\n",
    "    url(r'^$', stores_views.index, name=\"index\"), \n",
    "    url(r'^(?P<store_id>\\d+)/$', stores_views.detail, name=\"detail\"), \n",
    "    url(r'^(?P<store_id>\\d+)/about/', include('coffeehouse.about.urls', namespace=\"about\")), \n",
    "]\n",
    "\n",
    "# About urls.py\n",
    "\n",
    "urlpatterns = [\n",
    "    url(r'^$', about_views.index, name=\"index\"), \n",
    "    url(r'^contact/$', about_views.contact, name=\"contact\"), \n",
    "]\n",
    "\n",
    "# Definition in view method\n",
    "\n",
    "def method(request):\n",
    "    #...\n",
    "    return HttpResponsePermanentRedirect(reverse('stores:about:index',  args=(store.id, )))\n"
   ]
  },
  {
   "cell_type": "code",
   "execution_count": null,
   "metadata": {},
   "outputs": [],
   "source": [
    "<!--Definition in template-->\n",
    "\n",
    "<a href=\"{% url 'stores:about:index' store.id %}\">See about for {{store.name}}</a>\n"
   ]
  },
  {
   "cell_type": "markdown",
   "metadata": {},
   "source": [
    "2.18. Django urls.py with multiple instances of the same app\n"
   ]
  },
  {
   "cell_type": "code",
   "execution_count": null,
   "metadata": {},
   "outputs": [],
   "source": [
    "# Main urls.py\n",
    "\n",
    "urlpatterns = [\n",
    "    url(r'^$', TemplateView.as_view(template_name='homepage.html'), name=\"homepage\"), \n",
    "    url(r'^coffeebanners/', include('coffeehouse.banners.urls', namespace=\"coffee-banners\")), \n",
    "    url(r'^teabanners/', include('coffeehouse.banners.urls', namespace=\"tea-banners\")), \n",
    "    url(r'^foodbanners/', include('coffeehouse.banners.urls', namespace=\"food-banners\")), \n",
    "]\n",
    "\n",
    "#  Banners urls.py\n",
    "\n",
    "urlpatterns = [\n",
    "    url(r'^$', banners_views.index, name=\"index\"), \n",
    "]\n",
    "\n",
    "# Definition in banners view method\n",
    "\n",
    "def method(request):\n",
    "    #...\n",
    "    #return HttpResponsePermanentRedirect(reverse('coffee-banners:index'))\n",
    "    #return HttpResponsePermanentRedirect(reverse('tea-banners:index'))\n",
    "    return HttpResponsePermanentRedirect(reverse('food-banners:index'))\n"
   ]
  },
  {
   "cell_type": "code",
   "execution_count": null,
   "metadata": {},
   "outputs": [],
   "source": [
    "<!--Definition in template-->\n",
    "<a href=\"{% url 'coffee-banners:index' %}\">Coffee banners</a>\n",
    "<a href=\"{% url 'tea-banners:index' %}\">Tea banners</a>\n",
    "<a href=\"{% url 'food-banners:index' %}\">Food banners</a>\n"
   ]
  },
  {
   "cell_type": "markdown",
   "metadata": {},
   "source": [
    "2.19. Django redirect that leverages app_name to determine url\n"
   ]
  },
  {
   "cell_type": "code",
   "execution_count": null,
   "metadata": {},
   "outputs": [],
   "source": [
    "# Main urls.py\n",
    "\n",
    "urlpatterns = [\n",
    "    url(r'^$', TemplateView.as_view(template_name='homepage.html'), name=\"homepage\"), \n",
    "    url(r'^coffeebanners/', include('coffeehouse.banners.urls', namespace=\"coffee-banners\")), \n",
    "    url(r'^teabanners/', include('coffeehouse.banners.urls', namespace=\"tea-banners\")), \n",
    "    url(r'^foodbanners/', include('coffeehouse.banners.urls', namespace=\"food-banners\")), \n",
    "]\n",
    "\n",
    "# Banners urls.py\n",
    "\n",
    "app_name = 'banners_adverts'\n",
    "urlpatterns = [\n",
    "    url(r'^$', banners_views.index, name=\"index\"), \n",
    "]\n",
    "\n",
    "# Logic inside Banners app\n",
    "\n",
    "def method(request):\n",
    "    try:\n",
    "        # ...\n",
    "        pass\n",
    "    except:\n",
    "        return HttpResponsePermanentRedirect(reverse('banners_adverts:index'))\n"
   ]
  },
  {
   "cell_type": "markdown",
   "metadata": {},
   "source": [
    "2.20. Django template link that leverages app_name to determine url\n"
   ]
  },
  {
   "cell_type": "code",
   "execution_count": null,
   "metadata": {},
   "outputs": [],
   "source": [
    "<!--Definition in template banners/index.html-->\n",
    "\n",
    "<a href=\"{% url 'banners_adverts:index' %}\">{% url 'banners_adverts:index' %}</a>\n"
   ]
  },
  {
   "cell_type": "markdown",
   "metadata": {},
   "source": [
    "## View Method Requests"
   ]
  }
 ],
 "metadata": {
  "interpreter": {
   "hash": "7a9e02a1f826380158911783ea17643d2a23bf263a4f25f2922627e4a1f5859b"
  },
  "kernelspec": {
   "display_name": "Python 2.7.18 64-bit ('env': venv)",
   "language": "python",
   "name": "python3"
  },
  "language_info": {
   "codemirror_mode": {
    "name": "ipython",
    "version": 2
   },
   "file_extension": ".py",
   "mimetype": "text/x-python",
   "name": "python",
   "nbconvert_exporter": "python",
   "pygments_lexer": "ipython2",
   "version": "2.7.18"
  },
  "orig_nbformat": 4
 },
 "nbformat": 4,
 "nbformat_minor": 2
}
