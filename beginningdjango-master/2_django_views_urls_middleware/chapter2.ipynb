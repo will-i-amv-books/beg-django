{
 "cells": [
  {
   "cell_type": "markdown",
   "metadata": {},
   "source": [
    "# Chapter 2 - Django URLs and Views"
   ]
  },
  {
   "cell_type": "markdown",
   "metadata": {},
   "source": [
    "## URL Regular expressions"
   ]
  },
  {
   "cell_type": "code",
   "execution_count": null,
   "metadata": {},
   "outputs": [],
   "source": [
    "from django.conf.urls import include, url\n",
    "from django.views.generic import TemplateView"
   ]
  },
  {
   "cell_type": "markdown",
   "metadata": {},
   "source": [
    "2.1. Correct precedence for Django url regular expressions\n"
   ]
  },
  {
   "cell_type": "code",
   "execution_count": null,
   "metadata": {},
   "outputs": [],
   "source": [
    "urlpatterns = [\n",
    "    url(r'^about/index/', TemplateView.as_view(template_name='index.html')),\n",
    "    url(r'^about/', TemplateView.as_view(template_name='about.html')),\n",
    "]\n"
   ]
  },
  {
   "cell_type": "markdown",
   "metadata": {},
   "source": [
    "2-2. Wrong precedence for Django url regular expressions"
   ]
  },
  {
   "cell_type": "code",
   "execution_count": null,
   "metadata": {},
   "outputs": [],
   "source": [
    "urlpatterns = [\n",
    "    url(r'^about/', TemplateView.as_view(template_name='about.html')),\n",
    "    url(r'^about/index/', TemplateView.as_view(template_name='index.html')),\n",
    "]\n"
   ]
  },
  {
   "cell_type": "markdown",
   "metadata": {},
   "source": [
    "2.3. Exact regular expressions, where url order doesn’t matter\n"
   ]
  },
  {
   "cell_type": "code",
   "execution_count": null,
   "metadata": {},
   "outputs": [],
   "source": [
    "urlpatterns = [\n",
    "    url(r'^about/$', TemplateView.as_view(template_name='about.html')),\n",
    "    url(r'^about/index/$', TemplateView.as_view(template_name='index.html')),\n",
    "]\n"
   ]
  },
  {
   "cell_type": "markdown",
   "metadata": {},
   "source": [
    "## Url Parameters, Extra Options, and Query Strings\n"
   ]
  },
  {
   "cell_type": "code",
   "execution_count": 1,
   "metadata": {},
   "outputs": [],
   "source": [
    "from django.shortcuts import render\n",
    "from coffeehouse.stores import views as stores_views\n",
    "from coffeehouse.about import views as about_views\n",
    "from coffeehouse.banners import views as banners_views\n",
    "\n"
   ]
  },
  {
   "cell_type": "markdown",
   "metadata": {},
   "source": [
    "2.4. Django url parameter definition for access in templates\n"
   ]
  },
  {
   "cell_type": "code",
   "execution_count": null,
   "metadata": {},
   "outputs": [],
   "source": [
    "urlpatterns = [\n",
    "    url(\n",
    "        r'^drinks/(?P<drink_name>\\D+)/', \n",
    "        TemplateView.as_view(template_name='drinks/index.html'),\n",
    "    ),\n",
    "]\n"
   ]
  },
  {
   "cell_type": "markdown",
   "metadata": {},
   "source": [
    "2.5. Django url parameter definition for access in view methods in main urls.py file\n"
   ]
  },
  {
   "cell_type": "code",
   "execution_count": null,
   "metadata": {},
   "outputs": [],
   "source": [
    "# Project main urls.py\n",
    "\n",
    "urlpatterns = [\n",
    "    url(r'^stores/(?P<store_id>\\d+)/',stores_views.detail),\n",
    "]\n"
   ]
  },
  {
   "cell_type": "markdown",
   "metadata": {},
   "source": [
    "2.6. Django view method in views.py to access url parameter\n"
   ]
  },
  {
   "cell_type": "code",
   "execution_count": null,
   "metadata": {},
   "outputs": [],
   "source": [
    "def detail(request, store_id):\n",
    "    # Access store_id with 'store_id' variable\n",
    "    return render(request, 'stores/detail.html')\n"
   ]
  },
  {
   "cell_type": "markdown",
   "metadata": {},
   "source": [
    "2-7. Django urls with optional parameters leveraging the same view method"
   ]
  },
  {
   "cell_type": "code",
   "execution_count": null,
   "metadata": {},
   "outputs": [],
   "source": [
    "urlpatterns = [\n",
    "    url(r'^stores/', stores_views.detail),\n",
    "    url(r'^stores/(?P<store_id>\\d+)/', stores_views.detail),\n",
    "]\n"
   ]
  },
  {
   "cell_type": "markdown",
   "metadata": {},
   "source": [
    "2.8. Django view method in views.py with default value"
   ]
  },
  {
   "cell_type": "code",
   "execution_count": null,
   "metadata": {},
   "outputs": [],
   "source": [
    "def detail(request, store_id='1'):\n",
    "    # Access store_id with 'store_id' variable\n",
    "    return render(request, 'stores/detail.html')\n"
   ]
  },
  {
   "cell_type": "markdown",
   "metadata": {},
   "source": [
    "2.9. Django view method extracting url parameters with request.GET"
   ]
  },
  {
   "cell_type": "code",
   "execution_count": null,
   "metadata": {},
   "outputs": [],
   "source": [
    "def detail(request, store_id='1', location=None):\n",
    "    # Access store_id param with 'store_id' variable and location param with 'location' variable\n",
    "    # Extract 'hours' or 'map' value appended to url as\n",
    "    # ?hours=sunday&map=flash\n",
    "    hours = request.GET.get('hours', '')\n",
    "    map = request.GET.get('map', '')\n",
    "    # 'hours' has value 'sunday' or '' if hours not in url\n",
    "    # 'map' has value 'flash' or '' if map not in url\n",
    "    return render(request, 'stores/detail.html')\n"
   ]
  },
  {
   "cell_type": "markdown",
   "metadata": {},
   "source": [
    "## Url Consolidation and Modularization\n"
   ]
  },
  {
   "cell_type": "markdown",
   "metadata": {},
   "source": [
    "2.10. Django urls.py with no url consolidation\n"
   ]
  },
  {
   "cell_type": "code",
   "execution_count": null,
   "metadata": {},
   "outputs": [],
   "source": [
    "urlpatterns = [\n",
    "    url(r'^$', TemplateView.as_view(template_name='homepage.html')), \n",
    "    url(r'^about/', about_views.index), \n",
    "    url(r'^about/contact/', about_views.contact), \n",
    "    url(r'^stores/', stores_views.index), \n",
    "    url(r'^stores/(?P<store_id>\\d+)/', stores_views.detail, {'location':'headquarters'}), \n",
    "]\n",
    "    "
   ]
  },
  {
   "cell_type": "markdown",
   "metadata": {},
   "source": [
    "2.11. Django urls.py with include to consolidate urls"
   ]
  },
  {
   "cell_type": "code",
   "execution_count": null,
   "metadata": {},
   "outputs": [],
   "source": [
    "urlpatterns = [\n",
    "    url(r'^$', TemplateView.as_view(template_name='homepage.html')), \n",
    "    url(r'^about/', include('coffeehouse.about.urls')), \n",
    "    url(r'^stores/', include('coffeehouse.stores.urls'), {'location':'headquarters'}), \n",
    "]\n"
   ]
  },
  {
   "cell_type": "markdown",
   "metadata": {},
   "source": [
    "2.12. Django /coffeehouse/about/urls.py loaded via include"
   ]
  },
  {
   "cell_type": "code",
   "execution_count": null,
   "metadata": {},
   "outputs": [],
   "source": [
    "urlpatterns = [\n",
    "    url(r'^$', about_views.index), \n",
    "    url(r'^contact/$', about_views.contact), \n",
    "]\n"
   ]
  },
  {
   "cell_type": "markdown",
   "metadata": {},
   "source": [
    "2.13. Django urls.py with inline include statements"
   ]
  },
  {
   "cell_type": "code",
   "execution_count": null,
   "metadata": {},
   "outputs": [],
   "source": [
    "store_patterns = [\n",
    "    url(r'^$', stores_views.index), \n",
    "    url(r'^(?P<store_id>\\d+)/$', stores_views.detail), \n",
    "]\n",
    "about_patterns = [\n",
    "    url(r'^$', about_views.index), \n",
    "    url(r'^contact/$', about_views.contact), \n",
    "]\n",
    "urlpatterns = [\n",
    "    url(r'^$', TemplateView.as_view(template_name='homepage.html')), \n",
    "    url(r'^about/', include(about_patterns)), \n",
    "    url(r'^stores/', include(store_patterns), {'location':'headquarters'}), \n",
    "]\n"
   ]
  },
  {
   "cell_type": "markdown",
   "metadata": {},
   "source": [
    "## Url Naming and Namespaces"
   ]
  },
  {
   "cell_type": "code",
   "execution_count": null,
   "metadata": {},
   "outputs": [],
   "source": [
    "from django.http import HttpResponsePermanentRedirect\n",
    "from django.core.urlresolvers import reverse"
   ]
  },
  {
   "cell_type": "markdown",
   "metadata": {},
   "source": [
    "2.14. Django url using name\n"
   ]
  },
  {
   "cell_type": "code",
   "execution_count": null,
   "metadata": {},
   "outputs": [],
   "source": [
    "# Definition in urls.py\n",
    "\n",
    "urlpatterns = [\n",
    "    url(r'^$', TemplateView.as_view(template_name='homepage.html'), name=\"homepage\")\n",
    "]\n",
    "\n",
    "\n",
    "# Definition in view method\n",
    "\n",
    "def method(request):\n",
    "    #...\n",
    "    return HttpResponsePermanentRedirect(reverse('homepage'))\n"
   ]
  },
  {
   "cell_type": "code",
   "execution_count": null,
   "metadata": {},
   "outputs": [],
   "source": [
    "<!--Definition in template-->\n",
    "\n",
    "<a href=\"{% url 'homepage' %}\">Back to home page</a>\n"
   ]
  },
  {
   "cell_type": "markdown",
   "metadata": {},
   "source": [
    "2.15. Django url with arguments using name\n"
   ]
  },
  {
   "cell_type": "code",
   "execution_count": null,
   "metadata": {},
   "outputs": [],
   "source": [
    "# Definition in urls.py\n",
    "\n",
    "urlpatterns = [\n",
    "    url(\n",
    "        r'^drinks/(?P<drink_name>\\D+)/', \n",
    "        TemplateView.as_view(template_name='drinks/index.html'), \n",
    "        name=\"drink\"\n",
    "    ),\n",
    "]\n",
    "\n",
    "# Definition in view method\n",
    "\n",
    "def method(request):\n",
    "    #...\n",
    "    return HttpResponsePermanentRedirect(reverse('drink', args=(drink.name,)))\n"
   ]
  },
  {
   "cell_type": "code",
   "execution_count": null,
   "metadata": {},
   "outputs": [],
   "source": [
    "<!--Definition in template-->\n",
    "\n",
    "<a href=\"{% url 'drink' drink.name %}\">Drink on sale</a>\n",
    "<a href=\"{% url 'drink' 'latte' %}\">Drink on sale</a>\n"
   ]
  },
  {
   "cell_type": "markdown",
   "metadata": {},
   "source": [
    "2.16. Django urls.py with namespace attribute\n"
   ]
  },
  {
   "cell_type": "code",
   "execution_count": null,
   "metadata": {},
   "outputs": [],
   "source": [
    "# Main urls.py\n",
    "\n",
    "urlpatterns = [\n",
    "    url(r'^$', TemplateView.as_view(template_name='homepage.html'), name=\"homepage\"), \n",
    "    url(r'^about/', include('coffeehouse.about.urls', namespace=\"about\")), \n",
    "    url(r'^stores/', include('coffeehouse.stores.urls', namespace=\"stores\")), \n",
    "]\n",
    "\n",
    "# About urls.py\n",
    "\n",
    "urlpatterns = [\n",
    "    url(r'^$', about_views.index, name=\"index\"), \n",
    "    url(r'^contact/$', about_views.contact, name=\"contact\"), \n",
    "]\n",
    "\n",
    "#  Stores urls.py\n",
    "\n",
    "urlpatterns = [\n",
    "    url(r'^$', stores_views.index, name=\"index\"), \n",
    "    url(r'^(?P<store_id>\\d+)/$', stores_views.detail, name=\"detail\"), \n",
    "]\n",
    "\n",
    "# Definition in view method\n",
    "\n",
    "def method(request):\n",
    "    #...\n",
    "    return HttpResponsePermanentRedirect(reverse('about:index'))\n"
   ]
  },
  {
   "cell_type": "code",
   "execution_count": null,
   "metadata": {},
   "outputs": [],
   "source": [
    "<!--Definition in template-->\n",
    "\n",
    "<a href=\"{% url 'stores:index' %}\">Back to stores index</a>\n"
   ]
  },
  {
   "cell_type": "markdown",
   "metadata": {},
   "source": [
    "2.17. Django urls.py with nested namespace attribute\n"
   ]
  },
  {
   "cell_type": "code",
   "execution_count": null,
   "metadata": {},
   "outputs": [],
   "source": [
    "# Main urls.py\n",
    "\n",
    "urlpatterns = [\n",
    "    url(r'^$', TemplateView.as_view(template_name='homepage.html'), name=\"homepage\"), \n",
    "    url(r'^stores/', include('coffeehouse.stores.urls', namespace=\"stores\")), \n",
    "]\n",
    "\n",
    "# Stores urls.py\n",
    "\n",
    "urlpatterns = [\n",
    "    url(r'^$', stores_views.index, name=\"index\"), \n",
    "    url(r'^(?P<store_id>\\d+)/$', stores_views.detail, name=\"detail\"), \n",
    "    url(r'^(?P<store_id>\\d+)/about/', include('coffeehouse.about.urls', namespace=\"about\")), \n",
    "]\n",
    "\n",
    "# About urls.py\n",
    "\n",
    "urlpatterns = [\n",
    "    url(r'^$', about_views.index, name=\"index\"), \n",
    "    url(r'^contact/$', about_views.contact, name=\"contact\"), \n",
    "]\n",
    "\n",
    "# Definition in view method\n",
    "\n",
    "def method(request):\n",
    "    #...\n",
    "    return HttpResponsePermanentRedirect(reverse('stores:about:index',  args=(store.id, )))\n"
   ]
  },
  {
   "cell_type": "code",
   "execution_count": null,
   "metadata": {},
   "outputs": [],
   "source": [
    "<!--Definition in template-->\n",
    "\n",
    "<a href=\"{% url 'stores:about:index' store.id %}\">See about for {{store.name}}</a>\n"
   ]
  },
  {
   "cell_type": "markdown",
   "metadata": {},
   "source": [
    "2.18. Django urls.py with multiple instances of the same app\n"
   ]
  },
  {
   "cell_type": "code",
   "execution_count": null,
   "metadata": {},
   "outputs": [],
   "source": [
    "# Main urls.py\n",
    "\n",
    "urlpatterns = [\n",
    "    url(r'^$', TemplateView.as_view(template_name='homepage.html'), name=\"homepage\"), \n",
    "    url(r'^coffeebanners/', include('coffeehouse.banners.urls', namespace=\"coffee-banners\")), \n",
    "    url(r'^teabanners/', include('coffeehouse.banners.urls', namespace=\"tea-banners\")), \n",
    "    url(r'^foodbanners/', include('coffeehouse.banners.urls', namespace=\"food-banners\")), \n",
    "]\n",
    "\n",
    "#  Banners urls.py\n",
    "\n",
    "urlpatterns = [\n",
    "    url(r'^$', banners_views.index, name=\"index\"), \n",
    "]\n",
    "\n",
    "# Definition in banners view method\n",
    "\n",
    "def method(request):\n",
    "    #...\n",
    "    #return HttpResponsePermanentRedirect(reverse('coffee-banners:index'))\n",
    "    #return HttpResponsePermanentRedirect(reverse('tea-banners:index'))\n",
    "    return HttpResponsePermanentRedirect(reverse('food-banners:index'))\n"
   ]
  },
  {
   "cell_type": "code",
   "execution_count": null,
   "metadata": {},
   "outputs": [],
   "source": [
    "<!--Definition in template-->\n",
    "<a href=\"{% url 'coffee-banners:index' %}\">Coffee banners</a>\n",
    "<a href=\"{% url 'tea-banners:index' %}\">Tea banners</a>\n",
    "<a href=\"{% url 'food-banners:index' %}\">Food banners</a>\n"
   ]
  },
  {
   "cell_type": "markdown",
   "metadata": {},
   "source": [
    "2.19. Django redirect that leverages app_name to determine url\n"
   ]
  },
  {
   "cell_type": "code",
   "execution_count": null,
   "metadata": {},
   "outputs": [],
   "source": [
    "# Main urls.py\n",
    "\n",
    "urlpatterns = [\n",
    "    url(r'^$', TemplateView.as_view(template_name='homepage.html'), name=\"homepage\"), \n",
    "    url(r'^coffeebanners/', include('coffeehouse.banners.urls', namespace=\"coffee-banners\")), \n",
    "    url(r'^teabanners/', include('coffeehouse.banners.urls', namespace=\"tea-banners\")), \n",
    "    url(r'^foodbanners/', include('coffeehouse.banners.urls', namespace=\"food-banners\")), \n",
    "]\n",
    "\n",
    "# Banners urls.py\n",
    "\n",
    "app_name = 'banners_adverts'\n",
    "urlpatterns = [\n",
    "    url(r'^$', banners_views.index, name=\"index\"), \n",
    "]\n",
    "\n",
    "# Logic inside Banners app\n",
    "\n",
    "def method(request):\n",
    "    try:\n",
    "        # ...\n",
    "        pass\n",
    "    except:\n",
    "        return HttpResponsePermanentRedirect(reverse('banners_adverts:index'))\n"
   ]
  },
  {
   "cell_type": "markdown",
   "metadata": {},
   "source": [
    "2.20. Django template link that leverages app_name to determine url\n"
   ]
  },
  {
   "cell_type": "code",
   "execution_count": null,
   "metadata": {},
   "outputs": [],
   "source": [
    "<!--Definition in template banners/index.html-->\n",
    "\n",
    "<a href=\"{% url 'banners_adverts:index' %}\">{% url 'banners_adverts:index' %}</a>\n"
   ]
  },
  {
   "cell_type": "markdown",
   "metadata": {},
   "source": [
    "## View Method Requests and Responses"
   ]
  },
  {
   "cell_type": "code",
   "execution_count": 1,
   "metadata": {},
   "outputs": [],
   "source": [
    "from django.template.response import TemplateResponse\n",
    "from django.http import HttpResponse\n",
    "from django.template import loader, Context\n"
   ]
  },
  {
   "cell_type": "markdown",
   "metadata": {},
   "source": [
    "2.21. Set up dictionary in Django view method for access in template\n"
   ]
  },
  {
   "cell_type": "code",
   "execution_count": null,
   "metadata": {},
   "outputs": [],
   "source": [
    "def detail(request,store_id='1',location=None):\n",
    "    # Create fixed data structures to pass to template\n",
    "    # data could equally come from database queries\n",
    "    # web services or social APIs\n",
    "    STORE_NAME = 'Downtown'\n",
    "    store_address = {'street':'Main #385','city':'San Diego','state':'CA'}\n",
    "    store_amenities = ['WiFi','A/C']\n",
    "    store_menu = ((0,''),(1,'Drinks'),(2,'Food'))\n",
    "    values_for_template = {\n",
    "        'store_name':STORE_NAME, \n",
    "        'store_address':store_address, \n",
    "        'store_amenities':store_amenities, \n",
    "        'store_menu':store_menu\n",
    "    }\n",
    "    return render(request,'stores/detail.html', values_for_template)\n"
   ]
  },
  {
   "cell_type": "markdown",
   "metadata": {},
   "source": [
    "2.22. Django view method response alternatives"
   ]
  },
  {
   "cell_type": "code",
   "execution_count": null,
   "metadata": {},
   "outputs": [],
   "source": [
    "values_for_template = dict()\n",
    "\n",
    "# Option 1)\n",
    "\n",
    "def detail(request, store_id='1', location=None):\n",
    "    #...\n",
    "    return render(request, 'stores/detail.html', values_for_template)\n",
    "\n",
    "# Option 2)\n",
    "\n",
    "\n",
    "def detail(request, store_id='1', location=None):\n",
    "    #...\n",
    "    return TemplateResponse(request, 'stores/detail.html', values_for_template)\n",
    "\n",
    "# Option 3)\n",
    "\n",
    "def detail(request, store_id='1', location=None):\n",
    "    #...\n",
    "    response = HttpResponse()\n",
    "    t = loader.get_template('stores/detail.html')\n",
    "    c = Context(values_for_template)\n",
    "    return response.write(t.render(c))\n"
   ]
  },
  {
   "cell_type": "markdown",
   "metadata": {},
   "source": [
    "## Response Options for HTTP Status and Content-Type Headers"
   ]
  },
  {
   "cell_type": "code",
   "execution_count": 2,
   "metadata": {},
   "outputs": [],
   "source": [
    "import datetime as dt"
   ]
  },
  {
   "cell_type": "markdown",
   "metadata": {},
   "source": [
    "2.23. HTTP Content-type and HTTP Status for Django view method responses"
   ]
  },
  {
   "cell_type": "code",
   "execution_count": null,
   "metadata": {},
   "outputs": [],
   "source": [
    "def method1(request):\n",
    "    # No method body(s) and only render() example provided for simplicity\n",
    "    # Returns content type text/plain, with default HTTP 200\n",
    "    return render(\n",
    "        request,'stores/menu.csv', \n",
    "        values_for_template, \n",
    "        content_type='text/plain'\n",
    "    )\n",
    "\n",
    "def method2(request):\n",
    "    # Returns HTTP 404, wtih default text/html\n",
    "    return render(request, 'custom/notfound.html', status=404)\n",
    "\n",
    "def method3(request):\n",
    "    # Returns HTTP 500, wtih default text/html\n",
    "    return render(request, 'custom/internalerror.html', status=500)\n",
    "\n",
    "def method4(request):\n",
    "    # Returns content type application/json, with default HTTP 200\n",
    "    return render(\n",
    "        request,\n",
    "        'stores/menu.json', \n",
    "        values_for_template, \n",
    "        content_type='application/json'\n",
    "    )\n"
   ]
  },
  {
   "cell_type": "markdown",
   "metadata": {},
   "source": [
    "2.24. Override built-in Django HTTP Status view methods in urls.py\n",
    "\n"
   ]
  },
  {
   "cell_type": "code",
   "execution_count": null,
   "metadata": {},
   "outputs": [],
   "source": [
    "# Overrides the default 400 handler django.views.defaults.bad_request\n",
    "handler400 = 'coffeehouse.utils.views.bad_request'\n",
    "\n",
    "# Overrides the default 403 handler django.views.defaults.permission_denied\n",
    "handler403 = 'coffeehouse.utils.views.permission_denied'\n",
    "\n",
    "# Overrides the default 404 handler django.views.defaults.page_not_found\n",
    "andler404 = 'coffeehouse.utils.views.page_not_found'\n",
    "\n",
    "# Overrides the default 500 handler django.views.defaults.server_error\n",
    "handler500 = 'coffeehouse.utils.views.server_error'\n",
    "\n",
    "urlpatterns = [\n",
    "    #....\n",
    "]\n"
   ]
  },
  {
   "cell_type": "markdown",
   "metadata": {},
   "source": [
    "2.25. Custom views to override built-in Django HTTP view methods\n"
   ]
  },
  {
   "cell_type": "code",
   "execution_count": null,
   "metadata": {},
   "outputs": [],
   "source": [
    "def page_not_found(request):\n",
    "    # Dict to pass to template,  data could come from DB query\n",
    "    values_for_template = {}\n",
    "    return render(request, '404.html', values_for_template, status=404)\n",
    "\n",
    "def server_error(request):\n",
    "    # Dict to pass to template,  data could come from DB query\n",
    "    values_for_template = {}\n",
    "    return render(request, '500.html', values_for_template, status=500)\n",
    "\n",
    "def bad_request(request):\n",
    "    # Dict to pass to template,  data could come from DB query\n",
    "    values_for_template = {}\n",
    "    return render(request, '400.html', values_for_template, status=400)\n",
    "\n",
    "def permission_denied(request):\n",
    "    # Dict to pass to template,  data could come from DB query\n",
    "    values_for_template = {}\n",
    "    return render(request, '403.html', values_for_template, status=403)\n"
   ]
  },
  {
   "cell_type": "markdown",
   "metadata": {},
   "source": [
    "2.26. HttpResponse with template and custom CSV file download"
   ]
  },
  {
   "cell_type": "code",
   "execution_count": null,
   "metadata": {},
   "outputs": [],
   "source": [
    "\n",
    "def view_method():\n",
    "    sorted_users = list()\n",
    "    response = HttpResponse(content_type='text/csv')\n",
    "    response['Content-Disposition'] = 'attachment; filename=Users_{}.csv'\\\n",
    "        .format(dt.datetime.now())\n",
    "    t = loader.get_template('dashboard/users_csvexport.html')\n",
    "    c = Context({'users': sorted_users,})\n",
    "    response.write(t.render(c))\n",
    "    return response\n"
   ]
  },
  {
   "cell_type": "markdown",
   "metadata": {},
   "source": [
    "## View Method Middleware"
   ]
  },
  {
   "cell_type": "markdown",
   "metadata": {},
   "source": [
    "2.27. Default Django middleware classes in MIDDLEWARE"
   ]
  },
  {
   "cell_type": "code",
   "execution_count": null,
   "metadata": {},
   "outputs": [],
   "source": [
    "MIDDLEWARE = [\n",
    "    'django.middleware.security.SecurityMiddleware',\n",
    "    'django.contrib.sessions.middleware.SessionMiddleware',\n",
    "    'django.middleware.common.CommonMiddleware',\n",
    "    'django.middleware.csrf.CsrfViewMiddleware',\n",
    "    'django.contrib.auth.middleware.AuthenticationMiddleware',\n",
    "    'django.contrib.messages.middleware.MessageMiddleware',\n",
    "    'django.middleware.clickjacking.XFrameOptionsMiddleware',\n",
    "]"
   ]
  },
  {
   "cell_type": "markdown",
   "metadata": {},
   "source": [
    "2.28. Django middleware class structure"
   ]
  },
  {
   "cell_type": "code",
   "execution_count": null,
   "metadata": {},
   "outputs": [],
   "source": [
    "class CoffeehouseMiddleware(object):\n",
    "    def __init__(self, get_response):\n",
    "        self.get_response = get_response\n",
    "\n",
    "    # One-time configuration and initialization on start-up\n",
    "    def __call__(self, request):\n",
    "        # Logic executed on a request before the view (and other middleware) is called.\n",
    "        # get_response call triggers next phase\n",
    "        response = self.get_response(request)\n",
    "        # Logic executed on response after the view is called.\n",
    "        # Return response to finish middleware sequence\n",
    "        return response\n",
    "\n",
    "    def process_view(self, request, view_func, view_args, view_kwargs):\n",
    "        # Logic executed before a call to view\n",
    "        # Gives access to the view itself & arguments\n",
    "        return\n",
    "\n",
    "    def process_exception(self,request, exception):\n",
    "        # Logic executed if an exception/error occurs in the view\n",
    "        return\n",
    "\n",
    "    def process_template_response(self,request, response):\n",
    "        # Logic executed after the view is called,\n",
    "        # ONLY IF view response is TemplateResponse, see listing 2-22\n",
    "        return\n"
   ]
  }
 ],
 "metadata": {
  "interpreter": {
   "hash": "7a9e02a1f826380158911783ea17643d2a23bf263a4f25f2922627e4a1f5859b"
  },
  "kernelspec": {
   "display_name": "Python 2.7.18 64-bit ('env': venv)",
   "language": "python",
   "name": "python3"
  },
  "language_info": {
   "codemirror_mode": {
    "name": "ipython",
    "version": 2
   },
   "file_extension": ".py",
   "mimetype": "text/x-python",
   "name": "python",
   "nbconvert_exporter": "python",
   "pygments_lexer": "ipython2",
   "version": "2.7.18"
  },
  "orig_nbformat": 4
 },
 "nbformat": 4,
 "nbformat_minor": 2
}
