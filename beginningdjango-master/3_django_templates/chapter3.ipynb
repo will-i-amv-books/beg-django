{
 "cells": [
  {
   "cell_type": "markdown",
   "metadata": {},
   "source": [
    "# Chapter 3  - Django Templates "
   ]
  },
  {
   "cell_type": "code",
   "execution_count": null,
   "metadata": {},
   "outputs": [],
   "source": []
  }
 ],
 "metadata": {
  "interpreter": {
   "hash": "7a9e02a1f826380158911783ea17643d2a23bf263a4f25f2922627e4a1f5859b"
  },
  "kernelspec": {
   "display_name": "Python 2.7.18 64-bit ('env': venv)",
   "language": "python",
   "name": "python3"
  },
  "language_info": {
   "name": "python",
   "version": "2.7.18"
  },
  "orig_nbformat": 4
 },
 "nbformat": 4,
 "nbformat_minor": 2
}
