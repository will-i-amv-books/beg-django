{
 "cells": [
  {
   "cell_type": "markdown",
   "metadata": {},
   "source": [
    "# Chapter 3  - Django Templates "
   ]
  },
  {
   "cell_type": "markdown",
   "metadata": {},
   "source": [
    "## Django Template Configuration"
   ]
  },
  {
   "cell_type": "code",
   "execution_count": 2,
   "metadata": {},
   "outputs": [],
   "source": [
    "import os"
   ]
  },
  {
   "cell_type": "markdown",
   "metadata": {},
   "source": [
    "3.1. Default Django template configuration in settings.py\n"
   ]
  },
  {
   "cell_type": "code",
   "execution_count": null,
   "metadata": {},
   "outputs": [],
   "source": [
    "TEMPLATES = [\n",
    "    {\n",
    "        'BACKEND': 'django.template.backends.django.DjangoTemplates',\n",
    "        'DIRS': [],\n",
    "        'APP_DIRS': True,\n",
    "        'OPTIONS': {\n",
    "            'context_processors': [\n",
    "                'django.template.context_processors.debug',\n",
    "                'django.template.context_processors.request',\n",
    "                'django.contrib.auth.context_processors.auth',\n",
    "                'django.contrib.messages.context_processors.messages',\n",
    "            ],\n",
    "        },\n",
    "    },\n",
    "]"
   ]
  },
  {
   "cell_type": "markdown",
   "metadata": {},
   "source": [
    "3.2. Django apps with templates dirs with potential conflict and namespace qualification"
   ]
  },
  {
   "cell_type": "markdown",
   "metadata": {},
   "source": [
    "Templates directly under templates folder can cause loading conflicts\n",
    "\n",
    "```\n",
    "+---+-<PROJECT_DIR_project_name_conflict>\n",
    "    |\n",
    "    +-__init__.py\n",
    "    +-settings.py\n",
    "    +-urls.py\n",
    "    +-wsgi.py\n",
    "    |\n",
    "    +-about(app)-+\n",
    "    |            +-__init__.py\n",
    "    |            +-models.py\n",
    "    |            +-tests.py\n",
    "    |            +-views.py\n",
    "    |            +-templates-+\n",
    "    |                        |\n",
    "    |                        +-index.html\n",
    "    +-stores(app)-+\n",
    "                  +-__init__.py\n",
    "                  +-models.py\n",
    "                  +-tests.py\n",
    "                  +-views.py\n",
    "                  +-templates-+\n",
    "                              |\n",
    "                              +-index.html`\n",
    "```\n"
   ]
  },
  {
   "cell_type": "markdown",
   "metadata": {},
   "source": [
    "Templates classified with additional namespace avoid loading conflicts\n",
    "\n",
    "```\n",
    "+---+-<PROJECT_DIR_project_name_conflict>\n",
    "    |\n",
    "    +-__init__.py\n",
    "    +-settings.py\n",
    "    +-urls.py\n",
    "    +-wsgi.py\n",
    "    |\n",
    "    +-about(app)-+\n",
    "    |            +-__init__.py\n",
    "    |            +-models.py\n",
    "    |            +-tests.py\n",
    "    |            +-views.py\n",
    "    |            +-templates-+\n",
    "    |                        |\n",
    "    |                        +-about-+\n",
    "    |                                |\n",
    "    |                                +-index.html\n",
    "    +-stores(app)-+\n",
    "                  +-__init__.py\n",
    "                  +-models.py\n",
    "                  +-tests.py\n",
    "                  +-views.py\n",
    "                  +-templates-+\n",
    "                              |\n",
    "                              +-stores-+\n",
    "                                       |\n",
    "                                       +-index.html`\n",
    "```\n"
   ]
  },
  {
   "cell_type": "markdown",
   "metadata": {},
   "source": [
    "3.3. DIRS definition with relative path in settings.py\n"
   ]
  },
  {
   "cell_type": "code",
   "execution_count": null,
   "metadata": {},
   "outputs": [],
   "source": [
    "BASE_DIR = os.path.dirname(os.path.dirname(os.path.abspath(__file__)))\n",
    "PROJECT_DIR = os.path.dirname(os.path.abspath(__file__))\n",
    "TEMPLATES = [\n",
    "    {\n",
    "        #...\n",
    "        'DIRS': [\n",
    "            '%s/templates/' % (PROJECT_DIR),\n",
    "            '%s/dev_templates/' % (PROJECT_DIR),\n",
    "        ],\n",
    "        #...\n",
    "    },\n",
    "]"
   ]
  },
  {
   "cell_type": "markdown",
   "metadata": {},
   "source": [
    "3.4. Output warning message for invalid template variables with string_if_invalid\n"
   ]
  },
  {
   "cell_type": "code",
   "execution_count": null,
   "metadata": {},
   "outputs": [],
   "source": [
    "TEMPLATES = [\n",
    "    {\n",
    "        #...\n",
    "        'OPTIONS': {\n",
    "            'string_if_invalid': \"****WARNING: INVALID VARIABLE %s!!****\",\n",
    "            #...\n",
    "        },\n",
    "        #...\n",
    "    },\n",
    "]\n"
   ]
  },
  {
   "cell_type": "markdown",
   "metadata": {},
   "source": [
    "3.5. Error generation for invalid template variables with string_if_invalid"
   ]
  },
  {
   "cell_type": "code",
   "execution_count": null,
   "metadata": {},
   "outputs": [],
   "source": [
    "class InvalidTemplateVariable(str):\n",
    "    def __mod__(self, other):\n",
    "        from django.template.base import TemplateSyntaxError\n",
    "        raise TemplateSyntaxError(\"Invalid variable : '%s'\" % other)\n",
    "    \n",
    "TEMPLATES = [\n",
    "    {\n",
    "        #...\n",
    "        'OPTIONS': {\n",
    "            'string_if_invalid': InvalidTemplateVariable(\"%s\"),\n",
    "            #...\n",
    "        },\n",
    "    },\n",
    "]\n"
   ]
  },
  {
   "cell_type": "markdown",
   "metadata": {},
   "source": [
    "3.6. Option with debug equals False omits template details"
   ]
  },
  {
   "cell_type": "code",
   "execution_count": null,
   "metadata": {},
   "outputs": [],
   "source": [
    "TEMPLATES = [\n",
    "    {\n",
    "        #...\n",
    "        'OPTIONS': {\n",
    "            'debug':False,\n",
    "            #...\n",
    "        },\n",
    "    },\n",
    "]"
   ]
  },
  {
   "cell_type": "markdown",
   "metadata": {},
   "source": [
    "3.7. Option with auto-escape equals False omits auto-escaping on all Django templates"
   ]
  },
  {
   "cell_type": "code",
   "execution_count": 3,
   "metadata": {},
   "outputs": [],
   "source": [
    "TEMPLATES = [\n",
    "    {\n",
    "        #...\n",
    "        'OPTIONS': {\n",
    "            'autoescape':False,\n",
    "            #...\n",
    "        },\n",
    "        #...\n",
    "    },\n",
    "]\n"
   ]
  },
  {
   "cell_type": "markdown",
   "metadata": {},
   "source": [
    "3.8. Option with builtins to gain automatic access to tags/filters on all templates\n"
   ]
  },
  {
   "cell_type": "code",
   "execution_count": null,
   "metadata": {},
   "outputs": [],
   "source": [
    "TEMPLATES = [\n",
    "    {\n",
    "        #...\n",
    "        'OPTIONS': {\n",
    "            #...\n",
    "            'builtins': [\n",
    "                'coffeehouse.builtins',\n",
    "                'thirdpartyapp.customtags.really_useful_tags_and_filters',\n",
    "            ],\n",
    "        },\n",
    "        #...\n",
    "    },\n",
    "]\n"
   ]
  },
  {
   "cell_type": "markdown",
   "metadata": {},
   "source": [
    "3.9. Option with libraries to register tags/filters with alternative label/name and under any project directory"
   ]
  },
  {
   "cell_type": "code",
   "execution_count": null,
   "metadata": {},
   "outputs": [],
   "source": [
    "TEMPLATES = [\n",
    "    {\n",
    "        #...\n",
    "        'APP_DIRS': True,\n",
    "        'OPTIONS': {\n",
    "            #...\n",
    "            'libraries': {\n",
    "                'coffeehouse_tags': 'coffeehouse.tags_filters.common',\n",
    "            },\n",
    "            #...\n",
    "        },\n",
    "        #...\n",
    "    },\n",
    "]"
   ]
  }
 ],
 "metadata": {
  "interpreter": {
   "hash": "7a9e02a1f826380158911783ea17643d2a23bf263a4f25f2922627e4a1f5859b"
  },
  "kernelspec": {
   "display_name": "Python 2.7.18 64-bit ('env': venv)",
   "language": "python",
   "name": "python3"
  },
  "language_info": {
   "codemirror_mode": {
    "name": "ipython",
    "version": 2
   },
   "file_extension": ".py",
   "mimetype": "text/x-python",
   "name": "python",
   "nbconvert_exporter": "python",
   "pygments_lexer": "ipython2",
   "version": "2.7.18"
  },
  "orig_nbformat": 4
 },
 "nbformat": 4,
 "nbformat_minor": 2
}
