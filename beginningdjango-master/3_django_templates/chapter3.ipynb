{
 "cells": [
  {
   "cell_type": "markdown",
   "metadata": {},
   "source": [
    "# Chapter 3  - Django Templates "
   ]
  },
  {
   "cell_type": "markdown",
   "metadata": {},
   "source": [
    "## Django Template Configuration"
   ]
  },
  {
   "cell_type": "code",
   "execution_count": null,
   "metadata": {},
   "outputs": [],
   "source": [
    "import os"
   ]
  },
  {
   "cell_type": "markdown",
   "metadata": {},
   "source": [
    "3.1. Default Django template configuration in settings.py\n"
   ]
  },
  {
   "cell_type": "code",
   "execution_count": null,
   "metadata": {},
   "outputs": [],
   "source": [
    "TEMPLATES = [\n",
    "    {\n",
    "        'BACKEND': 'django.template.backends.django.DjangoTemplates',\n",
    "        'DIRS': [],\n",
    "        'APP_DIRS': True,\n",
    "        'OPTIONS': {\n",
    "            'context_processors': [\n",
    "                'django.template.context_processors.debug',\n",
    "                'django.template.context_processors.request',\n",
    "                'django.contrib.auth.context_processors.auth',\n",
    "                'django.contrib.messages.context_processors.messages',\n",
    "            ],\n",
    "        },\n",
    "    },\n",
    "]"
   ]
  },
  {
   "cell_type": "markdown",
   "metadata": {},
   "source": [
    "3.2. Django apps with templates dirs with potential conflict and namespace qualification"
   ]
  },
  {
   "cell_type": "markdown",
   "metadata": {},
   "source": [
    "Templates directly under templates folder can cause loading conflicts\n",
    "\n",
    "```\n",
    "+---+-<PROJECT_DIR_project_name_conflict>\n",
    "    |\n",
    "    +-__init__.py\n",
    "    +-settings.py\n",
    "    +-urls.py\n",
    "    +-wsgi.py\n",
    "    |\n",
    "    +-about(app)-+\n",
    "    |            +-__init__.py\n",
    "    |            +-models.py\n",
    "    |            +-tests.py\n",
    "    |            +-views.py\n",
    "    |            +-templates-+\n",
    "    |                        |\n",
    "    |                        +-index.html\n",
    "    +-stores(app)-+\n",
    "                  +-__init__.py\n",
    "                  +-models.py\n",
    "                  +-tests.py\n",
    "                  +-views.py\n",
    "                  +-templates-+\n",
    "                              |\n",
    "                              +-index.html`\n",
    "```\n"
   ]
  },
  {
   "cell_type": "markdown",
   "metadata": {},
   "source": [
    "Templates classified with additional namespace avoid loading conflicts\n",
    "\n",
    "```\n",
    "+---+-<PROJECT_DIR_project_name_conflict>\n",
    "    |\n",
    "    +-__init__.py\n",
    "    +-settings.py\n",
    "    +-urls.py\n",
    "    +-wsgi.py\n",
    "    |\n",
    "    +-about(app)-+\n",
    "    |            +-__init__.py\n",
    "    |            +-models.py\n",
    "    |            +-tests.py\n",
    "    |            +-views.py\n",
    "    |            +-templates-+\n",
    "    |                        |\n",
    "    |                        +-about-+\n",
    "    |                                |\n",
    "    |                                +-index.html\n",
    "    +-stores(app)-+\n",
    "                  +-__init__.py\n",
    "                  +-models.py\n",
    "                  +-tests.py\n",
    "                  +-views.py\n",
    "                  +-templates-+\n",
    "                              |\n",
    "                              +-stores-+\n",
    "                                       |\n",
    "                                       +-index.html`\n",
    "```\n"
   ]
  },
  {
   "cell_type": "markdown",
   "metadata": {},
   "source": [
    "3.3. DIRS definition with relative path in settings.py\n"
   ]
  },
  {
   "cell_type": "code",
   "execution_count": null,
   "metadata": {},
   "outputs": [],
   "source": [
    "BASE_DIR = os.path.dirname(os.path.dirname(os.path.abspath(__file__)))\n",
    "PROJECT_DIR = os.path.dirname(os.path.abspath(__file__))\n",
    "TEMPLATES = [\n",
    "    {\n",
    "        #...\n",
    "        'DIRS': [\n",
    "            '%s/templates/' % (PROJECT_DIR),\n",
    "            '%s/dev_templates/' % (PROJECT_DIR),\n",
    "        ],\n",
    "        #...\n",
    "    },\n",
    "]"
   ]
  },
  {
   "cell_type": "markdown",
   "metadata": {},
   "source": [
    "3.4. Output warning message for invalid template variables with string_if_invalid\n"
   ]
  },
  {
   "cell_type": "code",
   "execution_count": null,
   "metadata": {},
   "outputs": [],
   "source": [
    "TEMPLATES = [\n",
    "    {\n",
    "        #...\n",
    "        'OPTIONS': {\n",
    "            'string_if_invalid': \"****WARNING: INVALID VARIABLE %s!!****\",\n",
    "            #...\n",
    "        },\n",
    "        #...\n",
    "    },\n",
    "]\n"
   ]
  },
  {
   "cell_type": "markdown",
   "metadata": {},
   "source": [
    "3.5. Error generation for invalid template variables with string_if_invalid"
   ]
  },
  {
   "cell_type": "code",
   "execution_count": null,
   "metadata": {},
   "outputs": [],
   "source": [
    "class InvalidTemplateVariable(str):\n",
    "    def __mod__(self, other):\n",
    "        from django.template.base import TemplateSyntaxError\n",
    "        raise TemplateSyntaxError(\"Invalid variable : '%s'\" % other)\n",
    "    \n",
    "TEMPLATES = [\n",
    "    {\n",
    "        #...\n",
    "        'OPTIONS': {\n",
    "            'string_if_invalid': InvalidTemplateVariable(\"%s\"),\n",
    "            #...\n",
    "        },\n",
    "    },\n",
    "]\n"
   ]
  },
  {
   "cell_type": "markdown",
   "metadata": {},
   "source": [
    "3.6. Option with debug equals False omits template details"
   ]
  },
  {
   "cell_type": "code",
   "execution_count": null,
   "metadata": {},
   "outputs": [],
   "source": [
    "TEMPLATES = [\n",
    "    {\n",
    "        #...\n",
    "        'OPTIONS': {\n",
    "            'debug':False,\n",
    "            #...\n",
    "        },\n",
    "    },\n",
    "]"
   ]
  },
  {
   "cell_type": "markdown",
   "metadata": {},
   "source": [
    "3.7. Option with auto-escape equals False omits auto-escaping on all Django templates"
   ]
  },
  {
   "cell_type": "code",
   "execution_count": null,
   "metadata": {},
   "outputs": [],
   "source": [
    "TEMPLATES = [\n",
    "    {\n",
    "        #...\n",
    "        'OPTIONS': {\n",
    "            'autoescape':False,\n",
    "            #...\n",
    "        },\n",
    "        #...\n",
    "    },\n",
    "]\n"
   ]
  },
  {
   "cell_type": "markdown",
   "metadata": {},
   "source": [
    "3.8. Option with builtins to gain automatic access to tags/filters on all templates\n"
   ]
  },
  {
   "cell_type": "code",
   "execution_count": null,
   "metadata": {},
   "outputs": [],
   "source": [
    "TEMPLATES = [\n",
    "    {\n",
    "        #...\n",
    "        'OPTIONS': {\n",
    "            #...\n",
    "            'builtins': [\n",
    "                'coffeehouse.builtins',\n",
    "                'thirdpartyapp.customtags.really_useful_tags_and_filters',\n",
    "            ],\n",
    "        },\n",
    "        #...\n",
    "    },\n",
    "]\n"
   ]
  },
  {
   "cell_type": "markdown",
   "metadata": {},
   "source": [
    "3.9. Option with libraries to register tags/filters with alternative label/name and under any project directory"
   ]
  },
  {
   "cell_type": "code",
   "execution_count": null,
   "metadata": {},
   "outputs": [],
   "source": [
    "TEMPLATES = [\n",
    "    {\n",
    "        #...\n",
    "        'OPTIONS': {\n",
    "            #...\n",
    "            'libraries': {\n",
    "                'coffeehouse_tags': 'coffeehouse.tags_filters.common',\n",
    "            },\n",
    "            #...\n",
    "        },\n",
    "        #...\n",
    "    },\n",
    "]"
   ]
  },
  {
   "cell_type": "markdown",
   "metadata": {},
   "source": [
    "## Creating Reusable Templates"
   ]
  },
  {
   "cell_type": "markdown",
   "metadata": {},
   "source": [
    "3.10. Django template with {% block %} tags"
   ]
  },
  {
   "cell_type": "code",
   "execution_count": null,
   "metadata": {},
   "outputs": [],
   "source": [
    "<!DOCTYPE html>\n",
    "<html lang=\"en\">\n",
    "    <head>\n",
    "        <meta charset=\"utf-8\">\n",
    "        <title>{% block title%} Default title {% endblock title %}</title>\n",
    "        <meta name=\"description\" content=\"{% block metadescription%}{% endblock metadescription %}\">\n",
    "        <meta name=\"keywords\" content=\"{% block metakeywords%}{% endblock metakeywords %}\">\n"
   ]
  },
  {
   "cell_type": "markdown",
   "metadata": {},
   "source": [
    "3.11. Django template with {% extends %} and {% block %} tag"
   ]
  },
  {
   "cell_type": "code",
   "execution_count": null,
   "metadata": {},
   "outputs": [],
   "source": [
    "{% extends \"base.html\" %}\n",
    "{% block title %}Coffeehouse home page{% endblock title %}"
   ]
  },
  {
   "cell_type": "markdown",
   "metadata": {},
   "source": [
    "3.12. Django templates use of {{block.super}} with three reusable templates\n"
   ]
  },
  {
   "cell_type": "code",
   "execution_count": null,
   "metadata": {},
   "outputs": [],
   "source": [
    "<!--base.html template-->\n",
    "\n",
    "<p>{% block breadcrumb %}Home{% endblock breadcrumb %}</p>\n",
    "\n",
    "<!--index.html template-->\n",
    "\n",
    "{% extends \"base.html\" %}\n",
    "{% block breadcrumb %}Main{% endblock breadcrumb %}\n",
    "\n",
    "<!--detail.html template-->\n",
    "\n",
    "{% extends \"index.html\" %}\n",
    "{% block breadcrumb %} {{block.super}} : Detail {% endblock breadcrumb %}\n"
   ]
  },
  {
   "cell_type": "markdown",
   "metadata": {},
   "source": [
    "# Custom Context processors"
   ]
  },
  {
   "cell_type": "markdown",
   "metadata": {},
   "source": [
    "3.13. Custom Django context processor method"
   ]
  },
  {
   "cell_type": "code",
   "execution_count": null,
   "metadata": {},
   "outputs": [],
   "source": [
    "def onsale(request):\n",
    "    # Create fixed data structures to pass to template\n",
    "    # data could equally come from database queries\n",
    "    # web services or social APIs\n",
    "    sale_items = {\n",
    "        'Monday':'Mocha 2x1',\n",
    "        'Tuesday':'Latte 2x1'\n",
    "    }\n",
    "    return {'SALE_ITEMS': sale_items}\n"
   ]
  },
  {
   "cell_type": "markdown",
   "metadata": {},
   "source": [
    "3.14. Django template context processor definitions in context_processors in OPTIONS of TEMPLATES\n"
   ]
  },
  {
   "cell_type": "code",
   "execution_count": null,
   "metadata": {},
   "outputs": [],
   "source": [
    "TEMPLATES = [\n",
    "    {\n",
    "        #...\n",
    "        'OPTIONS': {\n",
    "            'context_processors': [\n",
    "                'coffeehouse.stores.processors.onsale',\n",
    "                'django.template.context_processors.debug',\n",
    "                'django.template.context_processors.request',\n",
    "                'django.contrib.auth.context_processors.auth',\n",
    "                'django.contrib.messages.context_processors.messages',\n",
    "            ],\n",
    "        },\n",
    "        #...\n",
    "    },\n",
    "]\n"
   ]
  },
  {
   "cell_type": "markdown",
   "metadata": {},
   "source": [
    "## Built-in Django Filters"
   ]
  },
  {
   "cell_type": "markdown",
   "metadata": {},
   "source": [
    "3.15. Django linenumbers filter\n"
   ]
  },
  {
   "cell_type": "code",
   "execution_count": null,
   "metadata": {},
   "outputs": [],
   "source": [
    "# Variable definition\n",
    "'Downtown'\n",
    "'Uptown'\n",
    "'Midtown'\n",
    "\n",
    "# Template definition with linenumbers filter\n",
    "\n",
    "{{variable|linenumbers}}\n",
    "# Output\n",
    "'1.Downtown'\n",
    "'2.Uptown'\n",
    "'3.Midtown'"
   ]
  },
  {
   "cell_type": "markdown",
   "metadata": {},
   "source": [
    "3.16. Django unordered_list filter"
   ]
  },
  {
   "cell_type": "code",
   "execution_count": null,
   "metadata": {},
   "outputs": [],
   "source": [
    "# Variable definition\n",
    "[\"Stores\", [\"San Diego\", [\"Downtown\", \"Uptown\", \"Midtown\"]]]\n",
    "\n",
    "# Template definition with linenumbers filter\n",
    "{{variable|unordered_list}}\n",
    "\n",
    "# Output\n",
    "<li>Stores\n",
    "    <ul>\n",
    "        <li>San Diego\n",
    "            <ul>\n",
    "                <li>Downtown</li>\n",
    "                <li>Uptown</li>\n",
    "                <li>Midtown</li>\n",
    "            </ul>\n",
    "        </li>\n",
    "    </ul>\n",
    "</li>"
   ]
  },
  {
   "cell_type": "markdown",
   "metadata": {},
   "source": [
    "3.17. Django wordwrap filter\n"
   ]
  },
  {
   "cell_type": "code",
   "execution_count": null,
   "metadata": {},
   "outputs": [],
   "source": [
    "# Variable definition\n",
    "Coffeehouse started as a small store\n",
    "\n",
    "# Template definition with wordwrap filter for every 12 characters\n",
    "{{variable|wordwrap:12}}\n",
    "\n",
    "# Output\n",
    "Coffeehouse\n",
    "started as a\n",
    "small store"
   ]
  },
  {
   "cell_type": "markdown",
   "metadata": {},
   "source": [
    "## Built-in Django Tags"
   ]
  },
  {
   "cell_type": "markdown",
   "metadata": {},
   "source": [
    "3.19. Django {% firstof %} tag and equivalent {% if %}{% elif %}{% else %} tags"
   ]
  },
  {
   "cell_type": "code",
   "execution_count": null,
   "metadata": {},
   "outputs": [],
   "source": [
    "# Firstof example\n",
    "{% firstof var1 var2 var3 %}\n",
    "\n",
    "# Equivalent of firstof example\n",
    "{% if var1 %}\n",
    "    {{var1|safe}}\n",
    "{% elif var2 %}\n",
    "    {{var2|safe}}\n",
    "{% elif var3 %}\n",
    "    {{var3|safe}}\n",
    "{% endif %}\n",
    "\n",
    "# Firstof example with a default value in case of no match (i.e, all variables are empty)\n",
    "{% firstof var1 var2 var3 \"All vars are empty\" %}\n",
    "\n",
    "# Assign the firstof result to another variable\n",
    "{% firstof var1 var2 var3 as resultof %}\n"
   ]
  },
  {
   "cell_type": "markdown",
   "metadata": {},
   "source": [
    "3.20. Django {% for %} tag and {% for %} with {% empty %}\n"
   ]
  },
  {
   "cell_type": "code",
   "execution_count": null,
   "metadata": {},
   "outputs": [],
   "source": [
    "<ul> \n",
    "    {% for drink in drinks %} \n",
    "        <li>{{ drink.name }}</li> \n",
    "        {% empty %} \n",
    "        <li>No drinks, sorry</li>\n",
    "    {% endfor %}\n",
    " </ul>\n",
    "\n",
    "<ul>\n",
    "    {% for storeid, store in stores %}\n",
    "        <li>\n",
    "            <a href=\"/stores{{storeid}}/\">{{store.name}}</a> \n",
    "        </li>\n",
    "    {% endfor %}\n",
    "</ul>\n"
   ]
  },
  {
   "cell_type": "markdown",
   "metadata": {},
   "source": [
    "3.21. Django {% cycle %} with explicit control of progression\n"
   ]
  },
  {
   "cell_type": "code",
   "execution_count": null,
   "metadata": {},
   "outputs": [],
   "source": [
    "<li class=\"{% cycle 'disc' 'circle' 'square' as bullettype %}\">...</li>\n",
    "<li class=\"{{bullettype}}\">...</li>\n",
    "<li class=\"{{bullettype}}\">...</li>\n",
    "<li class=\"{% cycle bullettype %}\">...</li>\n",
    "<li class=\"{{bullettype}}\">...</li>\n",
    "<li class=\"{% cycle bullettype %}\">...</li>\n",
    "\n",
    "# Outputs\n",
    "<li class=\"disc\">...</li>\n",
    "<li class=\"disc\">...</li>\n",
    "<li class=\"disc\">...</li>\n",
    "<li class=\"circle\">...</li>\n",
    "<li class=\"circle\">...</li>\n",
    "<li class=\"square\">...</li>"
   ]
  },
  {
   "cell_type": "markdown",
   "metadata": {},
   "source": [
    "3.22. Django {% for %} tag and {% regroup %}"
   ]
  },
  {
   "cell_type": "code",
   "execution_count": null,
   "metadata": {},
   "outputs": [],
   "source": [
    "# Dictionary definition\n",
    "stores = [\n",
    "    {'name': 'Downtown', 'street': '385 Main Street', 'city': 'San Diego'},\n",
    "    {'name': 'Uptown', 'street': '231 Highland Avenue', 'city': 'San Diego'},\n",
    "    {'name': 'Midtown', 'street': '85 Balboa Street', 'city': 'San Diego'},\n",
    "    {'name': 'Downtown', 'street': '639 Spring Street', 'city': 'Los Angeles'},\n",
    "    {'name': 'Midtown', 'street': '1407 Broadway Street', 'city': 'Los Angeles'},\n",
    "    {'name': 'Downton', 'street': '50 1st Street', 'city': 'San Francisco'},\n",
    "]\n",
    "# Template definition with regroup and for tags\n",
    "{% regroup stores by city as city_list %}\n",
    "\n",
    "<ul>\n",
    "    {% for city in city_list %}\n",
    "        <li>{{ city.grouper }}\n",
    "        <ul>\n",
    "            {% for item in city.list %}\n",
    "                <li>{{ item.name }}: {{ item.street }}</li>\n",
    "            {% endfor %}\n",
    "        </ul>\n",
    "        </li>\n",
    "    {% endfor %}\n",
    "</ul>\n",
    "\n",
    "# Output\n",
    "\n",
    "San Diego\n",
    "    Downtown : 385 Main Street\n",
    "    Uptown : 231 Highland Avenue\n",
    "    Midtown : 85 Balboa Street\n",
    "Los Angeles\n",
    "    Downtown: 639 Spring Street\n",
    "    Midtown: 1407 Broadway Street\n",
    "San Francisco\n",
    "    Downtown: 50 1st Street\n"
   ]
  },
  {
   "cell_type": "markdown",
   "metadata": {},
   "source": [
    "## Django Custom Filters"
   ]
  },
  {
   "cell_type": "code",
   "execution_count": null,
   "metadata": {},
   "outputs": [],
   "source": [
    "from django import template\n",
    "from django.utils.html import escape\n",
    "from django.utils.safestring import mark_safe\n"
   ]
  },
  {
   "cell_type": "markdown",
   "metadata": {},
   "source": [
    "3.23. Django custom filter with no arguments"
   ]
  },
  {
   "cell_type": "code",
   "execution_count": null,
   "metadata": {},
   "outputs": [],
   "source": [
    "register = template.Library()\n",
    "\n",
    "@register.filter()\n",
    "def boldcoffee(value):\n",
    "    '''Returns input wrapped in HTML tags'''\n",
    "    return '<b>{}</b>'.format(value)"
   ]
  },
  {
   "cell_type": "markdown",
   "metadata": {},
   "source": [
    "3.24. Django custom filter with arguments"
   ]
  },
  {
   "cell_type": "code",
   "execution_count": null,
   "metadata": {},
   "outputs": [],
   "source": [
    "@register.filter()\n",
    "def coffee(value, arg=\"muted\"):\n",
    "    '''Returns input wrapped in HTML tags with a CSS class'''\n",
    "    '''Defaults to CSS class 'muted' from Bootstrap'''\n",
    "    return '<span class=\"{}\">{}</span>'.format(arg, value)\n"
   ]
  },
  {
   "cell_type": "markdown",
   "metadata": {},
   "source": [
    "3.25. Django custom filter that detects autoescape setting"
   ]
  },
  {
   "cell_type": "code",
   "execution_count": null,
   "metadata": {},
   "outputs": [],
   "source": [
    "register = template.Library()\n",
    "\n",
    "@register.filter(needs_autoescape=True)\n",
    "def smartcoffee(value, autoescape=True):\n",
    "    '''Returns input wrapped in HTML tags'''\n",
    "    '''and also detects surrounding autoescape on filter (if any) and escapes '''\n",
    "    if autoescape:\n",
    "        value = escape(value)\n",
    "    result = '<b>{}</b>'.format(value)\n",
    "    return mark_safe(result)\n"
   ]
  },
  {
   "cell_type": "markdown",
   "metadata": {},
   "source": [
    "3.26. Django custom filter directory structure\n"
   ]
  },
  {
   "cell_type": "markdown",
   "metadata": {},
   "source": [
    "```\n",
    "+-<PROJECT_DIR_project_name>\n",
    "|\n",
    "+-__init__.py\n",
    "+-settings.py\n",
    "+-urls.py\n",
    "+-wsgi.py\n",
    "|\n",
    "+----common----+\n",
    "|              |\n",
    "|              +--coffeehouse_filters.py\n",
    "|\n",
    "+---<app_one>--+\n",
    "|              |\n",
    "|              +-__init__.py\n",
    "|              +-models.py\n",
    "|              +-tests.py\n",
    "|              +-views.py\n",
    "|              +-----------<templatetags>---+\n",
    "|                                           |\n",
    "|                                           +-__init__.py\n",
    "|                                           +-store_format_tf.py\n",
    "+---<app_two>--+\n",
    "|              |\n",
    "               +-__init__.py\n",
    "               +-models.py    \n",
    "               +-tests.py\n",
    "               +-views.py\n",
    "               +-----------<templatetags>---+\n",
    "                                            |\n",
    "                                            +-__init__.py\n",
    "                                            +-tax_operations.py\n",
    "```"
   ]
  },
  {
   "cell_type": "markdown",
   "metadata": {},
   "source": [
    "3.27. Configure Django template to load custom filters"
   ]
  },
  {
   "cell_type": "code",
   "execution_count": null,
   "metadata": {},
   "outputs": [],
   "source": [
    "{% load store_format_tf %}\n",
    "{% load store_format_tf tax_operations %}\n",
    "{% load undercoffee from store_format_tf %}"
   ]
  }
 ],
 "metadata": {
  "interpreter": {
   "hash": "7a9e02a1f826380158911783ea17643d2a23bf263a4f25f2922627e4a1f5859b"
  },
  "kernelspec": {
   "display_name": "Python 2.7.18 64-bit ('env': venv)",
   "language": "python",
   "name": "python3"
  },
  "language_info": {
   "codemirror_mode": {
    "name": "ipython",
    "version": 2
   },
   "file_extension": ".py",
   "mimetype": "text/x-python",
   "name": "python",
   "nbconvert_exporter": "python",
   "pygments_lexer": "ipython2",
   "version": "2.7.18"
  },
  "orig_nbformat": 4
 },
 "nbformat": 4,
 "nbformat_minor": 2
}
