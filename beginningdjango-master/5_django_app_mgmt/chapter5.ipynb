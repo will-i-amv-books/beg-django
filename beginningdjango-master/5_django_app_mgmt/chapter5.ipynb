{
 "cells": [
  {
   "cell_type": "markdown",
   "metadata": {},
   "source": [
    "# Chapter 5 - Django Application Management"
   ]
  },
  {
   "cell_type": "markdown",
   "metadata": {},
   "source": [
    "## Django settings.py for the Real World"
   ]
  },
  {
   "cell_type": "code",
   "execution_count": 2,
   "metadata": {},
   "outputs": [],
   "source": [
    "import os\n",
    "import socket\n"
   ]
  },
  {
   "cell_type": "markdown",
   "metadata": {},
   "source": [
    "5.1. Django ALLOWED_HOSTS definition"
   ]
  },
  {
   "cell_type": "code",
   "execution_count": null,
   "metadata": {},
   "outputs": [],
   "source": [
    "ALLOWED_HOSTS = [\n",
    "    '.coffeehouse.com',\n",
    "    '.bestcoffeehouse.com',\n",
    "]"
   ]
  },
  {
   "cell_type": "markdown",
   "metadata": {},
   "source": [
    "5.2. Django ADMINS and MANAGERS definition\n"
   ]
  },
  {
   "cell_type": "code",
   "execution_count": null,
   "metadata": {},
   "outputs": [],
   "source": [
    "ADMINS = (\n",
    "    ('Webmaster','webmaster@coffeehouse.com'), \n",
    "    ('Administrator','admin@coffeehouse.com')\n",
    ")\n",
    "MANAGERS = ADMINS"
   ]
  },
  {
   "cell_type": "markdown",
   "metadata": {},
   "source": [
    "5.3. Django project structure deployed to /www/"
   ]
  },
  {
   "cell_type": "markdown",
   "metadata": {},
   "source": [
    "```\n",
    "+-/www/+\n",
    "       |\n",
    "       +--STORE--+\n",
    "       |\n",
    "       +---manage.py\n",
    "       |\n",
    "       +---coffeestatic--+\n",
    "       |                 |\n",
    "       |                 +-(Consolidated static resources)\n",
    "       |\n",
    "       +---coffeehouse--+\n",
    "                        |\n",
    "                        +-__init__.py\n",
    "                        +-settings.py\n",
    "                        +-urls.py\n",
    "                        +-wsgi.py\n",
    "                        |\n",
    "                        +---templates---+\n",
    "                                        +-app_base_template.html\n",
    "                                        +-app_header_template.html\n",
    "                                        +-app_footer_template.html\n",
    "```\n"
   ]
  },
  {
   "cell_type": "markdown",
   "metadata": {},
   "source": [
    "5.4. Django settings.py with absolute path values"
   ]
  },
  {
   "cell_type": "code",
   "execution_count": null,
   "metadata": {},
   "outputs": [],
   "source": [
    "# Other configuration variables omitted for brevity\n",
    "STATIC_ROOT = '/www/STORE/coffeestatic/'\n",
    "\n",
    "# Other configuration variables omitted for brevity\n",
    "TEMPLATES = [\n",
    "    {\n",
    "    'BACKEND': 'django.template.backends.django.DjangoTemplates',\n",
    "    'DIRS': ['/www/STORE/coffeehouse/templates/',],\n",
    "    }\n",
    "]\n"
   ]
  },
  {
   "cell_type": "markdown",
   "metadata": {},
   "source": [
    "5.5. Django settings.py with dynamically determined absolute path\n"
   ]
  },
  {
   "cell_type": "code",
   "execution_count": null,
   "metadata": {},
   "outputs": [],
   "source": [
    "BASE_DIR = os.path.dirname(os.path.dirname(os.path.abspath(__file__)))\n",
    "PROJECT_DIR = os.path.dirname(os.path.abspath(__file__))\n",
    "\n",
    "# Other configuration variables omitted for brevity\n",
    "STATIC_ROOT = '%s/coffeestatic/' % (BASE_DIR)\n",
    "\n",
    "# Other configuration variables omitted for brevity\n",
    "TEMPLATES = [\n",
    "    {\n",
    "    'BACKEND': 'django.template.backends.django.DjangoTemplates',\n",
    "    'DIRS': ['%s/templates/'% (PROJECT_DIR),],\n",
    "    }\n",
    "]"
   ]
  },
  {
   "cell_type": "markdown",
   "metadata": {},
   "source": [
    "5.6. Django settings.py with control variable with host name to load different sets of variables"
   ]
  },
  {
   "cell_type": "code",
   "execution_count": null,
   "metadata": {},
   "outputs": [],
   "source": [
    "if socket.gethostname().startswith('live'):\n",
    "    DJANGO_HOST = \"production\"\n",
    "elif socket.gethostname().startswith('test'):\n",
    "    DJANGO_HOST = \"testing\"\n",
    "else:\n",
    "    DJANGO_HOST = \"development\"\n",
    "\n",
    "# Define general behavior variables for DJANGO_HOST and all others\n",
    "if DJANGO_HOST == \"production\":\n",
    "    DEBUG = False\n",
    "    STATIC_URL = 'http://static.coffeehouse.com/'\n",
    "else:\n",
    "    DEBUG = True\n",
    "    STATIC_URL = '/static/'\n",
    "\n",
    "# Define DATABASES variable for DJANGO_HOST and all others\n",
    "if DJANGO_HOST == \"production\":\n",
    "    # Use mysql for live host\n",
    "    DATABASES = {\n",
    "        'default': {\n",
    "            'NAME': 'housecoffee',\n",
    "            'ENGINE': 'django.db.backends.mysql',\n",
    "            'USER': 'coffee',\n",
    "            'PASSWORD': 'secretpass'\n",
    "        }\n",
    "    }\n",
    "else:\n",
    "    # Use sqlite for non live host\n",
    "    DATABASES = {\n",
    "        'default': {\n",
    "            'ENGINE': 'django.db.backends.sqlite3',\n",
    "            'NAME': os.path.join(BASE_DIR, 'coffee.sqlite3'),\n",
    "        }\n",
    "    }\n",
    "\n",
    "# Define EMAIL_BACKEND variable for DJANGO_HOST\n",
    "if DJANGO_HOST == \"production\":\n",
    "    # Output to SMTP server on DJANGO_HOST production\n",
    "    EMAIL_BACKEND = 'django.core.mail.backends.smtp.EmailBackend'\n",
    "elif DJANGO_HOST == \"testing\":\n",
    "    # Nullify output on DJANGO_HOST test\n",
    "    EMAIL_BACKEND = 'django.core.mail.backends.dummy.EmailBackend'\n",
    "else:\n",
    "    # Output to console for all others\n",
    "    EMAIL_BACKEND = 'django.core.mail.backends.console.EmailBackend'\n",
    "\n",
    "# Define CACHES variable for DJANGO_HOST production and all other hosts\n",
    "if DJANGO_HOST == \"production\":\n",
    "    # Set cache\n",
    "    CACHES = {\n",
    "        'default': {\n",
    "            'BACKEND': 'django.core.cache.backends.memcached.MemcachedCache',\n",
    "            'LOCATION': '127.0.0.1:11211',\n",
    "            'TIMEOUT':'1800',\n",
    "        }\n",
    "    }\n",
    "    CACHE_MIDDLEWARE_SECONDS = 1800\n",
    "else:\n",
    "    # No cache for all other hosts\n",
    "    pass\n"
   ]
  },
  {
   "cell_type": "markdown",
   "metadata": {},
   "source": [
    "5.7. Python configparser sample file production.cfg"
   ]
  },
  {
   "cell_type": "code",
   "execution_count": null,
   "metadata": {},
   "outputs": [],
   "source": [
    "[general]\n",
    "DEBUG: false\n",
    "STATIC_URL: http://static.coffeehouse.com/\n",
    "\n",
    "[databases]\n",
    "NAME: housecoffee\n",
    "ENGINE: django.db.backends.mysql\n",
    "USER: coffee\n",
    "PASSWORD: secretpass\n",
    "\n",
    "[security]\n",
    "SECRET_KEY: %%ea)cjy@v9(7!b(20gl+4-6iur28dy=tc4f$-zbm-v=!t"
   ]
  },
  {
   "cell_type": "markdown",
   "metadata": {},
   "source": [
    "5.8. Django settings.py with configparser import\n"
   ]
  },
  {
   "cell_type": "code",
   "execution_count": null,
   "metadata": {},
   "outputs": [],
   "source": [
    "BASE_DIR = os.path.dirname(os.path.dirname(os.path.abspath(__file__)))\n",
    "PROJECT_DIR = os.path.dirname(os.path.abspath(__file__))\n",
    "\n",
    "# Access configparser to load variable values\n",
    "from django.utils.six.moves import configparser\n",
    "config = configparser.SafeConfigParser(allow_no_value=True)\n",
    "\n",
    "# Import socket to read host name\n",
    "import socket\n",
    "if socket.gethostname().startswith('live'):\n",
    "    config.read('%s/production.cfg' % (PROJECT_DIR))\n",
    "elif socket.gethostname().startswith('test'):\n",
    "    config.read('%s/testing.cfg' % (PROJECT_DIR))\n",
    "else:\n",
    "    config.read('%s/development.cfg' % (PROJECT_DIR))\n",
    "\n",
    "DEBUG = config.get('general', 'DEBUG')\n",
    "STATIC_URL = config.get('general', 'STATIC_URL')\n",
    "DATABASES = {\n",
    "    'default': {\n",
    "        'NAME': config.get('databases', 'NAME'),\n",
    "        'ENGINE': config.get('databases', 'ENGINE'),\n",
    "        'USER': config.get('databases', 'USER'),\n",
    "        'PASSWORD': config.get('databases', 'PASSWORD')\n",
    "    }\n",
    "}\n",
    "SECRET_KEY = config.get('security', 'SECRET_KEY')\n"
   ]
  },
  {
   "cell_type": "markdown",
   "metadata": {},
   "source": [
    "5.9. Override DJANGO_SETTINGS_MODULE to load application variables from a file called testing.py and not the default settings.py\n"
   ]
  },
  {
   "cell_type": "code",
   "execution_count": null,
   "metadata": {},
   "outputs": [],
   "source": [
    "!export DJANGO_SETTINGS_MODULE=coffeehouse.load_testing\n",
    "!python manage.py runserver\n"
   ]
  },
  {
   "cell_type": "markdown",
   "metadata": {},
   "source": [
    "## Set Up Static Web Page Resources - Images, CSS, JavaScript\n"
   ]
  }
 ],
 "metadata": {
  "interpreter": {
   "hash": "7a9e02a1f826380158911783ea17643d2a23bf263a4f25f2922627e4a1f5859b"
  },
  "kernelspec": {
   "display_name": "Python 2.7.18 64-bit ('env': venv)",
   "language": "python",
   "name": "python3"
  },
  "language_info": {
   "codemirror_mode": {
    "name": "ipython",
    "version": 2
   },
   "file_extension": ".py",
   "mimetype": "text/x-python",
   "name": "python",
   "nbconvert_exporter": "python",
   "pygments_lexer": "ipython2",
   "version": "2.7.18"
  },
  "orig_nbformat": 4
 },
 "nbformat": 4,
 "nbformat_minor": 2
}
