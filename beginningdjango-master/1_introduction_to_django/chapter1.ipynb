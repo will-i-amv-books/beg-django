{
 "cells": [
  {
   "cell_type": "markdown",
   "metadata": {},
   "source": [
    "# Install prerequisites"
   ]
  },
  {
   "cell_type": "code",
   "execution_count": null,
   "metadata": {},
   "outputs": [],
   "source": [
    "# Install python 2\n",
    "\n",
    "!sudo apt-get install python2\n",
    "\n",
    "# Install pip\n",
    "\n",
    "!sudo apt update\n",
    "!curl https://bootstrap.pypa.io/pip/2.7/get-pip.py --output get-pip.py\n",
    "!sudo python2 get-pip.py\n",
    "\n",
    "# Install virtualenv\n",
    "\n",
    "!pip install virtualenv\n"
   ]
  }
 ],
 "metadata": {
  "interpreter": {
   "hash": "bf07b57e7109f7f947a2405a2180e439325e32c47821589b4f7536949601a1a1"
  },
  "kernelspec": {
   "display_name": "Python 2.7.18 64-bit ('env': venv)",
   "language": "python",
   "name": "python3"
  },
  "language_info": {
   "codemirror_mode": {
    "name": "ipython",
    "version": 2
   },
   "file_extension": ".py",
   "mimetype": "text/x-python",
   "name": "python",
   "nbconvert_exporter": "python",
   "pygments_lexer": "ipython2",
   "version": "2.7.18"
  },
  "orig_nbformat": 4
 },
 "nbformat": 4,
 "nbformat_minor": 2
}
