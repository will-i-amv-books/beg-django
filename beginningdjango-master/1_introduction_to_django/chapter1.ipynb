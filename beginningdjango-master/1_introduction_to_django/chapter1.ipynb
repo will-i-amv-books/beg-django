{
 "cells": [
  {
   "cell_type": "markdown",
   "metadata": {},
   "source": [
    "# Install prerequisites"
   ]
  },
  {
   "cell_type": "markdown",
   "metadata": {},
   "source": [
    "Install python, pip and virtualenv"
   ]
  },
  {
   "cell_type": "code",
   "execution_count": null,
   "metadata": {},
   "outputs": [],
   "source": [
    "!sudo apt-get install python2\n",
    "\n",
    "!sudo apt update\n",
    "!curl https://bootstrap.pypa.io/pip/2.7/get-pip.py --output get-pip.py\n",
    "!sudo python2 get-pip.py\n",
    "\n",
    "!pip install virtualenv\n"
   ]
  },
  {
   "cell_type": "markdown",
   "metadata": {},
   "source": [
    "# Install Django"
   ]
  },
  {
   "cell_type": "markdown",
   "metadata": {},
   "source": [
    "Create a virtual environment and install Django in it"
   ]
  },
  {
   "cell_type": "code",
   "execution_count": null,
   "metadata": {},
   "outputs": [],
   "source": [
    "!cd ../..\n",
    "!virtualenv --python=2.7 env\n",
    "!source env/bin/activate\n",
    "!pip install -r requirements.txt\n"
   ]
  }
 ],
 "metadata": {
  "interpreter": {
   "hash": "bf07b57e7109f7f947a2405a2180e439325e32c47821589b4f7536949601a1a1"
  },
  "kernelspec": {
   "display_name": "Python 2.7.18 64-bit ('env': venv)",
   "language": "python",
   "name": "python3"
  },
  "language_info": {
   "codemirror_mode": {
    "name": "ipython",
    "version": 2
   },
   "file_extension": ".py",
   "mimetype": "text/x-python",
   "name": "python",
   "nbconvert_exporter": "python",
   "pygments_lexer": "ipython2",
   "version": "2.7.18"
  },
  "orig_nbformat": 4
 },
 "nbformat": 4,
 "nbformat_minor": 2
}
